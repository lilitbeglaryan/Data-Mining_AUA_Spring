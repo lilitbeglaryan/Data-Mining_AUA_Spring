{
 "cells": [
  {
   "cell_type": "code",
   "execution_count": null,
   "id": "957faa28",
   "metadata": {},
   "outputs": [],
   "source": [
    "# Data Mining\n",
    "# HW#1\n",
    "# Student: Lilit Beglaryan\n"
   ]
  },
  {
   "cell_type": "code",
   "execution_count": null,
   "id": "15ed43da",
   "metadata": {},
   "outputs": [],
   "source": [
    "# SECTION 1\n",
    "# Q1: How many bins are in histogram?\n",
    "\n",
    "# Answer: 15, although the second last interval has 0 points in it, \n",
    "# it is still an empty bin"
   ]
  },
  {
   "cell_type": "code",
   "execution_count": null,
   "id": "234df087",
   "metadata": {},
   "outputs": [],
   "source": [
    "# Q2: How many observations are in histogram?\n",
    "\n",
    "# Answer: 4+4+6+7+6+19+12+11+7+12+7+2+2+1 = 100 observations"
   ]
  },
  {
   "cell_type": "code",
   "execution_count": null,
   "id": "8ba7b22e",
   "metadata": {},
   "outputs": [],
   "source": [
    "# Q3: What IQR stands for and what it shows?\n",
    "\n",
    "# # Answer: Interquartile Range, IQR is a measure of the spread of the data(measure of statistical dispersion), it shows the \n",
    "# value range of the middle half of the data(order the data in ascending order,basically calculate the 25%(0.25)\n",
    "#  trimmed-mean and then compute the range=max-min, that will be the IQR ). So, it shows the range of the middle 50% of the data and \n",
    "# can be used to leave out the low and high outliers from consideration. \n",
    "# IQR= Q3 quartile(0.75 percentile)-Q1 quartile(0.25 perecentile)"
   ]
  },
  {
   "cell_type": "code",
   "execution_count": null,
   "id": "bccefe7f",
   "metadata": {},
   "outputs": [],
   "source": [
    "#  Q4: What is an outlier?\n",
    "\n",
    "# # Answer: An outlier is a datapoint that does not adhere to the general pattern of the data, \n",
    "# it differs from the rest of the datapoints. It can be caused by many reasons, such as having a measurement mistake \n",
    "# while recording the data(for ex. the measuring devices got out of order), or by nature, \n",
    "# this variability is normal(the price of a house in the center of Yerevan is comparatively larger \n",
    "# than the ones in the suburbs). However, outliers should not all at once be eliminated from the data unless we know the\n",
    "# exact process that lies beyond the data and the \"outliers\" that are natural to that distribution should be kept.\n",
    "# "
   ]
  },
  {
   "cell_type": "code",
   "execution_count": 39,
   "id": "57697840",
   "metadata": {},
   "outputs": [
    {
     "name": "stdout",
     "output_type": "stream",
     "text": [
      "0.9422888599436029\n",
      "[[nan nan]\n",
      " [nan  1.]]\n"
     ]
    }
   ],
   "source": [
    "#  Q5: Create two samples each containing 3 observations, where correlation is 0.\n",
    "import numpy as np\n",
    "import scipy.stats as st\n",
    "x = np.random.randn(3)\n",
    "y = np.random.randn(3)\n",
    "correl1 = st.pearsonr(x,y)\n",
    "# print(x)\n",
    "# print(y)\n",
    "print(correl1[0])\n",
    "\n",
    "\n",
    "# a = np.array([1,1,1])\n",
    "# b = np.array([3,4,5])\n",
    "# correl2 = st.pearsonr(a,b)\n",
    "# print(correl2)\n",
    "\n",
    "# a = np.array([1,1,1])\n",
    "# b = np.array([3,4,5])\n",
    "# correl2 = np.corrcoef(a,b)\n",
    "# print(correl2)\n",
    "\n",
    "#for example one or both of them contain equal datapoints\n",
    "a = np.array([1,1,1])\n",
    "b = np.array([3,4,5])\n",
    "r = np.corrcoef(a,b)\n",
    "print(r)\n",
    "\n",
    "\n",
    "\n",
    "#for instance (1,1,1) and (3,4,5) have a correlation=0"
   ]
  },
  {
   "cell_type": "code",
   "execution_count": 132,
   "id": "ba296e66",
   "metadata": {},
   "outputs": [
    {
     "name": "stdout",
     "output_type": "stream",
     "text": [
      "(10, 10, 10, 10)\n",
      "sd: 0.0\n",
      "var: 0\n"
     ]
    }
   ],
   "source": [
    "# Q6. Can standard deviation and variance of sample be the same? If yes, explain how\n",
    "# \n",
    "#  Answer: yes if both the sd and var are 1 for example by chance or another scenario is \n",
    "# if all the datapoints are equal, both of them will be 0.\n",
    "import statistics\n",
    "from itertools import repeat\n",
    "import math\n",
    "x = tuple(repeat(10,4))\n",
    "print(x)\n",
    "print(\"sd: \"+ str(statistics.stdev(x)))\n",
    "print(\"var: \"+ str(statistics.variance(x)))"
   ]
  },
  {
   "cell_type": "code",
   "execution_count": 34,
   "id": "da0173cc",
   "metadata": {},
   "outputs": [
    {
     "name": "stdout",
     "output_type": "stream",
     "text": [
      "1.8708286933869707\n",
      "1.8708286933869707\n"
     ]
    }
   ],
   "source": [
    "# Q7. Imagine you have following two samples {1, 2, 3, 4, 5, 6} and {111, 112, 113, 114, 115, 116}. Which\n",
    "# sample standard deviation is bigger?\n",
    "\n",
    "# Answer: No matter how large the elements in both samples are,\n",
    "# since all of them were increased by the same scale,\n",
    "# the range in both cases are the same\n",
    "# (the difference between elements and their mean is the same), \n",
    "#  #of elements is the same,\n",
    "# and sd, being the squared mean of (x_i - x_mean)^2\n",
    "# is the same since although 111,112,... are larger than 1,2,3... \n",
    "# they and their mean are scaled proportianately\n"
   ]
  },
  {
   "cell_type": "code",
   "execution_count": null,
   "id": "1852ca7c",
   "metadata": {},
   "outputs": [],
   "source": [
    "# # Q8. Describe systematic sampling.\n",
    "\n",
    "# Systematic sampling is a way in probabilistic sampling(selecting a part of the whole population under the focus)\n",
    "# in which we pick a random starting datapoint and define how many datapoints we need to include in our sample,\n",
    "# then the jumping interval for choosing the next datapoint is = size of population/ size of the sample. \n",
    "# The randomness here comes because of the random choice of the starting point.\n",
    "# It might however overrepresent some patterns that appear at every period\n",
    "# but is a quite useful approach when there is a natural randomness in the data."
   ]
  },
  {
   "cell_type": "code",
   "execution_count": null,
   "id": "62c3f045",
   "metadata": {},
   "outputs": [],
   "source": [
    "# # Q9. What is the difference between stratified and cluster sampling?\n",
    "\n",
    "# Clustering breaks our data into random groups(can be also heteregenoud) without any criteria,\n",
    "# and then randomly taking SOME groups ENTIRELY \n",
    "# and this dissimilarity within the groups provide a diverse representation of the target population.  \n",
    "# Stratified sampling breaks the population into homogenous groups \n",
    "# and takes PART of ALL groups still providing that wide representation of the population.\n",
    "# If the population is more heteregenous then stratified sampling can be more helpful,\n",
    "# if it is homogenous then randomly break them by clustering"
   ]
  },
  {
   "cell_type": "code",
   "execution_count": null,
   "id": "563049c8",
   "metadata": {},
   "outputs": [],
   "source": [
    "# Q10. What is the range of this sample: {1, 20, 30, 0, -10, 20, 96, -14}\n",
    "\n",
    "# range=max-min = 96 - (-14) = 110"
   ]
  },
  {
   "cell_type": "code",
   "execution_count": 134,
   "id": "9f5430b1",
   "metadata": {},
   "outputs": [
    {
     "name": "stdout",
     "output_type": "stream",
     "text": [
      "1953125\n"
     ]
    }
   ],
   "source": [
    "# SECTION 2\n",
    "# Q1. Create new variable named var_1 and assign 5 to it. Using while loop raise var_1 to power 3 until it\n",
    "# will be higher then 1290. Print your value.\n",
    "\n",
    "var_1 = 5\n",
    "while(var_1 <= 1290):\n",
    "    var_1 **= 3\n",
    "print(var_1)"
   ]
  },
  {
   "cell_type": "code",
   "execution_count": 57,
   "id": "9e254fdc",
   "metadata": {},
   "outputs": [
    {
     "name": "stdout",
     "output_type": "stream",
     "text": [
      "[40, 35, 37, 33, 43, 31, 36, 33, 32, 40]\n",
      "360\n"
     ]
    }
   ],
   "source": [
    "# Q2. Create list named list_1 containing 10 numbers. Using for loop calculate sum of the values. (Hint\n",
    "# create one variable, assign to it 0 and sum values to that variable)\n",
    "\n",
    "\n",
    "list_1 = list(np.random.randint(30,45,size = 10,dtype=\"int64\")) # int64 for avoiding overflow of values in int range in the next ex.\n",
    "print(list_1)\n",
    "count = 0\n",
    "for element in list_1:\n",
    "    count+=element\n",
    "print(count)\n"
   ]
  },
  {
   "cell_type": "code",
   "execution_count": 135,
   "id": "89b5ed43",
   "metadata": {},
   "outputs": [
    {
     "name": "stdout",
     "output_type": "stream",
     "text": [
      "3464976227328000\n",
      "[40, 35, 37, 33, 43, 31, 36, 33, 32, 40]\n"
     ]
    }
   ],
   "source": [
    "# Q3: Product\n",
    "product = 1\n",
    "for e in list_1:\n",
    "    product *= e\n",
    "print(product)\n",
    "print(list_1)"
   ]
  },
  {
   "cell_type": "code",
   "execution_count": 136,
   "id": "1d123607",
   "metadata": {},
   "outputs": [
    {
     "name": "stdout",
     "output_type": "stream",
     "text": [
      "[77, 58, 21, 64, 26, 21, 33, 32, 2, 74]\n",
      "[77, 58, 21, 64, 26, 21, 33, 32, 2, 74, 200, 300]\n",
      "[21, 64, 26, 21, 33, 32, 2, 74, 200, 300]\n"
     ]
    }
   ],
   "source": [
    "# Q4. Create new list named list_2 that contains 10 elements. Add 2 more elements to your list and remove\n",
    "# first 2.\n",
    "\n",
    "list_2 = list(np.random.randint(1,100,10))\n",
    "print(list_2)\n",
    "list_2.append(200)\n",
    "list_2.append(300)\n",
    "print(list_2)\n",
    "list_2.pop(0)\n",
    "list_2.pop(0)\n",
    "print(list_2)\n",
    "\n",
    "# or \n",
    "\n",
    "# del list_2[0:2]\n",
    "# print(list_2)"
   ]
  },
  {
   "cell_type": "code",
   "execution_count": 78,
   "id": "d9b210a7",
   "metadata": {},
   "outputs": [
    {
     "name": "stdout",
     "output_type": "stream",
     "text": [
      "[18, 36, 54, 72, 90, 108, 126, 144, 162, 180, 198, 216, 234, 252, 270, 288, 306, 324, 342, 360, 378, 396, 414, 432, 450, 468, 486, 504, 522, 540, 558, 576, 594, 612, 630, 648, 666, 684, 702, 720, 738, 756, 774, 792, 810, 828, 846, 864, 882, 900, 918, 936, 954, 972, 990]\n"
     ]
    }
   ],
   "source": [
    "# Q5. Create empty list named list_3. Using for loop add all even numbers between range 1 - 1000 that you\n",
    "# can devide by 9 too to your list_3.\n",
    "\n",
    "list_3 = []\n",
    "for i in range(1,1000):\n",
    "    if(i % 2 == 0 and i % 9 == 0):\n",
    "        list_3.append(i)\n",
    "print(list_3)"
   ]
  },
  {
   "cell_type": "code",
   "execution_count": 80,
   "id": "3b15c8e0",
   "metadata": {},
   "outputs": [
    {
     "name": "stdout",
     "output_type": "stream",
     "text": [
      "[21, 39, 57, 75, 93, 111, 129, 147, 165, 183, 201, 219, 237, 255, 273, 291, 309, 327, 345, 363, 381, 399, 417, 435, 453, 471, 489, 507, 525, 543, 561, 579, 597, 615, 633, 651, 669, 687, 705, 723, 741, 759, 777, 795, 813, 831, 849, 867, 885, 903, 921, 939, 957, 975, 993]\n"
     ]
    }
   ],
   "source": [
    "# Q6.Using for loop iterate over your list_3 and add 3 to all values of your list. Print your updated list_3.\n",
    "# (Hint: Use len() function and indexes of your list)\n",
    "\n",
    "for i in range(len(list_3)):\n",
    "    list_3[i] += 3\n",
    "print(list_3)"
   ]
  },
  {
   "cell_type": "code",
   "execution_count": 137,
   "id": "f18ca37d",
   "metadata": {},
   "outputs": [
    {
     "name": "stdout",
     "output_type": "stream",
     "text": [
      "{'Song': ['A', 'B', 'C', 'D', 'E'], 'URL': ['https://www.youtube.com/watch?v=-5pDGH9ktNo', 'https://www.youtube.com/watch?v=6Ye0NOn7nrI', 'https://www.youtube.com/watch?v=7DyaRNgVpas', 'https://www.youtube.com/watch?v=z_7MGy6SaMM', 'https://www.youtube.com/watch?v=rD_GM1cxKLI'], 'Singer': ['Nikos Vertis', 'Nikos Vertis', 'Nikos Vertis', 'Hauser', 'Arno Babajanyan']}\n"
     ]
    }
   ],
   "source": [
    "# Q7. Create dictionary that contains two keys.Name first key “Song” and second key “URL”. Add 5 your\n",
    "# favorite song names as values under first key and youtube links of those songs under second key. Add new\n",
    "# key named “Singer” and name of singers as values of your dictionary.\n",
    "\n",
    "dict_1 = {\n",
    "    \"Song\":[] ,\n",
    "    \"URL\":[]\n",
    "}\n",
    " \n",
    "dict_1[\"Song\"] = [\"A\", \"B\", \"C\", \"D\", \"E\"] # names were long to write\n",
    "dict_1[\"URL\"] = [\"https://www.youtube.com/watch?v=-5pDGH9ktNo\",\n",
    "                  \"https://www.youtube.com/watch?v=6Ye0NOn7nrI\",\n",
    "                 \"https://www.youtube.com/watch?v=7DyaRNgVpas\",\n",
    "                  \"https://www.youtube.com/watch?v=z_7MGy6SaMM\",\n",
    "                  \"https://www.youtube.com/watch?v=rD_GM1cxKLI\"\n",
    "                 ]\n",
    "dict_1[\"Singer\"] = [\"Nikos Vertis\",\"Nikos Vertis\",\"Nikos Vertis\", \"Hauser\", \"Arno Babajanyan\"]\n",
    "print(dict_1)"
   ]
  },
  {
   "cell_type": "code",
   "execution_count": 120,
   "id": "c3a3b6b6",
   "metadata": {},
   "outputs": [
    {
     "name": "stdout",
     "output_type": "stream",
     "text": [
      "['h', 'h', 2, 90]\n"
     ]
    }
   ],
   "source": [
    "# Q8. What is wrong with this script?\n",
    "\n",
    "#Line 1       # variable names can not start with a digit,however lists can contain different types\n",
    "#Line 2       # again var name should not start with a digit, cannot call a method with an index, put square brackets()\n",
    "#Line 3       # no : after the for statement,  list object can not be parsed into int as an argument to range()\n",
    "#Line 4       # if is not indented inside for and there is no : after if, for comparison = should be replaced by  ==\n",
    "#Line 5       # print is not indented to be inside if"
   ]
  },
  {
   "cell_type": "code",
   "execution_count": 125,
   "id": "0240c34b",
   "metadata": {},
   "outputs": [
    {
     "name": "stdout",
     "output_type": "stream",
     "text": [
      "[0, 1, 1, 2, 3, 5, 8, 13, 21, 34]\n"
     ]
    }
   ],
   "source": [
    "# Q9. create new list named list_4 and add first 10 elements\n",
    "# of Fibonacci sequence to your list\n",
    "\n",
    "n_1 = 0\n",
    "n_2 = 1\n",
    "list_4 = []\n",
    "\n",
    "for i in range(10):\n",
    "    list_4.append(n_1)\n",
    "    temp = n_2\n",
    "    n_2 += n_1\n",
    "    n_1 = temp\n",
    "print(list_4)\n",
    "    "
   ]
  },
  {
   "cell_type": "code",
   "execution_count": 138,
   "id": "2d5ef59c",
   "metadata": {},
   "outputs": [
    {
     "name": "stdout",
     "output_type": "stream",
     "text": [
      "5\n"
     ]
    }
   ],
   "source": [
    "# Q10. Write a program to get the largest number from a list [1,2,3,4,5,4,3,2,1]\n",
    "\n",
    "l = [1,2,3,4,5,4,3,2,1]\n",
    "maxim = l[0]\n",
    "for i in range(len(l)):\n",
    "    if(l[i] > maxim):\n",
    "        maxim = l[i]\n",
    "print(maxim)"
   ]
  },
  {
   "cell_type": "code",
   "execution_count": 131,
   "id": "c60896bd",
   "metadata": {},
   "outputs": [
    {
     "name": "stdout",
     "output_type": "stream",
     "text": [
      "[2, 4, 4, 2]\n"
     ]
    }
   ],
   "source": [
    "# Q11. Write a program to remove the odd numbers from a list [1,2,3,4,5,4,3,2,1]\n",
    "\n",
    "l_2 = [1,2,3,4,5,4,3,2,1]\n",
    "for e in l_2:\n",
    "    if (e % 2 != 0):\n",
    "        l_2.remove(e)\n",
    "print(l_2)"
   ]
  }
 ],
 "metadata": {
  "kernelspec": {
   "display_name": "Python 3 (ipykernel)",
   "language": "python",
   "name": "python3"
  },
  "language_info": {
   "codemirror_mode": {
    "name": "ipython",
    "version": 3
   },
   "file_extension": ".py",
   "mimetype": "text/x-python",
   "name": "python",
   "nbconvert_exporter": "python",
   "pygments_lexer": "ipython3",
   "version": "3.9.16"
  }
 },
 "nbformat": 4,
 "nbformat_minor": 5
}
