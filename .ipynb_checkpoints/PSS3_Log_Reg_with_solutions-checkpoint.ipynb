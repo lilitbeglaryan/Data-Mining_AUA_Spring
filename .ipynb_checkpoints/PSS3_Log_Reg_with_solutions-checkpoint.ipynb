{
 "cells": [
  {
   "cell_type": "markdown",
   "metadata": {},
   "source": [
    "# PSS3- Logistic Regression on Employee turnover(churn) data\n",
    "The following notebook provides an example code of analyzing Employee turnover(churn) using logistic regression. The dependent variable is Churn (1-yes, 0-no).\n",
    "\n",
    "\n",
    "The general sequence of steps for the analysis the following:\n",
    "\n",
    "1. Descriptive analysis\n",
    "2. Modelling (creating dummies, train test split)\n",
    "3. Logistic regression construction and interpretation (log odds, marginal effects)"
   ]
  },
  {
   "cell_type": "markdown",
   "metadata": {},
   "source": [
    " ## 1. Descriptive analysis\n",
    " \n",
    "The initial data consists of 14999 observations of 10 variables.There are 3008 duplicates in data, however we will Not drop them, as there is no employee ID or some uniquely defined variable using which we can identify each employee. In short, there might be just people having similar postitions, salary etc. Data overview hints that there are continuous (satisfaction_level,last_evaluation,average_montly_hours etc.), binary(promotion_last_5years,work_accident) and categorical (department, salary) features. Employee churn is not evenly balanced between 0s and 1s. As the countplot and value counts show, only about 23% of employees are leaving and ~76% are staying.So we can use this info as a naive assumption for newcomers to decide whether they'll leave or stay. In other words, if the resulting score is more than the noted value, then our model will be not bad, otherwise-a bad one.\n",
    "\n",
    "We also outlined several questions answers of can be observed visually.\n",
    "\n",
    "-Is there a relationship between satisfaction level, salary and churn? \n",
    "\n",
    "-What is the salary rate distribution by departments?\n",
    "\n",
    "-Which departments have the highest/lowest churn rate?\n",
    "\n",
    "The visualization shows that employee churn is connected with the satisfaction level. The boxplot shows that employees who left are on average less satisfied with the job, regardless of the salary. The highest paid department is management and it is also the one having highest staying rate. The lowest salary rate is at support department. HR is the department having hisghest churn rate.\n",
    "\n",
    "In case of logistic regression when constructing a heatmap we are mostly interested in identifying correlations between independent variables, as the target is binary and correlation between Y and X-s is not represenative in this case. The highest correlation is between average montly hours and number of projects (corr. coefficient is 0.42), which is logical as the more projects there are, the more time you spend for their implementation. Next comes number of projects and last evaluation, with 0.35 correlation coefficient."
   ]
  },
  {
   "cell_type": "code",
   "execution_count": 1,
   "metadata": {},
   "outputs": [],
   "source": [
    "import pandas as pd #to read and manipulate\n",
    "import numpy as np #to have math functions available \n",
    "\n",
    "from statsmodels.discrete.discrete_model import Logit #to run logistic regression. \n",
    "#OR \n",
    "from sklearn.linear_model import LogisticRegression\n",
    "import matplotlib.pyplot as plt\n",
    "import seaborn as sns\n",
    "from sklearn.preprocessing import LabelEncoder,OneHotEncoder\n",
    "from sklearn.utils import resample\n",
    "from sklearn.model_selection import train_test_split\n",
    "from sklearn.metrics import * #star means all metrics, so it imports all possible scores\n",
    "import statsmodels.tools as sm\n",
    "\n",
    "\n",
    "import warnings\n",
    "warnings.filterwarnings('ignore')"
   ]
  },
  {
   "cell_type": "code",
   "execution_count": 2,
   "metadata": {},
   "outputs": [],
   "source": [
    "data = pd.read_csv(\"turnover_data.csv\")"
   ]
  },
  {
   "cell_type": "code",
   "execution_count": 3,
   "metadata": {},
   "outputs": [
    {
     "data": {
      "text/html": [
       "<div>\n",
       "<style scoped>\n",
       "    .dataframe tbody tr th:only-of-type {\n",
       "        vertical-align: middle;\n",
       "    }\n",
       "\n",
       "    .dataframe tbody tr th {\n",
       "        vertical-align: top;\n",
       "    }\n",
       "\n",
       "    .dataframe thead th {\n",
       "        text-align: right;\n",
       "    }\n",
       "</style>\n",
       "<table border=\"1\" class=\"dataframe\">\n",
       "  <thead>\n",
       "    <tr style=\"text-align: right;\">\n",
       "      <th></th>\n",
       "      <th>satisfaction_level</th>\n",
       "      <th>last_evaluation</th>\n",
       "      <th>number_project</th>\n",
       "      <th>average_montly_hours</th>\n",
       "      <th>time_spend_company</th>\n",
       "      <th>work_accident</th>\n",
       "      <th>churn</th>\n",
       "      <th>promotion_last_5years</th>\n",
       "      <th>department</th>\n",
       "      <th>salary</th>\n",
       "    </tr>\n",
       "  </thead>\n",
       "  <tbody>\n",
       "    <tr>\n",
       "      <th>0</th>\n",
       "      <td>0.38</td>\n",
       "      <td>0.53</td>\n",
       "      <td>2</td>\n",
       "      <td>157</td>\n",
       "      <td>3</td>\n",
       "      <td>0</td>\n",
       "      <td>1</td>\n",
       "      <td>0</td>\n",
       "      <td>sales</td>\n",
       "      <td>low</td>\n",
       "    </tr>\n",
       "    <tr>\n",
       "      <th>1</th>\n",
       "      <td>0.80</td>\n",
       "      <td>0.86</td>\n",
       "      <td>5</td>\n",
       "      <td>262</td>\n",
       "      <td>6</td>\n",
       "      <td>0</td>\n",
       "      <td>1</td>\n",
       "      <td>0</td>\n",
       "      <td>sales</td>\n",
       "      <td>medium</td>\n",
       "    </tr>\n",
       "  </tbody>\n",
       "</table>\n",
       "</div>"
      ],
      "text/plain": [
       "   satisfaction_level  last_evaluation  number_project  average_montly_hours  \\\n",
       "0                0.38             0.53               2                   157   \n",
       "1                0.80             0.86               5                   262   \n",
       "\n",
       "   time_spend_company  work_accident  churn  promotion_last_5years department  \\\n",
       "0                   3              0      1                      0      sales   \n",
       "1                   6              0      1                      0      sales   \n",
       "\n",
       "   salary  \n",
       "0     low  \n",
       "1  medium  "
      ]
     },
     "execution_count": 3,
     "metadata": {},
     "output_type": "execute_result"
    }
   ],
   "source": [
    "data.head(2)"
   ]
  },
  {
   "cell_type": "code",
   "execution_count": 4,
   "metadata": {},
   "outputs": [
    {
     "name": "stdout",
     "output_type": "stream",
     "text": [
      "<class 'pandas.core.frame.DataFrame'>\n",
      "RangeIndex: 14999 entries, 0 to 14998\n",
      "Data columns (total 10 columns):\n",
      " #   Column                 Non-Null Count  Dtype  \n",
      "---  ------                 --------------  -----  \n",
      " 0   satisfaction_level     14999 non-null  float64\n",
      " 1   last_evaluation        14999 non-null  float64\n",
      " 2   number_project         14999 non-null  int64  \n",
      " 3   average_montly_hours   14999 non-null  int64  \n",
      " 4   time_spend_company     14999 non-null  int64  \n",
      " 5   work_accident          14999 non-null  int64  \n",
      " 6   churn                  14999 non-null  int64  \n",
      " 7   promotion_last_5years  14999 non-null  int64  \n",
      " 8   department             14999 non-null  object \n",
      " 9   salary                 14999 non-null  object \n",
      "dtypes: float64(2), int64(6), object(2)\n",
      "memory usage: 1.1+ MB\n"
     ]
    }
   ],
   "source": [
    "#information\n",
    "data.info()"
   ]
  },
  {
   "cell_type": "code",
   "execution_count": 5,
   "metadata": {},
   "outputs": [],
   "source": [
    "#make the datatype of binary variables to categorical\n",
    "data.work_accident = pd.Categorical(data.work_accident)\n",
    "data.promotion_last_5years = pd.Categorical(data.promotion_last_5years)\n"
   ]
  },
  {
   "cell_type": "code",
   "execution_count": 6,
   "metadata": {},
   "outputs": [
    {
     "data": {
      "text/plain": [
       "(14999, 10)"
      ]
     },
     "execution_count": 6,
     "metadata": {},
     "output_type": "execute_result"
    }
   ],
   "source": [
    "#how many rows we have in the dataset\n",
    "data.shape"
   ]
  },
  {
   "cell_type": "code",
   "execution_count": 7,
   "metadata": {},
   "outputs": [
    {
     "data": {
      "text/plain": [
       "array(['sales', 'accounting', 'hr', 'technical', 'support', 'management',\n",
       "       'IT', 'product_mng', 'marketing', 'RandD'], dtype=object)"
      ]
     },
     "execution_count": 7,
     "metadata": {},
     "output_type": "execute_result"
    }
   ],
   "source": [
    "#how many unique departments\n",
    "data.department.unique()"
   ]
  },
  {
   "cell_type": "code",
   "execution_count": 8,
   "metadata": {},
   "outputs": [
    {
     "name": "stdout",
     "output_type": "stream",
     "text": [
      "Duplicates: 3008\n",
      "Missing values: 0\n",
      "Single valued columns Index([], dtype='object')\n"
     ]
    }
   ],
   "source": [
    "#checking number of duplicates, missing values and columns with a single value\n",
    "print(\"Duplicates:\",data.duplicated().sum())\n",
    "print(\"Missing values:\", data.isna().sum().sum())\n",
    "print(\"Single valued columns\", data.columns[data.nunid(que()==True])"
   ]
  },
  {
   "cell_type": "code",
   "execution_count": 9,
   "metadata": {},
   "outputs": [
    {
     "data": {
      "image/png": "[encoded data removed]",
      "text/plain": [
       "<Figure size 648x360 with 1 Axes>"
      ]
     },
     "metadata": {
      "needs_background": "light"
     },
     "output_type": "display_data"
    }
   ],
   "source": [
    "#let's visualise the distribution of churn\n",
    "plt.figure(figsize=(9,5))\n",
    "sns.countplot(data.churn)\n",
    "plt.title(\"Churn distribution\")\n",
    "plt.show()"
   ]
  },
  {
   "cell_type": "code",
   "execution_count": 10,
   "metadata": {},
   "outputs": [
    {
     "data": {
      "text/plain": [
       "0    0.761917\n",
       "1    0.238083\n",
       "Name: churn, dtype: float64"
      ]
     },
     "execution_count": 10,
     "metadata": {},
     "output_type": "execute_result"
    }
   ],
   "source": [
    "#lets count the benchmark for employee churn\n",
    "data.churn.value_counts(normalize = True) #Getting proportions fo each category in whole. "
   ]
  },
  {
   "cell_type": "code",
   "execution_count": 11,
   "metadata": {},
   "outputs": [
    {
     "data": {
      "image/png": "[encoded data removed]",
      "text/plain": [
       "<Figure size 648x360 with 1 Axes>"
      ]
     },
     "metadata": {
      "needs_background": "light"
     },
     "output_type": "display_data"
    }
   ],
   "source": [
    "#Let's see the relationship of salary and satisfaction level via boxplot\n",
    "plt.figure(figsize=(9,5))\n",
    "sns.boxplot(x=\"salary\", y=\"satisfaction_level\", data=data, showmeans=True, hue=\"churn\")\n",
    "plt.legend(title='Employee churn', loc='upper right')\n",
    "plt.xlabel(\"Salary\")\n",
    "plt.ylabel(\"Satisfaction level\")\n",
    "plt.title(\"Employee satisfaction by salary and churn\",fontdict={\"fontsize\":16})\n",
    "plt.show()"
   ]
  },
  {
   "cell_type": "code",
   "execution_count": 12,
   "metadata": {},
   "outputs": [],
   "source": [
    "#creating churn rate and salary rate\n",
    "#data using groupby. parameter: \"normalize\"in value_counts() returns relative frequencies, \"mul\" multiplies by noted number\n",
    "#(in this case-100,to get %)\n",
    "churn_rate=data.groupby(\"department\")[\"churn\"].value_counts(normalize=True).rename(\"percentage\").mul(100).reset_index()\n",
    "salary_rate=data.groupby(\"department\")[\"salary\"].value_counts(normalize=True).rename(\"percentage\").mul(100).reset_index()"
   ]
  },
  {
   "cell_type": "code",
   "execution_count": 13,
   "metadata": {},
   "outputs": [
    {
     "data": {
      "image/png": "[encoded data removed]",
      "text/plain": [
       "<Figure size 864x504 with 1 Axes>"
      ]
     },
     "metadata": {
      "needs_background": "light"
     },
     "output_type": "display_data"
    }
   ],
   "source": [
    "#Salary rate by departments\n",
    "plt.figure(figsize=(12,7))\n",
    "sns.barplot(x=\"department\", y=\"percentage\", hue=\"salary\", data=salary_rate)\n",
    "plt.title(\"Salary rate by departments\")\n",
    "plt.show()"
   ]
  },
  {
   "cell_type": "code",
   "execution_count": 14,
   "metadata": {},
   "outputs": [
    {
     "data": {
      "image/png": "[encoded data removed]",
      "text/plain": [
       "<Figure size 648x360 with 1 Axes>"
      ]
     },
     "metadata": {
      "needs_background": "light"
     },
     "output_type": "display_data"
    }
   ],
   "source": [
    "#Employee churn rate by departments\n",
    "plt.figure(figsize=(9,5))\n",
    "sns.barplot(x=\"department\",y=\"percentage\", hue=\"churn\",data=churn_rate)\n",
    "plt.title(\"Employee churn rate by departments\")\n",
    "plt.show()"
   ]
  },
  {
   "cell_type": "code",
   "execution_count": 15,
   "metadata": {},
   "outputs": [
    {
     "data": {
      "image/png": "[encoded data removed]",
      "text/plain": [
       "<Figure size 432x288 with 2 Axes>"
      ]
     },
     "metadata": {
      "needs_background": "light"
     },
     "output_type": "display_data"
    }
   ],
   "source": [
    "#heatmap\n",
    "sns.heatmap(data.corr().abs().round(2),annot=True)\n",
    "plt.show()"
   ]
  },
  {
   "cell_type": "code",
   "execution_count": 16,
   "metadata": {},
   "outputs": [
    {
     "data": {
      "text/plain": [
       "salary\n",
       "high      0.637470\n",
       "low       0.600753\n",
       "medium    0.621817\n",
       "Name: satisfaction_level, dtype: float64"
      ]
     },
     "execution_count": 16,
     "metadata": {},
     "output_type": "execute_result"
    }
   ],
   "source": [
    "#mean satisfaction level by  salary group \n",
    "data.groupby(by = \"salary\")[\"satisfaction_level\"].mean()"
   ]
  },
  {
   "cell_type": "code",
   "execution_count": 17,
   "metadata": {},
   "outputs": [
    {
     "data": {
      "text/plain": [
       "department\n",
       "IT             0.618142\n",
       "RandD          0.619822\n",
       "accounting     0.582151\n",
       "hr             0.598809\n",
       "management     0.621349\n",
       "marketing      0.618601\n",
       "product_mng    0.619634\n",
       "sales          0.614447\n",
       "support        0.618300\n",
       "technical      0.607897\n",
       "Name: satisfaction_level, dtype: float64"
      ]
     },
     "execution_count": 17,
     "metadata": {},
     "output_type": "execute_result"
    }
   ],
   "source": [
    "#mean satisfaction level by department group \n",
    "data.groupby(by = \"department\")[\"satisfaction_level\"].mean()"
   ]
  },
  {
   "cell_type": "code",
   "execution_count": 18,
   "metadata": {},
   "outputs": [
    {
     "data": {
      "image/png": "[encoded data removed]",
      "text/plain": [
       "<Figure size 432x288 with 1 Axes>"
      ]
     },
     "metadata": {
      "needs_background": "light"
     },
     "output_type": "display_data"
    }
   ],
   "source": [
    "#countplot by the promotion in the last 5 years and churn \n",
    "sns.countplot(data.promotion_last_5years, hue = data.churn)\n",
    "plt.showgar"
   ]
  },
  {
   "cell_type": "code",
   "execution_count": 19,
   "metadata": {},
   "outputs": [],
   "source": [
    "#converting the variable to log scale \n",
    "data[\"time_spend_company\"] = np.log1p(data[\"time_spend_company\"])"
   ]
  },
  {
   "cell_type": "code",
   "execution_count": 20,
   "metadata": {},
   "outputs": [
    {
     "data": {
      "image/png": "[encoded data removed]",
      "text/plain": [
       "<Figure size 432x288 with 1 Axes>"
      ]
     },
     "metadata": {
      "needs_background": "light"
     },
     "output_type": "display_data"
    }
   ],
   "source": [
    "#THe dsitribution of time_spend_company variable is made more normal by loging it. \n",
    "#distribution of time_spend_company \n",
    "sns.distplot(data.time_spend_company, bins=10)\n",
    "plt.show()"
   ]
  },
  {
   "cell_type": "markdown",
   "metadata": {},
   "source": [
    "## 2. Modelling\n"
   ]
  },
  {
   "cell_type": "code",
   "execution_count": 21,
   "metadata": {},
   "outputs": [],
   "source": [
    "Y = data.churn\n",
    "X = data.drop(\"churn\", axis = 1)"
   ]
  },
  {
   "cell_type": "code",
   "execution_count": 22,
   "metadata": {},
   "outputs": [],
   "source": [
    "X = pd.get_dummies(X, drop_first=True)"
   ]
  },
  {
   "cell_type": "code",
   "execution_count": 23,
   "metadata": {},
   "outputs": [],
   "source": [
    "X0, X1, Y0, Y1 = train_test_split(X,Y, random_state = 42, test_size = 0.25)"
   ]
  },
  {
   "cell_type": "markdown",
   "metadata": {},
   "source": [
    "## 3. Logistic regression construction and interpretation "
   ]
  },
  {
   "cell_type": "code",
   "execution_count": 24,
   "metadata": {},
   "outputs": [],
   "source": [
    "Logistic = LogisticRegression(random_state = 10)\n",
    "results = Logistic.fit(X0,Y0)\n",
    "train_y_new = Logistic.predict(X0)\n",
    "test_y_new = Logistic.predict(X1)"
   ]
  },
  {
   "cell_type": "code",
   "execution_count": 25,
   "metadata": {},
   "outputs": [],
   "source": [
    "train_acc = accuracy_score(Y0,train_y_new)\n",
    "test_acc = accuracy_score(Y1,test_y_new)\n",
    "\n",
    "train_recall = recall_score(Y0,train_y_new)\n",
    "test_recall = recall_score(Y1,test_y_new)\n",
    "\n",
    "train_prec = precision_score(Y0,train_y_new)\n",
    "test_prec = precision_score(Y1,test_y_new)"
   ]
  },
  {
   "cell_type": "code",
   "execution_count": 26,
   "metadata": {},
   "outputs": [],
   "source": [
    "indx = [ 'Acc_train', 'Acc_test', \"Recall_train\", 'Recall_test', \"Precision_train\", 'Precision_test']\n",
    "results = pd.DataFrame(index=indx, columns=['Logistic'])\n",
    "name = results.columns[0]\n",
    "results[name] = [train_acc, test_acc, train_recall, test_recall, train_prec, test_prec]"
   ]
  },
  {
   "cell_type": "code",
   "execution_count": 27,
   "metadata": {},
   "outputs": [
    {
     "data": {
      "image/png": "[encoded data removed]",
      "text/plain": [
       "<Figure size 720x360 with 2 Axes>"
      ]
     },
     "metadata": {
      "needs_background": "light"
     },
     "output_type": "display_data"
    }
   ],
   "source": [
    "plt.figure(figsize = (10, 5))\n",
    "s = sns.heatmap(results,\n",
    "               annot = True, \n",
    "               cmap = 'RdBu',\n",
    "               vmin = 0, \n",
    "               vmax = 1)"
   ]
  },
  {
   "cell_type": "markdown",
   "metadata": {},
   "source": [
    "Recall (also known as sensitivity) is the measure of a model's ability to correctly identify all positive instances in a dataset.It is calculated as the ratio of true positive predictions to the total number of actual positive instances in the dataset.\\\n",
    "Precision is the measure of a model's ability to correctly identify only the positive instances in a dataset. It is calculated as the ratio of true positive predictions to the total number of positive predictions made by the model.\n"
   ]
  },
  {
   "cell_type": "markdown",
   "metadata": {},
   "source": [
    "## 4. Logistic regression model (log odds, marginal effects)\n",
    "We will construct the model based on statsmodels.api library, meaning will fit the data on training set and evaluate both for training and testing sets."
   ]
  },
  {
   "cell_type": "code",
   "execution_count": 28,
   "metadata": {},
   "outputs": [],
   "source": [
    "#as we are going to use not formula but X and Y data in the logit function, \n",
    "#so we need to add the intercept to data (X) manually\n",
    "X=sm.add_constant(X)"
   ]
  },
  {
   "cell_type": "code",
   "execution_count": 29,
   "metadata": {},
   "outputs": [],
   "source": [
    "X0, X1, Y0, Y1 = train_test_split(X,Y, random_state = 42, test_size = 0.25)"
   ]
  },
  {
   "cell_type": "code",
   "execution_count": 30,
   "metadata": {},
   "outputs": [],
   "source": [
    "model = Logit(Y0,X0)"
   ]
  },
  {
   "cell_type": "code",
   "execution_count": 31,
   "metadata": {},
   "outputs": [
    {
     "name": "stdout",
     "output_type": "stream",
     "text": [
      "Optimization terminated successfully.\n",
      "         Current function value: 0.418248\n",
      "         Iterations 7\n"
     ]
    }
   ],
   "source": [
    "results = model.fit()"
   ]
  },
  {
   "cell_type": "code",
   "execution_count": 32,
   "metadata": {
    "scrolled": true
   },
   "outputs": [
    {
     "data": {
      "text/html": [
       "<table class=\"simpletable\">\n",
       "<caption>Logit Regression Results</caption>\n",
       "<tr>\n",
       "  <th>Dep. Variable:</th>         <td>churn</td>      <th>  No. Observations:  </th>  <td> 11249</td> \n",
       "</tr>\n",
       "<tr>\n",
       "  <th>Model:</th>                 <td>Logit</td>      <th>  Df Residuals:      </th>  <td> 11230</td> \n",
       "</tr>\n",
       "<tr>\n",
       "  <th>Method:</th>                 <td>MLE</td>       <th>  Df Model:          </th>  <td>    18</td> \n",
       "</tr>\n",
       "<tr>\n",
       "  <th>Date:</th>            <td>Sat, 25 Mar 2023</td> <th>  Pseudo R-squ.:     </th>  <td>0.2374</td> \n",
       "</tr>\n",
       "<tr>\n",
       "  <th>Time:</th>                <td>15:38:46</td>     <th>  Log-Likelihood:    </th> <td> -4704.9</td>\n",
       "</tr>\n",
       "<tr>\n",
       "  <th>converged:</th>             <td>True</td>       <th>  LL-Null:           </th> <td> -6169.2</td>\n",
       "</tr>\n",
       "<tr>\n",
       "  <th>Covariance Type:</th>     <td>nonrobust</td>    <th>  LLR p-value:       </th>  <td> 0.000</td> \n",
       "</tr>\n",
       "</table>\n",
       "<table class=\"simpletable\">\n",
       "<tr>\n",
       "             <td></td>                <th>coef</th>     <th>std err</th>      <th>z</th>      <th>P>|z|</th>  <th>[0.025</th>    <th>0.975]</th>  \n",
       "</tr>\n",
       "<tr>\n",
       "  <th>const</th>                   <td>   -3.5165</td> <td>    0.253</td> <td>  -13.924</td> <td> 0.000</td> <td>   -4.012</td> <td>   -3.022</td>\n",
       "</tr>\n",
       "<tr>\n",
       "  <th>satisfaction_level</th>      <td>   -4.1386</td> <td>    0.114</td> <td>  -36.220</td> <td> 0.000</td> <td>   -4.363</td> <td>   -3.915</td>\n",
       "</tr>\n",
       "<tr>\n",
       "  <th>last_evaluation</th>         <td>    0.5948</td> <td>    0.175</td> <td>    3.403</td> <td> 0.001</td> <td>    0.252</td> <td>    0.937</td>\n",
       "</tr>\n",
       "<tr>\n",
       "  <th>number_project</th>          <td>   -0.3392</td> <td>    0.025</td> <td>  -13.554</td> <td> 0.000</td> <td>   -0.388</td> <td>   -0.290</td>\n",
       "</tr>\n",
       "<tr>\n",
       "  <th>average_montly_hours</th>    <td>    0.0046</td> <td>    0.001</td> <td>    7.545</td> <td> 0.000</td> <td>    0.003</td> <td>    0.006</td>\n",
       "</tr>\n",
       "<tr>\n",
       "  <th>time_spend_company</th>      <td>    1.9687</td> <td>    0.100</td> <td>   19.681</td> <td> 0.000</td> <td>    1.773</td> <td>    2.165</td>\n",
       "</tr>\n",
       "<tr>\n",
       "  <th>work_accident_1</th>         <td>   -1.5344</td> <td>    0.104</td> <td>  -14.761</td> <td> 0.000</td> <td>   -1.738</td> <td>   -1.331</td>\n",
       "</tr>\n",
       "<tr>\n",
       "  <th>promotion_last_5years_1</th> <td>   -1.4213</td> <td>    0.293</td> <td>   -4.856</td> <td> 0.000</td> <td>   -1.995</td> <td>   -0.848</td>\n",
       "</tr>\n",
       "<tr>\n",
       "  <th>department_RandD</th>        <td>   -0.5887</td> <td>    0.163</td> <td>   -3.607</td> <td> 0.000</td> <td>   -0.909</td> <td>   -0.269</td>\n",
       "</tr>\n",
       "<tr>\n",
       "  <th>department_accounting</th>   <td>    0.1118</td> <td>    0.143</td> <td>    0.782</td> <td> 0.434</td> <td>   -0.168</td> <td>    0.392</td>\n",
       "</tr>\n",
       "<tr>\n",
       "  <th>department_hr</th>           <td>    0.4101</td> <td>    0.143</td> <td>    2.864</td> <td> 0.004</td> <td>    0.129</td> <td>    0.691</td>\n",
       "</tr>\n",
       "<tr>\n",
       "  <th>department_management</th>   <td>   -0.2815</td> <td>    0.173</td> <td>   -1.624</td> <td> 0.104</td> <td>   -0.621</td> <td>    0.058</td>\n",
       "</tr>\n",
       "<tr>\n",
       "  <th>department_marketing</th>    <td>    0.1892</td> <td>    0.143</td> <td>    1.323</td> <td> 0.186</td> <td>   -0.091</td> <td>    0.470</td>\n",
       "</tr>\n",
       "<tr>\n",
       "  <th>department_product_mng</th>  <td>    0.0737</td> <td>    0.138</td> <td>    0.535</td> <td> 0.593</td> <td>   -0.196</td> <td>    0.344</td>\n",
       "</tr>\n",
       "<tr>\n",
       "  <th>department_sales</th>        <td>    0.1340</td> <td>    0.104</td> <td>    1.284</td> <td> 0.199</td> <td>   -0.071</td> <td>    0.338</td>\n",
       "</tr>\n",
       "<tr>\n",
       "  <th>department_support</th>      <td>    0.1945</td> <td>    0.114</td> <td>    1.705</td> <td> 0.088</td> <td>   -0.029</td> <td>    0.418</td>\n",
       "</tr>\n",
       "<tr>\n",
       "  <th>department_technical</th>    <td>    0.2576</td> <td>    0.110</td> <td>    2.342</td> <td> 0.019</td> <td>    0.042</td> <td>    0.473</td>\n",
       "</tr>\n",
       "<tr>\n",
       "  <th>salary_low</th>              <td>    1.9956</td> <td>    0.152</td> <td>   13.107</td> <td> 0.000</td> <td>    1.697</td> <td>    2.294</td>\n",
       "</tr>\n",
       "<tr>\n",
       "  <th>salary_medium</th>           <td>    1.4903</td> <td>    0.153</td> <td>    9.736</td> <td> 0.000</td> <td>    1.190</td> <td>    1.790</td>\n",
       "</tr>\n",
       "</table>"
      ],
      "text/plain": [
       "<class 'statsmodels.iolib.summary.Summary'>\n",
       "\"\"\"\n",
       "                           Logit Regression Results                           \n",
       "==============================================================================\n",
       "Dep. Variable:                  churn   No. Observations:                11249\n",
       "Model:                          Logit   Df Residuals:                    11230\n",
       "Method:                           MLE   Df Model:                           18\n",
       "Date:                Sat, 25 Mar 2023   Pseudo R-squ.:                  0.2374\n",
       "Time:                        15:38:46   Log-Likelihood:                -4704.9\n",
       "converged:                       True   LL-Null:                       -6169.2\n",
       "Covariance Type:            nonrobust   LLR p-value:                     0.000\n",
       "===========================================================================================\n",
       "                              coef    std err          z      P>|z|      [0.025      0.975]\n",
       "-------------------------------------------------------------------------------------------\n",
       "const                      -3.5165      0.253    -13.924      0.000      -4.012      -3.022\n",
       "satisfaction_level         -4.1386      0.114    -36.220      0.000      -4.363      -3.915\n",
       "last_evaluation             0.5948      0.175      3.403      0.001       0.252       0.937\n",
       "number_project             -0.3392      0.025    -13.554      0.000      -0.388      -0.290\n",
       "average_montly_hours        0.0046      0.001      7.545      0.000       0.003       0.006\n",
       "time_spend_company          1.9687      0.100     19.681      0.000       1.773       2.165\n",
       "work_accident_1            -1.5344      0.104    -14.761      0.000      -1.738      -1.331\n",
       "promotion_last_5years_1    -1.4213      0.293     -4.856      0.000      -1.995      -0.848\n",
       "department_RandD           -0.5887      0.163     -3.607      0.000      -0.909      -0.269\n",
       "department_accounting       0.1118      0.143      0.782      0.434      -0.168       0.392\n",
       "department_hr               0.4101      0.143      2.864      0.004       0.129       0.691\n",
       "department_management      -0.2815      0.173     -1.624      0.104      -0.621       0.058\n",
       "department_marketing        0.1892      0.143      1.323      0.186      -0.091       0.470\n",
       "department_product_mng      0.0737      0.138      0.535      0.593      -0.196       0.344\n",
       "department_sales            0.1340      0.104      1.284      0.199      -0.071       0.338\n",
       "department_support          0.1945      0.114      1.705      0.088      -0.029       0.418\n",
       "department_technical        0.2576      0.110      2.342      0.019       0.042       0.473\n",
       "salary_low                  1.9956      0.152     13.107      0.000       1.697       2.294\n",
       "salary_medium               1.4903      0.153      9.736      0.000       1.190       1.790\n",
       "===========================================================================================\n",
       "\"\"\""
      ]
     },
     "execution_count": 32,
     "metadata": {},
     "output_type": "execute_result"
    }
   ],
   "source": [
    "results.summary()"
   ]
  },
  {
   "cell_type": "markdown",
   "metadata": {},
   "source": [
    "The z here is not the intermiediate value. \n",
    "\n",
    "For a one-unit increase in satisfaction_level we expect on average a 4.1914 decrease in the log-odds of churn, holding all other independent variables constant.\n",
    "\n",
    "For employees with low salaries, we expect on average a 1.9639 increase in the log-odds of the dependent variable churn compared to the employees with high salaries.\n",
    "\n",
    "As we want to interpret probabilites, let's get marginal effects."
   ]
  },
  {
   "cell_type": "code",
   "execution_count": 33,
   "metadata": {},
   "outputs": [
    {
     "data": {
      "text/html": [
       "<table class=\"simpletable\">\n",
       "<caption>Logit Marginal Effects</caption>\n",
       "<tr>\n",
       "  <th>Dep. Variable:</th>  <td>churn</td> \n",
       "</tr>\n",
       "<tr>\n",
       "  <th>Method:</th>         <td>dydx</td>  \n",
       "</tr>\n",
       "<tr>\n",
       "  <th>At:</th>            <td>overall</td>\n",
       "</tr>\n",
       "</table>\n",
       "<table class=\"simpletable\">\n",
       "<tr>\n",
       "             <th></th>                <th>dy/dx</th>    <th>std err</th>      <th>z</th>      <th>P>|z|</th>  <th>[0.025</th>    <th>0.975]</th>  \n",
       "</tr>\n",
       "<tr>\n",
       "  <th>satisfaction_level</th>      <td>   -0.5558</td> <td>    0.012</td> <td>  -47.057</td> <td> 0.000</td> <td>   -0.579</td> <td>   -0.533</td>\n",
       "</tr>\n",
       "<tr>\n",
       "  <th>last_evaluation</th>         <td>    0.0799</td> <td>    0.023</td> <td>    3.408</td> <td> 0.001</td> <td>    0.034</td> <td>    0.126</td>\n",
       "</tr>\n",
       "<tr>\n",
       "  <th>number_project</th>          <td>   -0.0456</td> <td>    0.003</td> <td>  -13.864</td> <td> 0.000</td> <td>   -0.052</td> <td>   -0.039</td>\n",
       "</tr>\n",
       "<tr>\n",
       "  <th>average_montly_hours</th>    <td>    0.0006</td> <td> 8.08e-05</td> <td>    7.611</td> <td> 0.000</td> <td>    0.000</td> <td>    0.001</td>\n",
       "</tr>\n",
       "<tr>\n",
       "  <th>time_spend_company</th>      <td>    0.2644</td> <td>    0.013</td> <td>   20.804</td> <td> 0.000</td> <td>    0.239</td> <td>    0.289</td>\n",
       "</tr>\n",
       "<tr>\n",
       "  <th>work_accident_1</th>         <td>   -0.2061</td> <td>    0.014</td> <td>  -15.167</td> <td> 0.000</td> <td>   -0.233</td> <td>   -0.179</td>\n",
       "</tr>\n",
       "<tr>\n",
       "  <th>promotion_last_5years_1</th> <td>   -0.1909</td> <td>    0.039</td> <td>   -4.868</td> <td> 0.000</td> <td>   -0.268</td> <td>   -0.114</td>\n",
       "</tr>\n",
       "<tr>\n",
       "  <th>department_RandD</th>        <td>   -0.0791</td> <td>    0.022</td> <td>   -3.613</td> <td> 0.000</td> <td>   -0.122</td> <td>   -0.036</td>\n",
       "</tr>\n",
       "<tr>\n",
       "  <th>department_accounting</th>   <td>    0.0150</td> <td>    0.019</td> <td>    0.782</td> <td> 0.434</td> <td>   -0.023</td> <td>    0.053</td>\n",
       "</tr>\n",
       "<tr>\n",
       "  <th>department_hr</th>           <td>    0.0551</td> <td>    0.019</td> <td>    2.867</td> <td> 0.004</td> <td>    0.017</td> <td>    0.093</td>\n",
       "</tr>\n",
       "<tr>\n",
       "  <th>department_management</th>   <td>   -0.0378</td> <td>    0.023</td> <td>   -1.625</td> <td> 0.104</td> <td>   -0.083</td> <td>    0.008</td>\n",
       "</tr>\n",
       "<tr>\n",
       "  <th>department_marketing</th>    <td>    0.0254</td> <td>    0.019</td> <td>    1.323</td> <td> 0.186</td> <td>   -0.012</td> <td>    0.063</td>\n",
       "</tr>\n",
       "<tr>\n",
       "  <th>department_product_mng</th>  <td>    0.0099</td> <td>    0.018</td> <td>    0.535</td> <td> 0.593</td> <td>   -0.026</td> <td>    0.046</td>\n",
       "</tr>\n",
       "<tr>\n",
       "  <th>department_sales</th>        <td>    0.0180</td> <td>    0.014</td> <td>    1.284</td> <td> 0.199</td> <td>   -0.009</td> <td>    0.045</td>\n",
       "</tr>\n",
       "<tr>\n",
       "  <th>department_support</th>      <td>    0.0261</td> <td>    0.015</td> <td>    1.705</td> <td> 0.088</td> <td>   -0.004</td> <td>    0.056</td>\n",
       "</tr>\n",
       "<tr>\n",
       "  <th>department_technical</th>    <td>    0.0346</td> <td>    0.015</td> <td>    2.343</td> <td> 0.019</td> <td>    0.006</td> <td>    0.064</td>\n",
       "</tr>\n",
       "<tr>\n",
       "  <th>salary_low</th>              <td>    0.2680</td> <td>    0.020</td> <td>   13.384</td> <td> 0.000</td> <td>    0.229</td> <td>    0.307</td>\n",
       "</tr>\n",
       "<tr>\n",
       "  <th>salary_medium</th>           <td>    0.2002</td> <td>    0.020</td> <td>    9.839</td> <td> 0.000</td> <td>    0.160</td> <td>    0.240</td>\n",
       "</tr>\n",
       "</table>"
      ],
      "text/plain": [
       "<class 'statsmodels.iolib.summary.Summary'>\n",
       "\"\"\"\n",
       "        Logit Marginal Effects       \n",
       "=====================================\n",
       "Dep. Variable:                  churn\n",
       "Method:                          dydx\n",
       "At:                           overall\n",
       "===========================================================================================\n",
       "                             dy/dx    std err          z      P>|z|      [0.025      0.975]\n",
       "-------------------------------------------------------------------------------------------\n",
       "satisfaction_level         -0.5558      0.012    -47.057      0.000      -0.579      -0.533\n",
       "last_evaluation             0.0799      0.023      3.408      0.001       0.034       0.126\n",
       "number_project             -0.0456      0.003    -13.864      0.000      -0.052      -0.039\n",
       "average_montly_hours        0.0006   8.08e-05      7.611      0.000       0.000       0.001\n",
       "time_spend_company          0.2644      0.013     20.804      0.000       0.239       0.289\n",
       "work_accident_1            -0.2061      0.014    -15.167      0.000      -0.233      -0.179\n",
       "promotion_last_5years_1    -0.1909      0.039     -4.868      0.000      -0.268      -0.114\n",
       "department_RandD           -0.0791      0.022     -3.613      0.000      -0.122      -0.036\n",
       "department_accounting       0.0150      0.019      0.782      0.434      -0.023       0.053\n",
       "department_hr               0.0551      0.019      2.867      0.004       0.017       0.093\n",
       "department_management      -0.0378      0.023     -1.625      0.104      -0.083       0.008\n",
       "department_marketing        0.0254      0.019      1.323      0.186      -0.012       0.063\n",
       "department_product_mng      0.0099      0.018      0.535      0.593      -0.026       0.046\n",
       "department_sales            0.0180      0.014      1.284      0.199      -0.009       0.045\n",
       "department_support          0.0261      0.015      1.705      0.088      -0.004       0.056\n",
       "department_technical        0.0346      0.015      2.343      0.019       0.006       0.064\n",
       "salary_low                  0.2680      0.020     13.384      0.000       0.229       0.307\n",
       "salary_medium               0.2002      0.020      9.839      0.000       0.160       0.240\n",
       "===========================================================================================\n",
       "\"\"\""
      ]
     },
     "execution_count": 33,
     "metadata": {},
     "output_type": "execute_result"
    }
   ],
   "source": [
    "results.get_margeff().summary() "
   ]
  },
  {
   "cell_type": "markdown",
   "metadata": {},
   "source": [
    "<b> An Incremental increase in satisfaction level will decrease the probability of churn on average by 57.48% when other factors are held constant.\n",
    "Employees with low salary have on average 26.93% higher probability of churn compared to employees with high salaries. </b>"
   ]
  },
  {
   "cell_type": "markdown",
   "metadata": {},
   "source": [
    "Next Steps: Do feature engineering and tune the model. "
   ]
  },
  {
   "cell_type": "code",
   "execution_count": null,
   "metadata": {},
   "outputs": [],
   "source": []
  },
  {
   "cell_type": "code",
   "execution_count": null,
   "metadata": {},
   "outputs": [],
   "source": []
  }
 ],
 "metadata": {
  "kernelspec": {
   "display_name": "Python 3 (ipykernel)",
   "language": "python",
   "name": "python3"
  },
  "language_info": {
   "codemirror_mode": {
    "name": "ipython",
    "version": 3
   },
   "file_extension": ".py",
   "mimetype": "text/x-python",
   "name": "python",
   "nbconvert_exporter": "python",
   "pygments_lexer": "ipython3",
   "version": "3.9.16"
  }
 },
 "nbformat": 4,
 "nbformat_minor": 2
}
