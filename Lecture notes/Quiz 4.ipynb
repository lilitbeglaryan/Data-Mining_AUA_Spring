{
 "cells": [
  {
   "cell_type": "markdown",
   "id": "7a164191",
   "metadata": {},
   "source": [
    "# Name Surname:"
   ]
  },
  {
   "cell_type": "markdown",
   "id": "fa662887",
   "metadata": {},
   "source": [
    "# Date: 3/20/2023"
   ]
  },
  {
   "cell_type": "markdown",
   "id": "f1648021",
   "metadata": {},
   "source": [
    "# Quiz 4: Classification"
   ]
  },
  {
   "cell_type": "markdown",
   "id": "7afaec98",
   "metadata": {},
   "source": [
    "# Task Description: Your goal is to create at least 4 graphs analyzing nba_logreg.csv dataset. Description of variables is attached as metadata.png\n",
    "\n",
    "# After visualization create appropriate model for target_5yrs variable"
   ]
  },
  {
   "cell_type": "code",
   "execution_count": null,
   "id": "eb4444d9",
   "metadata": {},
   "outputs": [],
   "source": []
  },
  {
   "cell_type": "code",
   "execution_count": null,
   "id": "5cbb75a4",
   "metadata": {},
   "outputs": [],
   "source": []
  },
  {
   "cell_type": "code",
   "execution_count": null,
   "id": "dbb1544b",
   "metadata": {},
   "outputs": [],
   "source": []
  }
 ],
 "metadata": {
  "kernelspec": {
   "display_name": "Python 3 (ipykernel)",
   "language": "python",
   "name": "python3"
  },
  "language_info": {
   "codemirror_mode": {
    "name": "ipython",
    "version": 3
   },
   "file_extension": ".py",
   "mimetype": "text/x-python",
   "name": "python",
   "nbconvert_exporter": "python",
   "pygments_lexer": "ipython3",
   "version": "3.9.13"
  }
 },
 "nbformat": 4,
 "nbformat_minor": 5
}
