{
 "cells": [
  {
   "cell_type": "markdown",
   "metadata": {},
   "source": [
    "## Student: Lilit Beglaryan\n"
   ]
  },
  {
   "cell_type": "markdown",
   "metadata": {},
   "source": [
    "## About data:\n",
    " retrieved from : https://www.kaggle.com/competitions/titanic/overview\n",
    "\n",
    "The data is of some passengers of the well-known Titanic ship. While there was some randomness into who survived and who died in this tragic shipwrech, however it seems that some group of passengers were more likely than others to survive. \n",
    "\n",
    "The data contains information about passengers\n",
    "The main goal is to analyze the relationship between the characteristics of passengers and their survival in teh Titanic's shipwrecking. The goal is to predict on unseen data during the test stage. The description of the variables is given bellow:\n",
    "\n",
    " Survival -- 0=No  ,  1=Yes    (Target to be predicted)\n",
    "\n",
    "* PassengerId -- an assigned identifier to each passenger\n",
    "* Pclass -- (ticket class) \n",
    "1=Upper, 2=Middle, 3=Lower\n",
    "* Name -- name,last name\n",
    "* Sex -- male/female\n",
    "* Age -- age in years\n",
    "* Sibsp -- # of parents / children aboard the Titanic\n",
    "* Parch -- \t# of parents / children aboard the Titanic\n",
    "\n",
    "* Ticket -- Ticket number\n",
    "* Fare\t-- Passenger fare\n",
    "* Cabin\t-- Cabin number\t\n",
    "\n",
    "* Embarked -- Port of Embarkation\tC = Cherbourg, Q = Queenstown, S = Southampton\n"
   ]
  },
  {
   "cell_type": "code",
   "execution_count": 1,
   "metadata": {},
   "outputs": [],
   "source": [
    "from sklearn.metrics import precision_score, recall_score, f1_score, accuracy_score\n",
    "from sklearn.metrics import confusion_matrix"
   ]
  },
  {
   "cell_type": "code",
   "execution_count": 4,
   "metadata": {},
   "outputs": [],
   "source": [
    "import statsmodels.api as sm"
   ]
  },
  {
   "cell_type": "code",
   "execution_count": 5,
   "metadata": {},
   "outputs": [],
   "source": [
    "\n",
    "from sklearn import preprocessing\n",
    "\n",
    "from sklearn.linear_model import LogisticRegression\n",
    "\n",
    "from sklearn.metrics import classification_report"
   ]
  },
  {
   "cell_type": "code",
   "execution_count": 6,
   "metadata": {},
   "outputs": [],
   "source": [
    "import numpy as np\n",
    "import pandas as pd\n",
    "from sklearn.model_selection import train_test_split\n",
    "import scikit_posthocs as sp\n",
    "from scipy import stats\n",
    "pd.options.display.float_format = '{:,.4f}'.format"
   ]
  },
  {
   "cell_type": "code",
   "execution_count": 7,
   "metadata": {},
   "outputs": [],
   "source": [
    "train = pd.read_csv(\"train.csv\")\n",
    "test = pd.read_csv(\"test.csv\")\n",
    "\n"
   ]
  },
  {
   "cell_type": "code",
   "execution_count": 8,
   "metadata": {},
   "outputs": [
    {
     "name": "stdout",
     "output_type": "stream",
     "text": [
      "(891, 12)\n",
      "(418, 11)\n"
     ]
    }
   ],
   "source": [
    "print(train.shape)\n",
    "print(test.shape)"
   ]
  },
  {
   "cell_type": "code",
   "execution_count": 9,
   "metadata": {},
   "outputs": [
    {
     "name": "stdout",
     "output_type": "stream",
     "text": [
      "<class 'pandas.core.frame.DataFrame'>\n",
      "RangeIndex: 891 entries, 0 to 890\n",
      "Data columns (total 12 columns):\n",
      " #   Column       Non-Null Count  Dtype  \n",
      "---  ------       --------------  -----  \n",
      " 0   PassengerId  891 non-null    int64  \n",
      " 1   Survived     891 non-null    int64  \n",
      " 2   Pclass       891 non-null    int64  \n",
      " 3   Name         891 non-null    object \n",
      " 4   Sex          891 non-null    object \n",
      " 5   Age          714 non-null    float64\n",
      " 6   SibSp        891 non-null    int64  \n",
      " 7   Parch        891 non-null    int64  \n",
      " 8   Ticket       891 non-null    object \n",
      " 9   Fare         891 non-null    float64\n",
      " 10  Cabin        204 non-null    object \n",
      " 11  Embarked     889 non-null    object \n",
      "dtypes: float64(2), int64(5), object(5)\n",
      "memory usage: 83.7+ KB\n"
     ]
    }
   ],
   "source": [
    "train.info()"
   ]
  },
  {
   "cell_type": "code",
   "execution_count": 10,
   "metadata": {},
   "outputs": [],
   "source": [
    "train.dropna(subset = [\"Age\"], inplace = True)"
   ]
  },
  {
   "cell_type": "code",
   "execution_count": 11,
   "metadata": {},
   "outputs": [
    {
     "name": "stdout",
     "output_type": "stream",
     "text": [
      "529\n"
     ]
    }
   ],
   "source": [
    "print(train.Cabin.isna().sum()) #too many NaN values, so drop\n",
    "train.drop(columns=\"Cabin\",inplace=True)\n"
   ]
  },
  {
   "cell_type": "code",
   "execution_count": 12,
   "metadata": {},
   "outputs": [
    {
     "name": "stdout",
     "output_type": "stream",
     "text": [
      "<class 'pandas.core.frame.DataFrame'>\n",
      "Int64Index: 712 entries, 0 to 890\n",
      "Data columns (total 11 columns):\n",
      " #   Column       Non-Null Count  Dtype  \n",
      "---  ------       --------------  -----  \n",
      " 0   PassengerId  712 non-null    int64  \n",
      " 1   Survived     712 non-null    int64  \n",
      " 2   Pclass       712 non-null    int64  \n",
      " 3   Name         712 non-null    object \n",
      " 4   Sex          712 non-null    object \n",
      " 5   Age          712 non-null    float64\n",
      " 6   SibSp        712 non-null    int64  \n",
      " 7   Parch        712 non-null    int64  \n",
      " 8   Ticket       712 non-null    object \n",
      " 9   Fare         712 non-null    float64\n",
      " 10  Embarked     712 non-null    object \n",
      "dtypes: float64(2), int64(5), object(4)\n",
      "memory usage: 66.8+ KB\n"
     ]
    }
   ],
   "source": [
    "train.dropna(axis=0, subset=\"Embarked\", inplace=True) #drop the 2rows where leaving port(Embarked) is missing\n",
    "train.info()"
   ]
  },
  {
   "cell_type": "code",
   "execution_count": null,
   "metadata": {},
   "outputs": [],
   "source": []
  },
  {
   "cell_type": "code",
   "execution_count": 13,
   "metadata": {},
   "outputs": [
    {
     "name": "stdout",
     "output_type": "stream",
     "text": [
      "   Survived  Pclass     Sex     Age  SibSp  Parch    Fare\n",
      "0         0       3    male 22.0000      1      0  7.2500\n",
      "1         1       1  female 38.0000      1      0 71.2833\n",
      "2         1       3  female 26.0000      0      0  7.9250\n",
      "3         1       1  female 35.0000      1      0 53.1000\n",
      "4         0       3    male 35.0000      0      0  8.0500\n"
     ]
    }
   ],
   "source": [
    "### TRaining stage\n",
    "train.columns\n",
    "train.drop([\"Name\", \"Ticket\", \"Embarked\",\"PassengerId\"], axis = 1, inplace = True)  #since the names,ids, departure ports and ticket names do not\n",
    "# influence the survival\n",
    "\n",
    "\n",
    "print(train.head())\n"
   ]
  },
  {
   "cell_type": "code",
   "execution_count": 14,
   "metadata": {},
   "outputs": [
    {
     "name": "stdout",
     "output_type": "stream",
     "text": [
      "     Survived  IsMale     Age  SibSp  Parch    Fare  Pclass_2  Pclass_3\n",
      "0           0       1 22.0000      1      0  7.2500         0         1\n",
      "1           1       0 38.0000      1      0 71.2833         0         0\n",
      "2           1       0 26.0000      0      0  7.9250         0         1\n",
      "3           1       0 35.0000      1      0 53.1000         0         0\n",
      "4           0       1 35.0000      0      0  8.0500         0         1\n",
      "..        ...     ...     ...    ...    ...     ...       ...       ...\n",
      "885         0       0 39.0000      0      5 29.1250         0         1\n",
      "886         0       1 27.0000      0      0 13.0000         1         0\n",
      "887         1       0 19.0000      0      0 30.0000         0         0\n",
      "889         1       1 26.0000      0      0 30.0000         0         0\n",
      "890         0       1 32.0000      0      0  7.7500         0         1\n",
      "\n",
      "[712 rows x 8 columns]\n"
     ]
    }
   ],
   "source": [
    "train[\"Sex\"] = pd.get_dummies(train['Sex'],drop_first = True) #since model fitting only works for float64 dtypes not strings\n",
    "train.rename(columns = {'Sex':'IsMale'}, inplace = True)\n",
    "train = pd.get_dummies(train, columns = [\"Pclass\"], drop_first=True)\n",
    "\n",
    "print(train)"
   ]
  },
  {
   "cell_type": "code",
   "execution_count": 15,
   "metadata": {},
   "outputs": [
    {
     "name": "stdout",
     "output_type": "stream",
     "text": [
      "<class 'pandas.core.series.Series'>\n"
     ]
    }
   ],
   "source": [
    "y = train['Survived'].copy()\n",
    "\n",
    "X = train.drop([\"Survived\"],axis = 1)\n",
    "\n",
    "\n",
    "print(type(y))\n"
   ]
  },
  {
   "cell_type": "code",
   "execution_count": 16,
   "metadata": {},
   "outputs": [],
   "source": [
    "X_train, X_test, y_train, y_test = train_test_split(X,y ,random_state=104, test_size=0.25, shuffle=True)"
   ]
  },
  {
   "cell_type": "code",
   "execution_count": 17,
   "metadata": {},
   "outputs": [],
   "source": [
    "X_test= sm.add_constant(X_test)"
   ]
  },
  {
   "cell_type": "code",
   "execution_count": 18,
   "metadata": {},
   "outputs": [],
   "source": [
    "X_train= sm.add_constant(X_train)"
   ]
  },
  {
   "cell_type": "code",
   "execution_count": 19,
   "metadata": {},
   "outputs": [
    {
     "name": "stdout",
     "output_type": "stream",
     "text": [
      "Index(['const', 'IsMale', 'Age', 'SibSp', 'Parch', 'Fare', 'Pclass_2',\n",
      "       'Pclass_3'],\n",
      "      dtype='object')\n"
     ]
    }
   ],
   "source": [
    "print(X_test.columns)"
   ]
  },
  {
   "cell_type": "code",
   "execution_count": 20,
   "metadata": {},
   "outputs": [
    {
     "name": "stdout",
     "output_type": "stream",
     "text": [
      "Optimization terminated successfully.\n",
      "         Current function value: 0.459698\n",
      "         Iterations 6\n"
     ]
    }
   ],
   "source": [
    "log_reg = sm.Logit(np.asarray(y_train), X_train).fit()"
   ]
  },
  {
   "cell_type": "code",
   "execution_count": 21,
   "metadata": {},
   "outputs": [
    {
     "name": "stdout",
     "output_type": "stream",
     "text": [
      "                           Logit Regression Results                           \n",
      "==============================================================================\n",
      "Dep. Variable:                      y   No. Observations:                  534\n",
      "Model:                          Logit   Df Residuals:                      526\n",
      "Method:                           MLE   Df Model:                            7\n",
      "Date:                Tue, 21 Mar 2023   Pseudo R-squ.:                  0.3241\n",
      "Time:                        16:27:28   Log-Likelihood:                -245.48\n",
      "converged:                       True   LL-Null:                       -363.19\n",
      "Covariance Type:            nonrobust   LLR p-value:                 3.510e-47\n",
      "==============================================================================\n",
      "                 coef    std err          z      P>|z|      [0.025      0.975]\n",
      "------------------------------------------------------------------------------\n",
      "const          4.3885      0.588      7.466      0.000       3.236       5.541\n",
      "IsMale        -2.5209      0.253     -9.982      0.000      -3.016      -2.026\n",
      "Age           -0.0475      0.010     -4.921      0.000      -0.066      -0.029\n",
      "SibSp         -0.4393      0.140     -3.137      0.002      -0.714      -0.165\n",
      "Parch         -0.0774      0.145     -0.534      0.593      -0.361       0.207\n",
      "Fare           0.0021      0.003      0.755      0.450      -0.003       0.007\n",
      "Pclass_2      -1.2855      0.370     -3.474      0.001      -2.011      -0.560\n",
      "Pclass_3      -2.5081      0.382     -6.570      0.000      -3.256      -1.760\n",
      "==============================================================================\n"
     ]
    }
   ],
   "source": [
    "# printing the summary table\n",
    "print(log_reg.summary())  "
   ]
  },
  {
   "cell_type": "code",
   "execution_count": null,
   "metadata": {},
   "outputs": [],
   "source": [
    "#so  drop the Parch, Fare columns since they are not significant for alpha=0.05"
   ]
  },
  {
   "cell_type": "code",
   "execution_count": 22,
   "metadata": {
    "scrolled": true
   },
   "outputs": [],
   "source": [
    "train.drop([\"Parch\",\"Fare\"],axis = 1, inplace =True)"
   ]
  },
  {
   "cell_type": "code",
   "execution_count": 23,
   "metadata": {},
   "outputs": [],
   "source": [
    "y = train['Survived'].copy()\n",
    "\n",
    "X = train.drop([\"Survived\"],axis = 1)\n"
   ]
  },
  {
   "cell_type": "code",
   "execution_count": 24,
   "metadata": {},
   "outputs": [],
   "source": [
    "X_train, X_test, y_train, y_test = train_test_split(X,y ,random_state=104, test_size=0.25, shuffle=True)"
   ]
  },
  {
   "cell_type": "code",
   "execution_count": 25,
   "metadata": {},
   "outputs": [],
   "source": [
    "X_train= sm.add_constant(X_train)\n"
   ]
  },
  {
   "cell_type": "code",
   "execution_count": 26,
   "metadata": {},
   "outputs": [],
   "source": [
    "X_test=sm.add_constant(X_test)"
   ]
  },
  {
   "cell_type": "code",
   "execution_count": 27,
   "metadata": {},
   "outputs": [
    {
     "name": "stdout",
     "output_type": "stream",
     "text": [
      "Optimization terminated successfully.\n",
      "         Current function value: 0.460412\n",
      "         Iterations 6\n"
     ]
    }
   ],
   "source": [
    "#train again now only with the significant independent variables\n",
    "model = sm.Logit(y_train, X_train).fit()"
   ]
  },
  {
   "cell_type": "code",
   "execution_count": 28,
   "metadata": {},
   "outputs": [],
   "source": [
    "pred = model.predict(X_test)\n",
    "pred = list(map(round,pred))"
   ]
  },
  {
   "cell_type": "code",
   "execution_count": 29,
   "metadata": {},
   "outputs": [
    {
     "name": "stdout",
     "output_type": "stream",
     "text": [
      "Confusion Matrix : \n",
      " [[93 21]\n",
      " [11 53]]\n"
     ]
    }
   ],
   "source": [
    "cm = confusion_matrix(y_test, pred) \n",
    "print (\"Confusion Matrix : \\n\", cm) "
   ]
  },
  {
   "cell_type": "code",
   "execution_count": 30,
   "metadata": {},
   "outputs": [
    {
     "data": {
      "text/plain": [
       "0    424\n",
       "1    288\n",
       "Name: Survived, dtype: int64"
      ]
     },
     "execution_count": 30,
     "metadata": {},
     "output_type": "execute_result"
    }
   ],
   "source": [
    "# \n",
    "train[\"Survived\"].value_counts()  # imbalanced data since much more 0s than 1s, \n",
    "# so pay attention to the recall and precision of 1s(the smallest set of class)\n",
    "\n"
   ]
  },
  {
   "cell_type": "code",
   "execution_count": 31,
   "metadata": {},
   "outputs": [
    {
     "name": "stdout",
     "output_type": "stream",
     "text": [
      "Test accuracy =  0.8202247191011236\n"
     ]
    }
   ],
   "source": [
    "# accuracy score of the model\n",
    "print('Test accuracy = ', accuracy_score(y_test, pred))  #not so descriptive of our model's performance since the labels are not balanced"
   ]
  },
  {
   "cell_type": "code",
   "execution_count": 32,
   "metadata": {},
   "outputs": [
    {
     "name": "stdout",
     "output_type": "stream",
     "text": [
      "Precision Score =  0.7162162162162162\n"
     ]
    }
   ],
   "source": [
    "print('Precision Score = ', precision_score(y_test, pred))  #~~0.71 , \n",
    "# can be improved by resplitting the data and increasing the train data portion,\n",
    "# or adding more synthetic data and bringing it to a balance"
   ]
  },
  {
   "cell_type": "code",
   "execution_count": 33,
   "metadata": {},
   "outputs": [
    {
     "name": "stdout",
     "output_type": "stream",
     "text": [
      "Recall=  0.828125\n"
     ]
    }
   ],
   "source": [
    "print('Recall= ', recall_score(y_test, pred))  # ~~0.82 , \n",
    "# can be improved by resplitting the data and increasing the train data portion,\n",
    "# or adding more synthetic data and bringing to a balance"
   ]
  },
  {
   "cell_type": "code",
   "execution_count": 34,
   "metadata": {},
   "outputs": [
    {
     "name": "stdout",
     "output_type": "stream",
     "text": [
      "F1 Score=  0.7681159420289855\n"
     ]
    }
   ],
   "source": [
    "print('F1 Score= ', f1_score(y_test, pred))  # ~~0.77 , \n",
    "# can be improved by resplitting the data and increasing the train data portion, \n",
    "# or adding more synthetic data and bringing to a balance"
   ]
  },
  {
   "cell_type": "code",
   "execution_count": 35,
   "metadata": {},
   "outputs": [
    {
     "name": "stdout",
     "output_type": "stream",
     "text": [
      "                           Logit Regression Results                           \n",
      "==============================================================================\n",
      "Dep. Variable:               Survived   No. Observations:                  534\n",
      "Model:                          Logit   Df Residuals:                      528\n",
      "Method:                           MLE   Df Model:                            5\n",
      "Date:                Tue, 21 Mar 2023   Pseudo R-squ.:                  0.3230\n",
      "Time:                        16:28:42   Log-Likelihood:                -245.86\n",
      "converged:                       True   LL-Null:                       -363.19\n",
      "Covariance Type:            nonrobust   LLR p-value:                 1.077e-48\n",
      "==============================================================================\n",
      "                 coef    std err          z      P>|z|      [0.025      0.975]\n",
      "------------------------------------------------------------------------------\n",
      "const          4.5406      0.537      8.452      0.000       3.488       5.594\n",
      "IsMale        -2.5079      0.248    -10.129      0.000      -2.993      -2.023\n",
      "Age           -0.0480      0.010     -4.989      0.000      -0.067      -0.029\n",
      "SibSp         -0.4484      0.132     -3.397      0.001      -0.707      -0.190\n",
      "Pclass_2      -1.4090      0.333     -4.227      0.000      -2.062      -0.756\n",
      "Pclass_3      -2.6644      0.328     -8.134      0.000      -3.306      -2.022\n",
      "==============================================================================\n"
     ]
    }
   ],
   "source": [
    "print(model.summary())   #all variables are significant "
   ]
  },
  {
   "cell_type": "code",
   "execution_count": null,
   "metadata": {},
   "outputs": [],
   "source": [
    "#now trying to add more training data"
   ]
  },
  {
   "cell_type": "code",
   "execution_count": 36,
   "metadata": {},
   "outputs": [],
   "source": [
    "X_train, X_test, y_train, y_test = train_test_split(X,y ,random_state=104, test_size=0.1, shuffle=True)"
   ]
  },
  {
   "cell_type": "code",
   "execution_count": 37,
   "metadata": {},
   "outputs": [],
   "source": [
    "X_train= sm.add_constant(X_train)\n",
    "X_test = sm.add_constant(X_test)"
   ]
  },
  {
   "cell_type": "code",
   "execution_count": 38,
   "metadata": {},
   "outputs": [
    {
     "name": "stdout",
     "output_type": "stream",
     "text": [
      "Optimization terminated successfully.\n",
      "         Current function value: 0.447575\n",
      "         Iterations 6\n"
     ]
    }
   ],
   "source": [
    "#train again now only with 0.9:0.1 ratio of train:test\n",
    "model = sm.Logit(y_train, X_train).fit()"
   ]
  },
  {
   "cell_type": "code",
   "execution_count": 39,
   "metadata": {},
   "outputs": [],
   "source": [
    "pred = model.predict(X_test)\n",
    "pred = list(map(round,pred))"
   ]
  },
  {
   "cell_type": "code",
   "execution_count": 40,
   "metadata": {},
   "outputs": [
    {
     "name": "stdout",
     "output_type": "stream",
     "text": [
      "Confusion Matrix : \n",
      " [[38 11]\n",
      " [ 4 19]]\n"
     ]
    }
   ],
   "source": [
    "cm = confusion_matrix(y_test, pred) \n",
    "print (\"Confusion Matrix : \\n\", cm) "
   ]
  },
  {
   "cell_type": "code",
   "execution_count": 41,
   "metadata": {},
   "outputs": [
    {
     "name": "stdout",
     "output_type": "stream",
     "text": [
      "Test accuracy =  0.7916666666666666\n"
     ]
    }
   ],
   "source": [
    "# accuracy score of the model\n",
    "print('Test accuracy = ', accuracy_score(y_test, pred))  #not so descriptive of our model's performance since the labels are not balanced"
   ]
  },
  {
   "cell_type": "code",
   "execution_count": 42,
   "metadata": {},
   "outputs": [
    {
     "name": "stdout",
     "output_type": "stream",
     "text": [
      "Precision Score =  0.6333333333333333\n"
     ]
    }
   ],
   "source": [
    "print('Precision Score = ', precision_score(y_test, pred))  #~~0.63 , actually downgarded"
   ]
  },
  {
   "cell_type": "code",
   "execution_count": 43,
   "metadata": {},
   "outputs": [
    {
     "name": "stdout",
     "output_type": "stream",
     "text": [
      "f1 Score =  0.7169811320754716\n"
     ]
    }
   ],
   "source": [
    "print('f1 Score = ', f1_score(y_test, pred))  #~~0.72 , actually downgarded"
   ]
  },
  {
   "cell_type": "code",
   "execution_count": 44,
   "metadata": {},
   "outputs": [
    {
     "name": "stdout",
     "output_type": "stream",
     "text": [
      "recall Score =  0.8260869565217391\n"
     ]
    }
   ],
   "source": [
    "print('recall Score = ', recall_score(y_test, pred))  #~~0.83 , approximately the same"
   ]
  },
  {
   "cell_type": "code",
   "execution_count": 45,
   "metadata": {},
   "outputs": [
    {
     "data": {
      "text/html": [
       "<table class=\"simpletable\">\n",
       "<caption>Logit Regression Results</caption>\n",
       "<tr>\n",
       "  <th>Dep. Variable:</th>       <td>Survived</td>     <th>  No. Observations:  </th>  <td>   640</td>  \n",
       "</tr>\n",
       "<tr>\n",
       "  <th>Model:</th>                 <td>Logit</td>      <th>  Df Residuals:      </th>  <td>   634</td>  \n",
       "</tr>\n",
       "<tr>\n",
       "  <th>Method:</th>                 <td>MLE</td>       <th>  Df Model:          </th>  <td>     5</td>  \n",
       "</tr>\n",
       "<tr>\n",
       "  <th>Date:</th>            <td>Tue, 21 Mar 2023</td> <th>  Pseudo R-squ.:     </th>  <td>0.3402</td>  \n",
       "</tr>\n",
       "<tr>\n",
       "  <th>Time:</th>                <td>16:29:19</td>     <th>  Log-Likelihood:    </th> <td> -286.45</td> \n",
       "</tr>\n",
       "<tr>\n",
       "  <th>converged:</th>             <td>True</td>       <th>  LL-Null:           </th> <td> -434.11</td> \n",
       "</tr>\n",
       "<tr>\n",
       "  <th>Covariance Type:</th>     <td>nonrobust</td>    <th>  LLR p-value:       </th> <td>1.010e-61</td>\n",
       "</tr>\n",
       "</table>\n",
       "<table class=\"simpletable\">\n",
       "<tr>\n",
       "      <td></td>        <th>coef</th>     <th>std err</th>      <th>z</th>      <th>P>|z|</th>  <th>[0.025</th>    <th>0.975]</th>  \n",
       "</tr>\n",
       "<tr>\n",
       "  <th>const</th>    <td>    4.6188</td> <td>    0.489</td> <td>    9.437</td> <td> 0.000</td> <td>    3.659</td> <td>    5.578</td>\n",
       "</tr>\n",
       "<tr>\n",
       "  <th>IsMale</th>   <td>   -2.6050</td> <td>    0.229</td> <td>  -11.397</td> <td> 0.000</td> <td>   -3.053</td> <td>   -2.157</td>\n",
       "</tr>\n",
       "<tr>\n",
       "  <th>Age</th>      <td>   -0.0501</td> <td>    0.009</td> <td>   -5.706</td> <td> 0.000</td> <td>   -0.067</td> <td>   -0.033</td>\n",
       "</tr>\n",
       "<tr>\n",
       "  <th>SibSp</th>    <td>   -0.4360</td> <td>    0.126</td> <td>   -3.452</td> <td> 0.001</td> <td>   -0.684</td> <td>   -0.188</td>\n",
       "</tr>\n",
       "<tr>\n",
       "  <th>Pclass_2</th> <td>   -1.4269</td> <td>    0.304</td> <td>   -4.689</td> <td> 0.000</td> <td>   -2.023</td> <td>   -0.830</td>\n",
       "</tr>\n",
       "<tr>\n",
       "  <th>Pclass_3</th> <td>   -2.7014</td> <td>    0.302</td> <td>   -8.956</td> <td> 0.000</td> <td>   -3.293</td> <td>   -2.110</td>\n",
       "</tr>\n",
       "</table>"
      ],
      "text/plain": [
       "<class 'statsmodels.iolib.summary.Summary'>\n",
       "\"\"\"\n",
       "                           Logit Regression Results                           \n",
       "==============================================================================\n",
       "Dep. Variable:               Survived   No. Observations:                  640\n",
       "Model:                          Logit   Df Residuals:                      634\n",
       "Method:                           MLE   Df Model:                            5\n",
       "Date:                Tue, 21 Mar 2023   Pseudo R-squ.:                  0.3402\n",
       "Time:                        16:29:19   Log-Likelihood:                -286.45\n",
       "converged:                       True   LL-Null:                       -434.11\n",
       "Covariance Type:            nonrobust   LLR p-value:                 1.010e-61\n",
       "==============================================================================\n",
       "                 coef    std err          z      P>|z|      [0.025      0.975]\n",
       "------------------------------------------------------------------------------\n",
       "const          4.6188      0.489      9.437      0.000       3.659       5.578\n",
       "IsMale        -2.6050      0.229    -11.397      0.000      -3.053      -2.157\n",
       "Age           -0.0501      0.009     -5.706      0.000      -0.067      -0.033\n",
       "SibSp         -0.4360      0.126     -3.452      0.001      -0.684      -0.188\n",
       "Pclass_2      -1.4269      0.304     -4.689      0.000      -2.023      -0.830\n",
       "Pclass_3      -2.7014      0.302     -8.956      0.000      -3.293      -2.110\n",
       "==============================================================================\n",
       "\"\"\""
      ]
     },
     "execution_count": 45,
     "metadata": {},
     "output_type": "execute_result"
    }
   ],
   "source": [
    "model.summary()"
   ]
  },
  {
   "cell_type": "code",
   "execution_count": 48,
   "metadata": {},
   "outputs": [],
   "source": [
    "#although not a good model but can estimate Rose's and Jack's survival rates\n",
    "# based on the estimated coeeficients"
   ]
  },
  {
   "cell_type": "code",
   "execution_count": 49,
   "metadata": {},
   "outputs": [
    {
     "data": {
      "text/plain": [
       "0.15582845125815836"
      ]
     },
     "execution_count": 49,
     "metadata": {},
     "output_type": "execute_result"
    }
   ],
   "source": [
    "np.exp(4.6188 + 1*-2.6050 + 20*-.0501 + 0 -2.7014 )/(1+np.exp(4.6188 + 1*-2.6050 + 20*-.0501 + 0 -2.7014 )) \n",
    "#Jack was 20y old,with no parents(all died) and siblings on the board, was a poor lad and traveled in the 3rd class\n",
    "#  the survival rate is 0.15 which is way lower than the boundary 0.5, which means we can consider it as 0(meaning would not survive)\n",
    "# which actually happened"
   ]
  },
  {
   "cell_type": "code",
   "execution_count": 51,
   "metadata": {},
   "outputs": [
    {
     "data": {
      "text/plain": [
       "0.9654804492375018"
      ]
     },
     "execution_count": 51,
     "metadata": {},
     "output_type": "execute_result"
    }
   ],
   "source": [
    "np.exp(4.6188 + 0 + 17*-.0501 + 1*-0.4360 )/(1+np.exp(4.6188 + 0 + 17*-.0501 + 1*-0.4360 )) \n",
    "#Rose was 17y old at the time of ship wrecking,with her fiancee on the board(SibSp =1), \n",
    "#  traveled in the 1st class\n",
    "#  the survival rate is 0.9654804492375018 which is way higher than the boundary 0.5, \n",
    "# which means we can consider it as 1(meaning would survive)\n",
    "# which actually happened"
   ]
  },
  {
   "cell_type": "code",
   "execution_count": null,
   "metadata": {},
   "outputs": [],
   "source": [
    " ## adding Age square"
   ]
  },
  {
   "cell_type": "code",
   "execution_count": 52,
   "metadata": {},
   "outputs": [
    {
     "data": {
      "text/html": [
       "<div>\n",
       "<style scoped>\n",
       "    .dataframe tbody tr th:only-of-type {\n",
       "        vertical-align: middle;\n",
       "    }\n",
       "\n",
       "    .dataframe tbody tr th {\n",
       "        vertical-align: top;\n",
       "    }\n",
       "\n",
       "    .dataframe thead th {\n",
       "        text-align: right;\n",
       "    }\n",
       "</style>\n",
       "<table border=\"1\" class=\"dataframe\">\n",
       "  <thead>\n",
       "    <tr style=\"text-align: right;\">\n",
       "      <th></th>\n",
       "      <th>IsMale</th>\n",
       "      <th>Age</th>\n",
       "      <th>SibSp</th>\n",
       "      <th>Pclass_2</th>\n",
       "      <th>Pclass_3</th>\n",
       "    </tr>\n",
       "  </thead>\n",
       "  <tbody>\n",
       "    <tr>\n",
       "      <th>0</th>\n",
       "      <td>1</td>\n",
       "      <td>22.0000</td>\n",
       "      <td>1</td>\n",
       "      <td>0</td>\n",
       "      <td>1</td>\n",
       "    </tr>\n",
       "    <tr>\n",
       "      <th>1</th>\n",
       "      <td>0</td>\n",
       "      <td>38.0000</td>\n",
       "      <td>1</td>\n",
       "      <td>0</td>\n",
       "      <td>0</td>\n",
       "    </tr>\n",
       "    <tr>\n",
       "      <th>2</th>\n",
       "      <td>0</td>\n",
       "      <td>26.0000</td>\n",
       "      <td>0</td>\n",
       "      <td>0</td>\n",
       "      <td>1</td>\n",
       "    </tr>\n",
       "    <tr>\n",
       "      <th>3</th>\n",
       "      <td>0</td>\n",
       "      <td>35.0000</td>\n",
       "      <td>1</td>\n",
       "      <td>0</td>\n",
       "      <td>0</td>\n",
       "    </tr>\n",
       "    <tr>\n",
       "      <th>4</th>\n",
       "      <td>1</td>\n",
       "      <td>35.0000</td>\n",
       "      <td>0</td>\n",
       "      <td>0</td>\n",
       "      <td>1</td>\n",
       "    </tr>\n",
       "  </tbody>\n",
       "</table>\n",
       "</div>"
      ],
      "text/plain": [
       "   IsMale     Age  SibSp  Pclass_2  Pclass_3\n",
       "0       1 22.0000      1         0         1\n",
       "1       0 38.0000      1         0         0\n",
       "2       0 26.0000      0         0         1\n",
       "3       0 35.0000      1         0         0\n",
       "4       1 35.0000      0         0         1"
      ]
     },
     "execution_count": 52,
     "metadata": {},
     "output_type": "execute_result"
    }
   ],
   "source": [
    "X.head()"
   ]
  },
  {
   "cell_type": "code",
   "execution_count": 53,
   "metadata": {},
   "outputs": [],
   "source": [
    "X[\"Age_squared\"] =X[\"Age\"]**2"
   ]
  },
  {
   "cell_type": "code",
   "execution_count": 54,
   "metadata": {},
   "outputs": [],
   "source": [
    "X_train, X_test, y_train, y_test = train_test_split(X,y ,random_state=104, test_size=0.2)"
   ]
  },
  {
   "cell_type": "code",
   "execution_count": 55,
   "metadata": {},
   "outputs": [],
   "source": [
    "X_train= sm.add_constant(X_train)\n",
    "X_test = sm.add_constant(X_test)"
   ]
  },
  {
   "cell_type": "code",
   "execution_count": 56,
   "metadata": {},
   "outputs": [
    {
     "name": "stdout",
     "output_type": "stream",
     "text": [
      "Optimization terminated successfully.\n",
      "         Current function value: 0.447429\n",
      "         Iterations 6\n"
     ]
    }
   ],
   "source": [
    "model = sm.Logit(y_train, X_train).fit()"
   ]
  },
  {
   "cell_type": "code",
   "execution_count": 57,
   "metadata": {},
   "outputs": [],
   "source": [
    "pred = model.predict(X_test)\n",
    "pred = list(map(round,pred))"
   ]
  },
  {
   "cell_type": "code",
   "execution_count": 58,
   "metadata": {},
   "outputs": [
    {
     "name": "stdout",
     "output_type": "stream",
     "text": [
      "Test accuracy =  0.8391608391608392\n"
     ]
    }
   ],
   "source": [
    "print('Test accuracy = ', accuracy_score(y_test, pred)) #0.84, improved"
   ]
  },
  {
   "cell_type": "code",
   "execution_count": 59,
   "metadata": {},
   "outputs": [
    {
     "name": "stdout",
     "output_type": "stream",
     "text": [
      "Precision Score =  0.7450980392156863\n"
     ]
    }
   ],
   "source": [
    "print('Precision Score = ', precision_score(y_test, pred)) # 0.74,improved"
   ]
  },
  {
   "cell_type": "code",
   "execution_count": 60,
   "metadata": {},
   "outputs": [
    {
     "name": "stdout",
     "output_type": "stream",
     "text": [
      "f1 Score =  0.7676767676767677\n"
     ]
    }
   ],
   "source": [
    "print('f1 Score = ', f1_score(y_test, pred)) #0.76,slightly improved"
   ]
  },
  {
   "cell_type": "code",
   "execution_count": 61,
   "metadata": {},
   "outputs": [
    {
     "name": "stdout",
     "output_type": "stream",
     "text": [
      "recall Score =  0.7916666666666666\n"
     ]
    }
   ],
   "source": [
    "print('recall Score = ', recall_score(y_test, pred)) #0.79 recall worsened, while the others got improved"
   ]
  },
  {
   "cell_type": "code",
   "execution_count": 62,
   "metadata": {},
   "outputs": [
    {
     "data": {
      "text/html": [
       "<table class=\"simpletable\">\n",
       "<caption>Logit Regression Results</caption>\n",
       "<tr>\n",
       "  <th>Dep. Variable:</th>       <td>Survived</td>     <th>  No. Observations:  </th>  <td>   569</td>  \n",
       "</tr>\n",
       "<tr>\n",
       "  <th>Model:</th>                 <td>Logit</td>      <th>  Df Residuals:      </th>  <td>   562</td>  \n",
       "</tr>\n",
       "<tr>\n",
       "  <th>Method:</th>                 <td>MLE</td>       <th>  Df Model:          </th>  <td>     6</td>  \n",
       "</tr>\n",
       "<tr>\n",
       "  <th>Date:</th>            <td>Tue, 21 Mar 2023</td> <th>  Pseudo R-squ.:     </th>  <td>0.3429</td>  \n",
       "</tr>\n",
       "<tr>\n",
       "  <th>Time:</th>                <td>16:31:02</td>     <th>  Log-Likelihood:    </th> <td> -254.59</td> \n",
       "</tr>\n",
       "<tr>\n",
       "  <th>converged:</th>             <td>True</td>       <th>  LL-Null:           </th> <td> -387.41</td> \n",
       "</tr>\n",
       "<tr>\n",
       "  <th>Covariance Type:</th>     <td>nonrobust</td>    <th>  LLR p-value:       </th> <td>1.850e-54</td>\n",
       "</tr>\n",
       "</table>\n",
       "<table class=\"simpletable\">\n",
       "<tr>\n",
       "       <td></td>          <th>coef</th>     <th>std err</th>      <th>z</th>      <th>P>|z|</th>  <th>[0.025</th>    <th>0.975]</th>  \n",
       "</tr>\n",
       "<tr>\n",
       "  <th>const</th>       <td>    5.5898</td> <td>    0.656</td> <td>    8.517</td> <td> 0.000</td> <td>    4.303</td> <td>    6.876</td>\n",
       "</tr>\n",
       "<tr>\n",
       "  <th>IsMale</th>      <td>   -2.6167</td> <td>    0.246</td> <td>  -10.619</td> <td> 0.000</td> <td>   -3.100</td> <td>   -2.134</td>\n",
       "</tr>\n",
       "<tr>\n",
       "  <th>Age</th>         <td>   -0.1146</td> <td>    0.027</td> <td>   -4.212</td> <td> 0.000</td> <td>   -0.168</td> <td>   -0.061</td>\n",
       "</tr>\n",
       "<tr>\n",
       "  <th>SibSp</th>       <td>   -0.5572</td> <td>    0.140</td> <td>   -3.992</td> <td> 0.000</td> <td>   -0.831</td> <td>   -0.284</td>\n",
       "</tr>\n",
       "<tr>\n",
       "  <th>Pclass_2</th>    <td>   -1.3554</td> <td>    0.320</td> <td>   -4.237</td> <td> 0.000</td> <td>   -1.982</td> <td>   -0.728</td>\n",
       "</tr>\n",
       "<tr>\n",
       "  <th>Pclass_3</th>    <td>   -2.7228</td> <td>    0.321</td> <td>   -8.492</td> <td> 0.000</td> <td>   -3.351</td> <td>   -2.094</td>\n",
       "</tr>\n",
       "<tr>\n",
       "  <th>Age_squared</th> <td>    0.0010</td> <td>    0.000</td> <td>    2.555</td> <td> 0.011</td> <td>    0.000</td> <td>    0.002</td>\n",
       "</tr>\n",
       "</table>"
      ],
      "text/plain": [
       "<class 'statsmodels.iolib.summary.Summary'>\n",
       "\"\"\"\n",
       "                           Logit Regression Results                           \n",
       "==============================================================================\n",
       "Dep. Variable:               Survived   No. Observations:                  569\n",
       "Model:                          Logit   Df Residuals:                      562\n",
       "Method:                           MLE   Df Model:                            6\n",
       "Date:                Tue, 21 Mar 2023   Pseudo R-squ.:                  0.3429\n",
       "Time:                        16:31:02   Log-Likelihood:                -254.59\n",
       "converged:                       True   LL-Null:                       -387.41\n",
       "Covariance Type:            nonrobust   LLR p-value:                 1.850e-54\n",
       "===============================================================================\n",
       "                  coef    std err          z      P>|z|      [0.025      0.975]\n",
       "-------------------------------------------------------------------------------\n",
       "const           5.5898      0.656      8.517      0.000       4.303       6.876\n",
       "IsMale         -2.6167      0.246    -10.619      0.000      -3.100      -2.134\n",
       "Age            -0.1146      0.027     -4.212      0.000      -0.168      -0.061\n",
       "SibSp          -0.5572      0.140     -3.992      0.000      -0.831      -0.284\n",
       "Pclass_2       -1.3554      0.320     -4.237      0.000      -1.982      -0.728\n",
       "Pclass_3       -2.7228      0.321     -8.492      0.000      -3.351      -2.094\n",
       "Age_squared     0.0010      0.000      2.555      0.011       0.000       0.002\n",
       "===============================================================================\n",
       "\"\"\""
      ]
     },
     "execution_count": 62,
     "metadata": {},
     "output_type": "execute_result"
    }
   ],
   "source": [
    "model.summary()"
   ]
  }
 ],
 "metadata": {
  "kernelspec": {
   "display_name": "Python 3 (ipykernel)",
   "language": "python",
   "name": "python3"
  },
  "language_info": {
   "codemirror_mode": {
    "name": "ipython",
    "version": 3
   },
   "file_extension": ".py",
   "mimetype": "text/x-python",
   "name": "python",
   "nbconvert_exporter": "python",
   "pygments_lexer": "ipython3",
   "version": "3.9.16"
  },
  "vscode": {
   "interpreter": {
    "hash": "4e2a74106f82d2bba22dd3fa0656082b2aebf97716d74629486717f68f8c8843"
   }
  }
 },
 "nbformat": 4,
 "nbformat_minor": 2
}
