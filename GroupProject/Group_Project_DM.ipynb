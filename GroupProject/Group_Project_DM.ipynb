{
  "cells": [
    {
      "cell_type": "markdown",
      "metadata": {
        "id": "jHw9QxQxFh1_"
      },
      "source": [
        "## About data:\n",
        " retrieved from : https://www.kaggle.com/datasets/uciml/mushroom-classification\n",
        "\n",
        "Although this dataset was originally contributed to the UCI Machine Learning repository nearly 30 years ago, mushroom hunting (otherwise known as \"shrooming\") is enjoying new peaks in popularity. Learn which features spell certain death and which are most palatable in this dataset of mushroom characteristics. And how certain can your model be?\n",
        "\n",
        "Family Mushroom drawn from The Audubon Society Field Guide to North American Mushrooms (1981). Each species is identified as definitely edible, definitely poisonous, or of unknown edibility and not recommended. This latter class was combined with the poisonous one. The Guide clearly states that there is no simple rule for determining the edibility of a mushroom; no rule like \"leaflets three, let it be'' for Poisonous Oak and Ivy.\n",
        "\n",
        " Attribute Information: (classes: edible=e, poisonous=p)\n",
        "\n",
        "* cap-shape: bell=b,conical=c,convex=x,flat=f, knobbed=k,sunken=s\n",
        "\n",
        "* cap-surface: fibrous=f,grooves=g,scaly=y,smooth=s\n",
        "\n",
        "* cap-color: brown=n,buff=b,cinnamon=c,gray=g,green=r,pink=p,purple=u,red=e,white=w,yellow=y\n",
        "\n",
        "* bruises: bruises=t,no=f\n",
        "\n",
        "* odor: almond=a,anise=l,creosote=c,fishy=y,foul=f,musty=m,none=n,pungent=p,spicy=s\n",
        "\n",
        "* gill-attachment: attached=a,descending=d,free=f,notched=n\n",
        "\n",
        "* gill-spacing: close=c,crowded=w,distant=d\n",
        "\n",
        "* gill-size: broad=b,narrow=n\n",
        "\n",
        "* gill-color: black=k,brown=n,buff=b,chocolate=h,gray=g, green=r,orange=o,pink=p,purple=u,red=e,white=w,yellow=y\n",
        "\n",
        "* stalk-shape: enlarging=e,tapering=t\n",
        "\n",
        "* stalk-root: bulbous=b,club=c,cup=u,equal=e,rhizomorphs=z,rooted=r,missing=?\n",
        "\n",
        "* stalk-surface-above-ring: fibrous=f,scaly=y,silky=k,smooth=s\n",
        "\n",
        "* stalk-surface-below-ring: fibrous=f,scaly=y,silky=k,smooth=s\n",
        "\n",
        "* stalk-color-above-ring: brown=n,buff=b,cinnamon=c,gray=g,orange=o,pink=p,red=e,white=w,yellow=y\n",
        "\n",
        "* stalk-color-below-ring: brown=n,buff=b,cinnamon=c,gray=g,orange=o,pink=p,red=e,white=w,yellow=y\n",
        "\n",
        "* veil-type: partial=p,universal=u\n",
        "\n",
        "* veil-color: brown=n,orange=o,white=w,yellow=y\n",
        "\n",
        "* ring-number: none=n,one=o,two=t\n",
        "\n",
        "* ring-type: cobwebby=c,evanescent=e,flaring=f,large=l,none=n,pendant=p,sheathing=s,zone=z\n",
        "\n",
        "* spore-print-color: black=k,brown=n,buff=b,chocolate=h,green=r,orange=o,purple=u,white=w,yellow=y\n",
        "\n",
        "* population: abundant=a,clustered=c,numerous=n,scattered=s,several=v,solitary=y\n",
        "\n",
        "* habitat: grasses=g,leaves=l,meadows=m,paths=p,urban=u,waste=w,woods=d\n",
        "\n"
      ]
    },
    {
      "cell_type": "code",
      "execution_count": 2,
      "metadata": {
        "id": "-MkMFQoPidy-"
      },
      "outputs": [],
      "source": [
        "import pandas as pd\n",
        "import numpy as np\n",
        "\n",
        "# visualization\n",
        "import seaborn as sns\n",
        "import matplotlib.pyplot as plt\n",
        "\n",
        "from matplotlib.backends.backend_pdf import PdfPages\n",
        "\n",
        "import plotly.graph_objects as go\n",
        "import plotly.express as px\n",
        "import io\n",
        "\n",
        "# Model tuning\n",
        "from sklearn.model_selection import GridSearchCV\n",
        "from sklearn.model_selection import RandomizedSearchCV\n",
        "from sklearn.linear_model import LogisticRegression\n",
        "from sklearn.cluster import KMeans\n",
        "\n",
        "# data preprocessing\n",
        "from sklearn.model_selection import train_test_split\n",
        "from sklearn.preprocessing import LabelEncoder, OneHotEncoder, OrdinalEncoder\n",
        "from sklearn.preprocessing import StandardScaler\n",
        "\n",
        "from sklearn.model_selection import train_test_split\n",
        "from sklearn.neighbors import KNeighborsRegressor\n",
        "from sklearn.compose import ColumnTransformer\n",
        "from sklearn.tree import DecisionTreeRegressor\n",
        "from sklearn.ensemble import RandomForestRegressor\n",
        "from sklearn.metrics import mean_squared_error\n",
        "\n",
        "\n",
        "from sklearn.metrics import mean_squared_error\n",
        "from math import sqrt\n",
        "from sklearn.preprocessing import OrdinalEncoder\n",
        "from sklearn.metrics import accuracy_score, precision_score, recall_score, f1_score\n",
        "\n",
        "# other\n",
        "import sys\n",
        "import warnings\n",
        "from time import sleep\n",
        "\n",
        "if not sys.warnoptions:\n",
        "    warnings.simplefilter(\"ignore\")\n"
      ]
    },
    {
      "cell_type": "markdown",
      "metadata": {
        "id": "SKmGGxuKHWja"
      },
      "source": [
        "# EDA, Data Visualizations\n"
      ]
    },
    {
      "cell_type": "code",
      "execution_count": 3,
      "metadata": {
        "id": "geLR-sIHBmNR"
      },
      "outputs": [
        {
          "ename": "ModuleNotFoundError",
          "evalue": "No module named 'google'",
          "output_type": "error",
          "traceback": [
            "\u001b[1;31m---------------------------------------------------------------------------\u001b[0m",
            "\u001b[1;31mModuleNotFoundError\u001b[0m                       Traceback (most recent call last)",
            "Cell \u001b[1;32mIn[3], line 2\u001b[0m\n\u001b[0;32m      1\u001b[0m \u001b[39m## reading csv from colab\u001b[39;00m\n\u001b[1;32m----> 2\u001b[0m \u001b[39mfrom\u001b[39;00m \u001b[39mgoogle\u001b[39;00m\u001b[39m.\u001b[39;00m\u001b[39mcolab\u001b[39;00m \u001b[39mimport\u001b[39;00m files    \n\u001b[0;32m      3\u001b[0m uploaded \u001b[39m=\u001b[39m files\u001b[39m.\u001b[39mupload()\n",
            "\u001b[1;31mModuleNotFoundError\u001b[0m: No module named 'google'"
          ]
        }
      ],
      "source": [
        "# ## reading csv from colab\n",
        "# from google.colab import files    \n",
        "# uploaded = files.upload()"
      ]
    },
    {
      "cell_type": "code",
      "execution_count": 4,
      "metadata": {
        "colab": {
          "base_uri": "https://localhost:8080/",
          "height": 332
        },
        "id": "Dky2cbzJikJB",
        "outputId": "e8544653-c265-456b-e84b-b57dc228a37d"
      },
      "outputs": [
        {
          "data": {
            "text/html": [
              "<div>\n",
              "<style scoped>\n",
              "    .dataframe tbody tr th:only-of-type {\n",
              "        vertical-align: middle;\n",
              "    }\n",
              "\n",
              "    .dataframe tbody tr th {\n",
              "        vertical-align: top;\n",
              "    }\n",
              "\n",
              "    .dataframe thead th {\n",
              "        text-align: right;\n",
              "    }\n",
              "</style>\n",
              "<table border=\"1\" class=\"dataframe\">\n",
              "  <thead>\n",
              "    <tr style=\"text-align: right;\">\n",
              "      <th></th>\n",
              "      <th>class</th>\n",
              "      <th>cap-shape</th>\n",
              "      <th>cap-surface</th>\n",
              "      <th>cap-color</th>\n",
              "      <th>bruises</th>\n",
              "      <th>odor</th>\n",
              "      <th>gill-attachment</th>\n",
              "      <th>gill-spacing</th>\n",
              "      <th>gill-size</th>\n",
              "      <th>gill-color</th>\n",
              "      <th>...</th>\n",
              "      <th>stalk-surface-below-ring</th>\n",
              "      <th>stalk-color-above-ring</th>\n",
              "      <th>stalk-color-below-ring</th>\n",
              "      <th>veil-type</th>\n",
              "      <th>veil-color</th>\n",
              "      <th>ring-number</th>\n",
              "      <th>ring-type</th>\n",
              "      <th>spore-print-color</th>\n",
              "      <th>population</th>\n",
              "      <th>habitat</th>\n",
              "    </tr>\n",
              "  </thead>\n",
              "  <tbody>\n",
              "    <tr>\n",
              "      <th>0</th>\n",
              "      <td>p</td>\n",
              "      <td>x</td>\n",
              "      <td>s</td>\n",
              "      <td>n</td>\n",
              "      <td>t</td>\n",
              "      <td>p</td>\n",
              "      <td>f</td>\n",
              "      <td>c</td>\n",
              "      <td>n</td>\n",
              "      <td>k</td>\n",
              "      <td>...</td>\n",
              "      <td>s</td>\n",
              "      <td>w</td>\n",
              "      <td>w</td>\n",
              "      <td>p</td>\n",
              "      <td>w</td>\n",
              "      <td>o</td>\n",
              "      <td>p</td>\n",
              "      <td>k</td>\n",
              "      <td>s</td>\n",
              "      <td>u</td>\n",
              "    </tr>\n",
              "    <tr>\n",
              "      <th>1</th>\n",
              "      <td>e</td>\n",
              "      <td>x</td>\n",
              "      <td>s</td>\n",
              "      <td>y</td>\n",
              "      <td>t</td>\n",
              "      <td>a</td>\n",
              "      <td>f</td>\n",
              "      <td>c</td>\n",
              "      <td>b</td>\n",
              "      <td>k</td>\n",
              "      <td>...</td>\n",
              "      <td>s</td>\n",
              "      <td>w</td>\n",
              "      <td>w</td>\n",
              "      <td>p</td>\n",
              "      <td>w</td>\n",
              "      <td>o</td>\n",
              "      <td>p</td>\n",
              "      <td>n</td>\n",
              "      <td>n</td>\n",
              "      <td>g</td>\n",
              "    </tr>\n",
              "    <tr>\n",
              "      <th>2</th>\n",
              "      <td>e</td>\n",
              "      <td>b</td>\n",
              "      <td>s</td>\n",
              "      <td>w</td>\n",
              "      <td>t</td>\n",
              "      <td>l</td>\n",
              "      <td>f</td>\n",
              "      <td>c</td>\n",
              "      <td>b</td>\n",
              "      <td>n</td>\n",
              "      <td>...</td>\n",
              "      <td>s</td>\n",
              "      <td>w</td>\n",
              "      <td>w</td>\n",
              "      <td>p</td>\n",
              "      <td>w</td>\n",
              "      <td>o</td>\n",
              "      <td>p</td>\n",
              "      <td>n</td>\n",
              "      <td>n</td>\n",
              "      <td>m</td>\n",
              "    </tr>\n",
              "    <tr>\n",
              "      <th>3</th>\n",
              "      <td>p</td>\n",
              "      <td>x</td>\n",
              "      <td>y</td>\n",
              "      <td>w</td>\n",
              "      <td>t</td>\n",
              "      <td>p</td>\n",
              "      <td>f</td>\n",
              "      <td>c</td>\n",
              "      <td>n</td>\n",
              "      <td>n</td>\n",
              "      <td>...</td>\n",
              "      <td>s</td>\n",
              "      <td>w</td>\n",
              "      <td>w</td>\n",
              "      <td>p</td>\n",
              "      <td>w</td>\n",
              "      <td>o</td>\n",
              "      <td>p</td>\n",
              "      <td>k</td>\n",
              "      <td>s</td>\n",
              "      <td>u</td>\n",
              "    </tr>\n",
              "    <tr>\n",
              "      <th>4</th>\n",
              "      <td>e</td>\n",
              "      <td>x</td>\n",
              "      <td>s</td>\n",
              "      <td>g</td>\n",
              "      <td>f</td>\n",
              "      <td>n</td>\n",
              "      <td>f</td>\n",
              "      <td>w</td>\n",
              "      <td>b</td>\n",
              "      <td>k</td>\n",
              "      <td>...</td>\n",
              "      <td>s</td>\n",
              "      <td>w</td>\n",
              "      <td>w</td>\n",
              "      <td>p</td>\n",
              "      <td>w</td>\n",
              "      <td>o</td>\n",
              "      <td>e</td>\n",
              "      <td>n</td>\n",
              "      <td>a</td>\n",
              "      <td>g</td>\n",
              "    </tr>\n",
              "  </tbody>\n",
              "</table>\n",
              "<p>5 rows × 23 columns</p>\n",
              "</div>"
            ],
            "text/plain": [
              "  class cap-shape cap-surface cap-color bruises odor gill-attachment   \n",
              "0     p         x           s         n       t    p               f  \\\n",
              "1     e         x           s         y       t    a               f   \n",
              "2     e         b           s         w       t    l               f   \n",
              "3     p         x           y         w       t    p               f   \n",
              "4     e         x           s         g       f    n               f   \n",
              "\n",
              "  gill-spacing gill-size gill-color  ... stalk-surface-below-ring   \n",
              "0            c         n          k  ...                        s  \\\n",
              "1            c         b          k  ...                        s   \n",
              "2            c         b          n  ...                        s   \n",
              "3            c         n          n  ...                        s   \n",
              "4            w         b          k  ...                        s   \n",
              "\n",
              "  stalk-color-above-ring stalk-color-below-ring veil-type veil-color   \n",
              "0                      w                      w         p          w  \\\n",
              "1                      w                      w         p          w   \n",
              "2                      w                      w         p          w   \n",
              "3                      w                      w         p          w   \n",
              "4                      w                      w         p          w   \n",
              "\n",
              "  ring-number ring-type spore-print-color population habitat  \n",
              "0           o         p                 k          s       u  \n",
              "1           o         p                 n          n       g  \n",
              "2           o         p                 n          n       m  \n",
              "3           o         p                 k          s       u  \n",
              "4           o         e                 n          a       g  \n",
              "\n",
              "[5 rows x 23 columns]"
            ]
          },
          "execution_count": 4,
          "metadata": {},
          "output_type": "execute_result"
        }
      ],
      "source": [
        "df = pd.read_csv('mushrooms.csv')\n",
        "\n",
        "df.head()"
      ]
    },
    {
      "cell_type": "code",
      "execution_count": 5,
      "metadata": {
        "id": "CBEsFNlEB8fV"
      },
      "outputs": [
        {
          "ename": "NameError",
          "evalue": "name 'uploaded' is not defined",
          "output_type": "error",
          "traceback": [
            "\u001b[1;31m---------------------------------------------------------------------------\u001b[0m",
            "\u001b[1;31mNameError\u001b[0m                                 Traceback (most recent call last)",
            "Cell \u001b[1;32mIn[5], line 1\u001b[0m\n\u001b[1;32m----> 1\u001b[0m df \u001b[39m=\u001b[39m pd\u001b[39m.\u001b[39mread_csv(io\u001b[39m.\u001b[39mBytesIO(uploaded[\u001b[39m'\u001b[39m\u001b[39mmushrooms.csv\u001b[39m\u001b[39m'\u001b[39m]))\n",
            "\u001b[1;31mNameError\u001b[0m: name 'uploaded' is not defined"
          ]
        }
      ],
      "source": [
        "# df = pd.read_csv(io.BytesIO(uploaded['mushrooms.csv']))"
      ]
    },
    {
      "cell_type": "code",
      "execution_count": 30,
      "metadata": {
        "colab": {
          "base_uri": "https://localhost:8080/",
          "height": 269
        },
        "id": "l86Bpl_Sj0DF",
        "outputId": "7d823102-9d31-4268-a3ee-49197b621738"
      },
      "outputs": [
        {
          "data": {
            "text/html": [
              "\n",
              "  <div id=\"df-da74805e-5d3e-4932-8fce-20ea0b7a7477\">\n",
              "    <div class=\"colab-df-container\">\n",
              "      <div>\n",
              "<style scoped>\n",
              "    .dataframe tbody tr th:only-of-type {\n",
              "        vertical-align: middle;\n",
              "    }\n",
              "\n",
              "    .dataframe tbody tr th {\n",
              "        vertical-align: top;\n",
              "    }\n",
              "\n",
              "    .dataframe thead th {\n",
              "        text-align: right;\n",
              "    }\n",
              "</style>\n",
              "<table border=\"1\" class=\"dataframe\">\n",
              "  <thead>\n",
              "    <tr style=\"text-align: right;\">\n",
              "      <th></th>\n",
              "      <th>class</th>\n",
              "      <th>cap-shape</th>\n",
              "      <th>cap-surface</th>\n",
              "      <th>cap-color</th>\n",
              "      <th>bruises</th>\n",
              "      <th>odor</th>\n",
              "      <th>gill-attachment</th>\n",
              "      <th>gill-spacing</th>\n",
              "      <th>gill-size</th>\n",
              "      <th>gill-color</th>\n",
              "      <th>...</th>\n",
              "      <th>stalk-surface-below-ring</th>\n",
              "      <th>stalk-color-above-ring</th>\n",
              "      <th>stalk-color-below-ring</th>\n",
              "      <th>veil-type</th>\n",
              "      <th>veil-color</th>\n",
              "      <th>ring-number</th>\n",
              "      <th>ring-type</th>\n",
              "      <th>spore-print-color</th>\n",
              "      <th>population</th>\n",
              "      <th>habitat</th>\n",
              "    </tr>\n",
              "  </thead>\n",
              "  <tbody>\n",
              "    <tr>\n",
              "      <th>0</th>\n",
              "      <td>p</td>\n",
              "      <td>x</td>\n",
              "      <td>s</td>\n",
              "      <td>n</td>\n",
              "      <td>t</td>\n",
              "      <td>p</td>\n",
              "      <td>f</td>\n",
              "      <td>c</td>\n",
              "      <td>n</td>\n",
              "      <td>k</td>\n",
              "      <td>...</td>\n",
              "      <td>s</td>\n",
              "      <td>w</td>\n",
              "      <td>w</td>\n",
              "      <td>p</td>\n",
              "      <td>w</td>\n",
              "      <td>o</td>\n",
              "      <td>p</td>\n",
              "      <td>k</td>\n",
              "      <td>s</td>\n",
              "      <td>u</td>\n",
              "    </tr>\n",
              "    <tr>\n",
              "      <th>1</th>\n",
              "      <td>e</td>\n",
              "      <td>x</td>\n",
              "      <td>s</td>\n",
              "      <td>y</td>\n",
              "      <td>t</td>\n",
              "      <td>a</td>\n",
              "      <td>f</td>\n",
              "      <td>c</td>\n",
              "      <td>b</td>\n",
              "      <td>k</td>\n",
              "      <td>...</td>\n",
              "      <td>s</td>\n",
              "      <td>w</td>\n",
              "      <td>w</td>\n",
              "      <td>p</td>\n",
              "      <td>w</td>\n",
              "      <td>o</td>\n",
              "      <td>p</td>\n",
              "      <td>n</td>\n",
              "      <td>n</td>\n",
              "      <td>g</td>\n",
              "    </tr>\n",
              "    <tr>\n",
              "      <th>2</th>\n",
              "      <td>e</td>\n",
              "      <td>b</td>\n",
              "      <td>s</td>\n",
              "      <td>w</td>\n",
              "      <td>t</td>\n",
              "      <td>l</td>\n",
              "      <td>f</td>\n",
              "      <td>c</td>\n",
              "      <td>b</td>\n",
              "      <td>n</td>\n",
              "      <td>...</td>\n",
              "      <td>s</td>\n",
              "      <td>w</td>\n",
              "      <td>w</td>\n",
              "      <td>p</td>\n",
              "      <td>w</td>\n",
              "      <td>o</td>\n",
              "      <td>p</td>\n",
              "      <td>n</td>\n",
              "      <td>n</td>\n",
              "      <td>m</td>\n",
              "    </tr>\n",
              "  </tbody>\n",
              "</table>\n",
              "<p>3 rows × 23 columns</p>\n",
              "</div>\n",
              "      <button class=\"colab-df-convert\" onclick=\"convertToInteractive('df-da74805e-5d3e-4932-8fce-20ea0b7a7477')\"\n",
              "              title=\"Convert this dataframe to an interactive table.\"\n",
              "              style=\"display:none;\">\n",
              "        \n",
              "  <svg xmlns=\"http://www.w3.org/2000/svg\" height=\"24px\"viewBox=\"0 0 24 24\"\n",
              "       width=\"24px\">\n",
              "    <path d=\"M0 0h24v24H0V0z\" fill=\"none\"/>\n",
              "    <path d=\"M18.56 5.44l.94 2.06.94-2.06 2.06-.94-2.06-.94-.94-2.06-.94 2.06-2.06.94zm-11 1L8.5 8.5l.94-2.06 2.06-.94-2.06-.94L8.5 2.5l-.94 2.06-2.06.94zm10 10l.94 2.06.94-2.06 2.06-.94-2.06-.94-.94-2.06-.94 2.06-2.06.94z\"/><path d=\"M17.41 7.96l-1.37-1.37c-.4-.4-.92-.59-1.43-.59-.52 0-1.04.2-1.43.59L10.3 9.45l-7.72 7.72c-.78.78-.78 2.05 0 2.83L4 21.41c.39.39.9.59 1.41.59.51 0 1.02-.2 1.41-.59l7.78-7.78 2.81-2.81c.8-.78.8-2.07 0-2.86zM5.41 20L4 18.59l7.72-7.72 1.47 1.35L5.41 20z\"/>\n",
              "  </svg>\n",
              "      </button>\n",
              "      \n",
              "  <style>\n",
              "    .colab-df-container {\n",
              "      display:flex;\n",
              "      flex-wrap:wrap;\n",
              "      gap: 12px;\n",
              "    }\n",
              "\n",
              "    .colab-df-convert {\n",
              "      background-color: #E8F0FE;\n",
              "      border: none;\n",
              "      border-radius: 50%;\n",
              "      cursor: pointer;\n",
              "      display: none;\n",
              "      fill: #1967D2;\n",
              "      height: 32px;\n",
              "      padding: 0 0 0 0;\n",
              "      width: 32px;\n",
              "    }\n",
              "\n",
              "    .colab-df-convert:hover {\n",
              "      background-color: #E2EBFA;\n",
              "      box-shadow: 0px 1px 2px rgba(60, 64, 67, 0.3), 0px 1px 3px 1px rgba(60, 64, 67, 0.15);\n",
              "      fill: #174EA6;\n",
              "    }\n",
              "\n",
              "    [theme=dark] .colab-df-convert {\n",
              "      background-color: #3B4455;\n",
              "      fill: #D2E3FC;\n",
              "    }\n",
              "\n",
              "    [theme=dark] .colab-df-convert:hover {\n",
              "      background-color: #434B5C;\n",
              "      box-shadow: 0px 1px 3px 1px rgba(0, 0, 0, 0.15);\n",
              "      filter: drop-shadow(0px 1px 2px rgba(0, 0, 0, 0.3));\n",
              "      fill: #FFFFFF;\n",
              "    }\n",
              "  </style>\n",
              "\n",
              "      <script>\n",
              "        const buttonEl =\n",
              "          document.querySelector('#df-da74805e-5d3e-4932-8fce-20ea0b7a7477 button.colab-df-convert');\n",
              "        buttonEl.style.display =\n",
              "          google.colab.kernel.accessAllowed ? 'block' : 'none';\n",
              "\n",
              "        async function convertToInteractive(key) {\n",
              "          const element = document.querySelector('#df-da74805e-5d3e-4932-8fce-20ea0b7a7477');\n",
              "          const dataTable =\n",
              "            await google.colab.kernel.invokeFunction('convertToInteractive',\n",
              "                                                     [key], {});\n",
              "          if (!dataTable) return;\n",
              "\n",
              "          const docLinkHtml = 'Like what you see? Visit the ' +\n",
              "            '<a target=\"_blank\" href=https://colab.research.google.com/notebooks/data_table.ipynb>data table notebook</a>'\n",
              "            + ' to learn more about interactive tables.';\n",
              "          element.innerHTML = '';\n",
              "          dataTable['output_type'] = 'display_data';\n",
              "          await google.colab.output.renderOutput(dataTable, element);\n",
              "          const docLink = document.createElement('div');\n",
              "          docLink.innerHTML = docLinkHtml;\n",
              "          element.appendChild(docLink);\n",
              "        }\n",
              "      </script>\n",
              "    </div>\n",
              "  </div>\n",
              "  "
            ],
            "text/plain": [
              "  class cap-shape cap-surface cap-color bruises odor gill-attachment  \\\n",
              "0     p         x           s         n       t    p               f   \n",
              "1     e         x           s         y       t    a               f   \n",
              "2     e         b           s         w       t    l               f   \n",
              "\n",
              "  gill-spacing gill-size gill-color  ... stalk-surface-below-ring  \\\n",
              "0            c         n          k  ...                        s   \n",
              "1            c         b          k  ...                        s   \n",
              "2            c         b          n  ...                        s   \n",
              "\n",
              "  stalk-color-above-ring stalk-color-below-ring veil-type veil-color  \\\n",
              "0                      w                      w         p          w   \n",
              "1                      w                      w         p          w   \n",
              "2                      w                      w         p          w   \n",
              "\n",
              "  ring-number ring-type spore-print-color population habitat  \n",
              "0           o         p                 k          s       u  \n",
              "1           o         p                 n          n       g  \n",
              "2           o         p                 n          n       m  \n",
              "\n",
              "[3 rows x 23 columns]"
            ]
          },
          "execution_count": 30,
          "metadata": {},
          "output_type": "execute_result"
        }
      ],
      "source": [
        "df.head(3)"
      ]
    },
    {
      "cell_type": "code",
      "execution_count": 31,
      "metadata": {
        "colab": {
          "base_uri": "https://localhost:8080/",
          "height": 320
        },
        "id": "YmJvg6lO7s_0",
        "outputId": "b52fb6be-3b2e-47c3-89bb-825cff224e57"
      },
      "outputs": [
        {
          "data": {
            "text/html": [
              "\n",
              "  <div id=\"df-dd2bde3b-1437-41fb-bc34-349be8fe1fa4\">\n",
              "    <div class=\"colab-df-container\">\n",
              "      <div>\n",
              "<style scoped>\n",
              "    .dataframe tbody tr th:only-of-type {\n",
              "        vertical-align: middle;\n",
              "    }\n",
              "\n",
              "    .dataframe tbody tr th {\n",
              "        vertical-align: top;\n",
              "    }\n",
              "\n",
              "    .dataframe thead th {\n",
              "        text-align: right;\n",
              "    }\n",
              "</style>\n",
              "<table border=\"1\" class=\"dataframe\">\n",
              "  <thead>\n",
              "    <tr style=\"text-align: right;\">\n",
              "      <th></th>\n",
              "      <th>class</th>\n",
              "      <th>cap-shape</th>\n",
              "      <th>cap-surface</th>\n",
              "      <th>cap-color</th>\n",
              "      <th>bruises</th>\n",
              "      <th>odor</th>\n",
              "      <th>gill-attachment</th>\n",
              "      <th>gill-spacing</th>\n",
              "      <th>gill-size</th>\n",
              "      <th>gill-color</th>\n",
              "      <th>...</th>\n",
              "      <th>stalk-surface-below-ring</th>\n",
              "      <th>stalk-color-above-ring</th>\n",
              "      <th>stalk-color-below-ring</th>\n",
              "      <th>veil-type</th>\n",
              "      <th>veil-color</th>\n",
              "      <th>ring-number</th>\n",
              "      <th>ring-type</th>\n",
              "      <th>spore-print-color</th>\n",
              "      <th>population</th>\n",
              "      <th>habitat</th>\n",
              "    </tr>\n",
              "  </thead>\n",
              "  <tbody>\n",
              "    <tr>\n",
              "      <th>count</th>\n",
              "      <td>8124</td>\n",
              "      <td>8124</td>\n",
              "      <td>8124</td>\n",
              "      <td>8124</td>\n",
              "      <td>8124</td>\n",
              "      <td>8124</td>\n",
              "      <td>8124</td>\n",
              "      <td>8124</td>\n",
              "      <td>8124</td>\n",
              "      <td>8124</td>\n",
              "      <td>...</td>\n",
              "      <td>8124</td>\n",
              "      <td>8124</td>\n",
              "      <td>8124</td>\n",
              "      <td>8124</td>\n",
              "      <td>8124</td>\n",
              "      <td>8124</td>\n",
              "      <td>8124</td>\n",
              "      <td>8124</td>\n",
              "      <td>8124</td>\n",
              "      <td>8124</td>\n",
              "    </tr>\n",
              "    <tr>\n",
              "      <th>unique</th>\n",
              "      <td>2</td>\n",
              "      <td>6</td>\n",
              "      <td>4</td>\n",
              "      <td>10</td>\n",
              "      <td>2</td>\n",
              "      <td>9</td>\n",
              "      <td>2</td>\n",
              "      <td>2</td>\n",
              "      <td>2</td>\n",
              "      <td>12</td>\n",
              "      <td>...</td>\n",
              "      <td>4</td>\n",
              "      <td>9</td>\n",
              "      <td>9</td>\n",
              "      <td>1</td>\n",
              "      <td>4</td>\n",
              "      <td>3</td>\n",
              "      <td>5</td>\n",
              "      <td>9</td>\n",
              "      <td>6</td>\n",
              "      <td>7</td>\n",
              "    </tr>\n",
              "    <tr>\n",
              "      <th>top</th>\n",
              "      <td>e</td>\n",
              "      <td>x</td>\n",
              "      <td>y</td>\n",
              "      <td>n</td>\n",
              "      <td>f</td>\n",
              "      <td>n</td>\n",
              "      <td>f</td>\n",
              "      <td>c</td>\n",
              "      <td>b</td>\n",
              "      <td>b</td>\n",
              "      <td>...</td>\n",
              "      <td>s</td>\n",
              "      <td>w</td>\n",
              "      <td>w</td>\n",
              "      <td>p</td>\n",
              "      <td>w</td>\n",
              "      <td>o</td>\n",
              "      <td>p</td>\n",
              "      <td>w</td>\n",
              "      <td>v</td>\n",
              "      <td>d</td>\n",
              "    </tr>\n",
              "    <tr>\n",
              "      <th>freq</th>\n",
              "      <td>4208</td>\n",
              "      <td>3656</td>\n",
              "      <td>3244</td>\n",
              "      <td>2284</td>\n",
              "      <td>4748</td>\n",
              "      <td>3528</td>\n",
              "      <td>7914</td>\n",
              "      <td>6812</td>\n",
              "      <td>5612</td>\n",
              "      <td>1728</td>\n",
              "      <td>...</td>\n",
              "      <td>4936</td>\n",
              "      <td>4464</td>\n",
              "      <td>4384</td>\n",
              "      <td>8124</td>\n",
              "      <td>7924</td>\n",
              "      <td>7488</td>\n",
              "      <td>3968</td>\n",
              "      <td>2388</td>\n",
              "      <td>4040</td>\n",
              "      <td>3148</td>\n",
              "    </tr>\n",
              "  </tbody>\n",
              "</table>\n",
              "<p>4 rows × 23 columns</p>\n",
              "</div>\n",
              "      <button class=\"colab-df-convert\" onclick=\"convertToInteractive('df-dd2bde3b-1437-41fb-bc34-349be8fe1fa4')\"\n",
              "              title=\"Convert this dataframe to an interactive table.\"\n",
              "              style=\"display:none;\">\n",
              "        \n",
              "  <svg xmlns=\"http://www.w3.org/2000/svg\" height=\"24px\"viewBox=\"0 0 24 24\"\n",
              "       width=\"24px\">\n",
              "    <path d=\"M0 0h24v24H0V0z\" fill=\"none\"/>\n",
              "    <path d=\"M18.56 5.44l.94 2.06.94-2.06 2.06-.94-2.06-.94-.94-2.06-.94 2.06-2.06.94zm-11 1L8.5 8.5l.94-2.06 2.06-.94-2.06-.94L8.5 2.5l-.94 2.06-2.06.94zm10 10l.94 2.06.94-2.06 2.06-.94-2.06-.94-.94-2.06-.94 2.06-2.06.94z\"/><path d=\"M17.41 7.96l-1.37-1.37c-.4-.4-.92-.59-1.43-.59-.52 0-1.04.2-1.43.59L10.3 9.45l-7.72 7.72c-.78.78-.78 2.05 0 2.83L4 21.41c.39.39.9.59 1.41.59.51 0 1.02-.2 1.41-.59l7.78-7.78 2.81-2.81c.8-.78.8-2.07 0-2.86zM5.41 20L4 18.59l7.72-7.72 1.47 1.35L5.41 20z\"/>\n",
              "  </svg>\n",
              "      </button>\n",
              "      \n",
              "  <style>\n",
              "    .colab-df-container {\n",
              "      display:flex;\n",
              "      flex-wrap:wrap;\n",
              "      gap: 12px;\n",
              "    }\n",
              "\n",
              "    .colab-df-convert {\n",
              "      background-color: #E8F0FE;\n",
              "      border: none;\n",
              "      border-radius: 50%;\n",
              "      cursor: pointer;\n",
              "      display: none;\n",
              "      fill: #1967D2;\n",
              "      height: 32px;\n",
              "      padding: 0 0 0 0;\n",
              "      width: 32px;\n",
              "    }\n",
              "\n",
              "    .colab-df-convert:hover {\n",
              "      background-color: #E2EBFA;\n",
              "      box-shadow: 0px 1px 2px rgba(60, 64, 67, 0.3), 0px 1px 3px 1px rgba(60, 64, 67, 0.15);\n",
              "      fill: #174EA6;\n",
              "    }\n",
              "\n",
              "    [theme=dark] .colab-df-convert {\n",
              "      background-color: #3B4455;\n",
              "      fill: #D2E3FC;\n",
              "    }\n",
              "\n",
              "    [theme=dark] .colab-df-convert:hover {\n",
              "      background-color: #434B5C;\n",
              "      box-shadow: 0px 1px 3px 1px rgba(0, 0, 0, 0.15);\n",
              "      filter: drop-shadow(0px 1px 2px rgba(0, 0, 0, 0.3));\n",
              "      fill: #FFFFFF;\n",
              "    }\n",
              "  </style>\n",
              "\n",
              "      <script>\n",
              "        const buttonEl =\n",
              "          document.querySelector('#df-dd2bde3b-1437-41fb-bc34-349be8fe1fa4 button.colab-df-convert');\n",
              "        buttonEl.style.display =\n",
              "          google.colab.kernel.accessAllowed ? 'block' : 'none';\n",
              "\n",
              "        async function convertToInteractive(key) {\n",
              "          const element = document.querySelector('#df-dd2bde3b-1437-41fb-bc34-349be8fe1fa4');\n",
              "          const dataTable =\n",
              "            await google.colab.kernel.invokeFunction('convertToInteractive',\n",
              "                                                     [key], {});\n",
              "          if (!dataTable) return;\n",
              "\n",
              "          const docLinkHtml = 'Like what you see? Visit the ' +\n",
              "            '<a target=\"_blank\" href=https://colab.research.google.com/notebooks/data_table.ipynb>data table notebook</a>'\n",
              "            + ' to learn more about interactive tables.';\n",
              "          element.innerHTML = '';\n",
              "          dataTable['output_type'] = 'display_data';\n",
              "          await google.colab.output.renderOutput(dataTable, element);\n",
              "          const docLink = document.createElement('div');\n",
              "          docLink.innerHTML = docLinkHtml;\n",
              "          element.appendChild(docLink);\n",
              "        }\n",
              "      </script>\n",
              "    </div>\n",
              "  </div>\n",
              "  "
            ],
            "text/plain": [
              "       class cap-shape cap-surface cap-color bruises  odor gill-attachment  \\\n",
              "count   8124      8124        8124      8124    8124  8124            8124   \n",
              "unique     2         6           4        10       2     9               2   \n",
              "top        e         x           y         n       f     n               f   \n",
              "freq    4208      3656        3244      2284    4748  3528            7914   \n",
              "\n",
              "       gill-spacing gill-size gill-color  ... stalk-surface-below-ring  \\\n",
              "count          8124      8124       8124  ...                     8124   \n",
              "unique            2         2         12  ...                        4   \n",
              "top               c         b          b  ...                        s   \n",
              "freq           6812      5612       1728  ...                     4936   \n",
              "\n",
              "       stalk-color-above-ring stalk-color-below-ring veil-type veil-color  \\\n",
              "count                    8124                   8124      8124       8124   \n",
              "unique                      9                      9         1          4   \n",
              "top                         w                      w         p          w   \n",
              "freq                     4464                   4384      8124       7924   \n",
              "\n",
              "       ring-number ring-type spore-print-color population habitat  \n",
              "count         8124      8124              8124       8124    8124  \n",
              "unique           3         5                 9          6       7  \n",
              "top              o         p                 w          v       d  \n",
              "freq          7488      3968              2388       4040    3148  \n",
              "\n",
              "[4 rows x 23 columns]"
            ]
          },
          "execution_count": 31,
          "metadata": {},
          "output_type": "execute_result"
        }
      ],
      "source": [
        "df.describe()"
      ]
    },
    {
      "cell_type": "markdown",
      "metadata": {
        "id": "2bhj_a8YH15A"
      },
      "source": [
        "**class** -dominant value is edible\n",
        "\n",
        "---\n",
        "\n",
        "\n",
        "**cap-shape** -dominant value is convex\n",
        "\n",
        "---\n",
        "**cap-color** -dominant value is brown\n",
        "\n",
        "\n",
        "---\n",
        "\n",
        "**odor** -dominant value is none\n"
      ]
    },
    {
      "cell_type": "code",
      "execution_count": 32,
      "metadata": {
        "colab": {
          "base_uri": "https://localhost:8080/"
        },
        "id": "CTNhQmjDI-F3",
        "outputId": "d74d373f-1bd6-4052-d0b6-845c135233ad"
      },
      "outputs": [
        {
          "name": "stdout",
          "output_type": "stream",
          "text": [
            "<class 'pandas.core.frame.DataFrame'>\n",
            "RangeIndex: 8124 entries, 0 to 8123\n",
            "Data columns (total 23 columns):\n",
            " #   Column                    Non-Null Count  Dtype \n",
            "---  ------                    --------------  ----- \n",
            " 0   class                     8124 non-null   object\n",
            " 1   cap-shape                 8124 non-null   object\n",
            " 2   cap-surface               8124 non-null   object\n",
            " 3   cap-color                 8124 non-null   object\n",
            " 4   bruises                   8124 non-null   object\n",
            " 5   odor                      8124 non-null   object\n",
            " 6   gill-attachment           8124 non-null   object\n",
            " 7   gill-spacing              8124 non-null   object\n",
            " 8   gill-size                 8124 non-null   object\n",
            " 9   gill-color                8124 non-null   object\n",
            " 10  stalk-shape               8124 non-null   object\n",
            " 11  stalk-root                8124 non-null   object\n",
            " 12  stalk-surface-above-ring  8124 non-null   object\n",
            " 13  stalk-surface-below-ring  8124 non-null   object\n",
            " 14  stalk-color-above-ring    8124 non-null   object\n",
            " 15  stalk-color-below-ring    8124 non-null   object\n",
            " 16  veil-type                 8124 non-null   object\n",
            " 17  veil-color                8124 non-null   object\n",
            " 18  ring-number               8124 non-null   object\n",
            " 19  ring-type                 8124 non-null   object\n",
            " 20  spore-print-color         8124 non-null   object\n",
            " 21  population                8124 non-null   object\n",
            " 22  habitat                   8124 non-null   object\n",
            "dtypes: object(23)\n",
            "memory usage: 1.4+ MB\n",
            "None\n",
            "\n",
            "\n",
            "# of NaNs: 0\n"
          ]
        }
      ],
      "source": [
        "print(df.info()) \n",
        "print(\"\\n\")\n",
        "print(\"# of NaNs: \" + str(df.isna().sum().sum()))"
      ]
    },
    {
      "cell_type": "code",
      "execution_count": 33,
      "metadata": {
        "colab": {
          "base_uri": "https://localhost:8080/"
        },
        "id": "ZuZLp8anEhSG",
        "outputId": "1ef800e0-5dad-4ab2-87fc-64c45ecf55c8"
      },
      "outputs": [
        {
          "name": "stdout",
          "output_type": "stream",
          "text": [
            "class                        2\n",
            "cap-shape                    6\n",
            "cap-surface                  4\n",
            "cap-color                   10\n",
            "bruises                      2\n",
            "odor                         9\n",
            "gill-attachment              2\n",
            "gill-spacing                 2\n",
            "gill-size                    2\n",
            "gill-color                  12\n",
            "stalk-shape                  2\n",
            "stalk-root                   5\n",
            "stalk-surface-above-ring     4\n",
            "stalk-surface-below-ring     4\n",
            "stalk-color-above-ring       9\n",
            "stalk-color-below-ring       9\n",
            "veil-type                    1\n",
            "veil-color                   4\n",
            "ring-number                  3\n",
            "ring-type                    5\n",
            "spore-print-color            9\n",
            "population                   6\n",
            "habitat                      7\n",
            "dtype: int64\n"
          ]
        }
      ],
      "source": [
        "print(df.nunique())"
      ]
    },
    {
      "cell_type": "markdown",
      "metadata": {
        "id": "rq4zEZAZKgrX"
      },
      "source": [
        "No missing values and all the columns are of object type( 22 indep. vars and 1 dependent var- ***class***)\n",
        "\n",
        "since the number of unique values for all cols is less than or eq to 12, can encode them to fit to the models. <br>\n",
        "From the description, all cols are non-ordinal categoric variables\n",
        "\n",
        "\n",
        "\n",
        "---\n",
        "\n"
      ]
    },
    {
      "cell_type": "code",
      "execution_count": 6,
      "metadata": {
        "id": "O8DsnI1rPeqa"
      },
      "outputs": [],
      "source": [
        "\n",
        "y = df[['class']]\n",
        "X = df.drop(df.columns[0],axis = 1)\n",
        "\n"
      ]
    },
    {
      "cell_type": "code",
      "execution_count": 10,
      "metadata": {},
      "outputs": [
        {
          "name": "stdout",
          "output_type": "stream",
          "text": [
            "class\n",
            "e    4208\n",
            "p    3916\n",
            "Name: odor, dtype: int64\n",
            "class  odor\n",
            "e      n       3408\n",
            "       a        400\n",
            "       l        400\n",
            "p      f       2160\n",
            "       s        576\n",
            "       y        576\n",
            "       p        256\n",
            "       c        192\n",
            "       n        120\n",
            "       m         36\n",
            "Name: count, dtype: int64\n"
          ]
        }
      ],
      "source": [
        "print(df.groupby(\"class\")[\"odor\"].count())\n",
        "print(df.groupby(\"class\")[\"odor\"].value_counts())"
      ]
    },
    {
      "cell_type": "code",
      "execution_count": 26,
      "metadata": {},
      "outputs": [
        {
          "name": "stdout",
          "output_type": "stream",
          "text": [
            "(8124, 8)\n",
            "<class 'pandas.core.frame.DataFrame'>\n",
            "<class 'pandas.core.series.Series'>\n",
            "(8124,)\n",
            "(6093, 8)\n",
            "(2031, 8)\n"
          ]
        }
      ],
      "source": [
        "X_od=df[\"odor\"]\n",
        "X_od = pd.get_dummies(X_od,drop_first=True)\n",
        "\n",
        "print(X_od.shape)\n",
        "print(type(X_od))\n",
        "print(type(y))\n",
        "\n",
        "classes = {'p': 1, 'e': 0}\n",
        "df[\"class\"]=df[\"class\"].map(classes)\n",
        "y= df[\"class\"]\n",
        "print(y.shape)\n",
        "X_tr,y_tr,X_tst,y_tst = train_test_split(X_od,y, test_size=0.25, random_state=42)\n",
        "\n",
        "print(X_tr.shape)\n",
        "print(y_tr.shape)"
      ]
    },
    {
      "cell_type": "code",
      "execution_count": 24,
      "metadata": {},
      "outputs": [
        {
          "ename": "ValueError",
          "evalue": "Found input variables with inconsistent numbers of samples: [2031, 6093]",
          "output_type": "error",
          "traceback": [
            "\u001b[1;31m---------------------------------------------------------------------------\u001b[0m",
            "\u001b[1;31mValueError\u001b[0m                                Traceback (most recent call last)",
            "Cell \u001b[1;32mIn[24], line 4\u001b[0m\n\u001b[0;32m      1\u001b[0m \u001b[39mfrom\u001b[39;00m \u001b[39msklearn\u001b[39;00m\u001b[39m.\u001b[39;00m\u001b[39mensemble\u001b[39;00m \u001b[39mimport\u001b[39;00m RandomForestClassifier\n\u001b[0;32m      3\u001b[0m rfc \u001b[39m=\u001b[39m RandomForestClassifier()\n\u001b[1;32m----> 4\u001b[0m rfc\u001b[39m.\u001b[39;49mfit(y_tr,X_tr)\n\u001b[0;32m      5\u001b[0m pred\u001b[39m=\u001b[39m rfc\u001b[39m.\u001b[39mpredict(X_tst)\n\u001b[0;32m      6\u001b[0m \u001b[39mprint\u001b[39m(accuracy_score(y_tst,pred))\n",
            "File \u001b[1;32mc:\\Users\\blilit\\Desktop\\AUA\\ML2023\\HW#7\\.conda\\lib\\site-packages\\sklearn\\ensemble\\_forest.py:345\u001b[0m, in \u001b[0;36mBaseForest.fit\u001b[1;34m(self, X, y, sample_weight)\u001b[0m\n\u001b[0;32m    343\u001b[0m \u001b[39mif\u001b[39;00m issparse(y):\n\u001b[0;32m    344\u001b[0m     \u001b[39mraise\u001b[39;00m \u001b[39mValueError\u001b[39;00m(\u001b[39m\"\u001b[39m\u001b[39msparse multilabel-indicator for y is not supported.\u001b[39m\u001b[39m\"\u001b[39m)\n\u001b[1;32m--> 345\u001b[0m X, y \u001b[39m=\u001b[39m \u001b[39mself\u001b[39;49m\u001b[39m.\u001b[39;49m_validate_data(\n\u001b[0;32m    346\u001b[0m     X, y, multi_output\u001b[39m=\u001b[39;49m\u001b[39mTrue\u001b[39;49;00m, accept_sparse\u001b[39m=\u001b[39;49m\u001b[39m\"\u001b[39;49m\u001b[39mcsc\u001b[39;49m\u001b[39m\"\u001b[39;49m, dtype\u001b[39m=\u001b[39;49mDTYPE\n\u001b[0;32m    347\u001b[0m )\n\u001b[0;32m    348\u001b[0m \u001b[39mif\u001b[39;00m sample_weight \u001b[39mis\u001b[39;00m \u001b[39mnot\u001b[39;00m \u001b[39mNone\u001b[39;00m:\n\u001b[0;32m    349\u001b[0m     sample_weight \u001b[39m=\u001b[39m _check_sample_weight(sample_weight, X)\n",
            "File \u001b[1;32mc:\\Users\\blilit\\Desktop\\AUA\\ML2023\\HW#7\\.conda\\lib\\site-packages\\sklearn\\base.py:565\u001b[0m, in \u001b[0;36mBaseEstimator._validate_data\u001b[1;34m(self, X, y, reset, validate_separately, **check_params)\u001b[0m\n\u001b[0;32m    563\u001b[0m         y \u001b[39m=\u001b[39m check_array(y, input_name\u001b[39m=\u001b[39m\u001b[39m\"\u001b[39m\u001b[39my\u001b[39m\u001b[39m\"\u001b[39m, \u001b[39m*\u001b[39m\u001b[39m*\u001b[39mcheck_y_params)\n\u001b[0;32m    564\u001b[0m     \u001b[39melse\u001b[39;00m:\n\u001b[1;32m--> 565\u001b[0m         X, y \u001b[39m=\u001b[39m check_X_y(X, y, \u001b[39m*\u001b[39m\u001b[39m*\u001b[39mcheck_params)\n\u001b[0;32m    566\u001b[0m     out \u001b[39m=\u001b[39m X, y\n\u001b[0;32m    568\u001b[0m \u001b[39mif\u001b[39;00m \u001b[39mnot\u001b[39;00m no_val_X \u001b[39mand\u001b[39;00m check_params\u001b[39m.\u001b[39mget(\u001b[39m\"\u001b[39m\u001b[39mensure_2d\u001b[39m\u001b[39m\"\u001b[39m, \u001b[39mTrue\u001b[39;00m):\n",
            "File \u001b[1;32mc:\\Users\\blilit\\Desktop\\AUA\\ML2023\\HW#7\\.conda\\lib\\site-packages\\sklearn\\utils\\validation.py:1124\u001b[0m, in \u001b[0;36mcheck_X_y\u001b[1;34m(X, y, accept_sparse, accept_large_sparse, dtype, order, copy, force_all_finite, ensure_2d, allow_nd, multi_output, ensure_min_samples, ensure_min_features, y_numeric, estimator)\u001b[0m\n\u001b[0;32m   1106\u001b[0m X \u001b[39m=\u001b[39m check_array(\n\u001b[0;32m   1107\u001b[0m     X,\n\u001b[0;32m   1108\u001b[0m     accept_sparse\u001b[39m=\u001b[39maccept_sparse,\n\u001b[1;32m   (...)\u001b[0m\n\u001b[0;32m   1119\u001b[0m     input_name\u001b[39m=\u001b[39m\u001b[39m\"\u001b[39m\u001b[39mX\u001b[39m\u001b[39m\"\u001b[39m,\n\u001b[0;32m   1120\u001b[0m )\n\u001b[0;32m   1122\u001b[0m y \u001b[39m=\u001b[39m _check_y(y, multi_output\u001b[39m=\u001b[39mmulti_output, y_numeric\u001b[39m=\u001b[39my_numeric, estimator\u001b[39m=\u001b[39mestimator)\n\u001b[1;32m-> 1124\u001b[0m check_consistent_length(X, y)\n\u001b[0;32m   1126\u001b[0m \u001b[39mreturn\u001b[39;00m X, y\n",
            "File \u001b[1;32mc:\\Users\\blilit\\Desktop\\AUA\\ML2023\\HW#7\\.conda\\lib\\site-packages\\sklearn\\utils\\validation.py:397\u001b[0m, in \u001b[0;36mcheck_consistent_length\u001b[1;34m(*arrays)\u001b[0m\n\u001b[0;32m    395\u001b[0m uniques \u001b[39m=\u001b[39m np\u001b[39m.\u001b[39munique(lengths)\n\u001b[0;32m    396\u001b[0m \u001b[39mif\u001b[39;00m \u001b[39mlen\u001b[39m(uniques) \u001b[39m>\u001b[39m \u001b[39m1\u001b[39m:\n\u001b[1;32m--> 397\u001b[0m     \u001b[39mraise\u001b[39;00m \u001b[39mValueError\u001b[39;00m(\n\u001b[0;32m    398\u001b[0m         \u001b[39m\"\u001b[39m\u001b[39mFound input variables with inconsistent numbers of samples: \u001b[39m\u001b[39m%r\u001b[39;00m\u001b[39m\"\u001b[39m\n\u001b[0;32m    399\u001b[0m         \u001b[39m%\u001b[39m [\u001b[39mint\u001b[39m(l) \u001b[39mfor\u001b[39;00m l \u001b[39min\u001b[39;00m lengths]\n\u001b[0;32m    400\u001b[0m     )\n",
            "\u001b[1;31mValueError\u001b[0m: Found input variables with inconsistent numbers of samples: [2031, 6093]"
          ]
        }
      ],
      "source": [
        "from sklearn.ensemble import RandomForestClassifier\n",
        "\n",
        "rfc = RandomForestClassifier()\n",
        "rfc.fit(y_tr,X_tr)\n",
        "pred= rfc.predict(X_tst)\n",
        "print(accuracy_score(y_tst,pred))\n",
        "print(precision_score(y_tst,pred))"
      ]
    },
    {
      "cell_type": "markdown",
      "metadata": {
        "id": "wDRE4RVqFxxx"
      },
      "source": [
        "# PLOTS\n"
      ]
    },
    {
      "cell_type": "code",
      "execution_count": null,
      "metadata": {
        "colab": {
          "base_uri": "https://localhost:8080/",
          "height": 507
        },
        "id": "KwGheBhNKZvc",
        "outputId": "cd2de0fc-d9a7-4371-8b36-2e1c9118d558"
      },
      "outputs": [
        {
          "data": {
            "image/png": "[encoded data removed]",
            "text/plain": [
              "<Figure size 500x500 with 1 Axes>"
            ]
          },
          "metadata": {},
          "output_type": "display_data"
        }
      ],
      "source": [
        "sns.catplot(data=df, x=\"class\", y=\"odor\")\n",
        "plt.show()  # poisoonous ones do not appear with a and l odors , while edible ones have only l,a,n smells"
      ]
    },
    {
      "cell_type": "code",
      "execution_count": null,
      "metadata": {
        "colab": {
          "base_uri": "https://localhost:8080/",
          "height": 449
        },
        "id": "MCa4w635K9eA",
        "outputId": "2adebb50-1a3c-485a-f65d-0d5201fdccef"
      },
      "outputs": [
        {
          "data": {
            "image/png": "[encoded data removed]",
            "text/plain": [
              "<Figure size 640x480 with 1 Axes>"
            ]
          },
          "metadata": {},
          "output_type": "display_data"
        }
      ],
      "source": [
        "sns.stripplot(data=df, x=\"class\",y=\"population\", hue=\"spore-print-color\")\n",
        "plt.show()\n",
        "#edible ones have more diverse population while poisions ones either appear alone or with several ones together or solitary or clustered."
      ]
    },
    {
      "cell_type": "code",
      "execution_count": 35,
      "metadata": {
        "colab": {
          "base_uri": "https://localhost:8080/",
          "height": 920
        },
        "id": "5rg_18YoLtWv",
        "outputId": "28fce6d1-8468-4233-e015-458da20b0136"
      },
      "outputs": [
        {
          "name": "stderr",
          "output_type": "stream",
          "text": [
            "/usr/local/lib/python3.9/dist-packages/seaborn/categorical.py:3544: UserWarning: 92.7% of the points cannot be placed; you may want to decrease the size of the markers or use stripplot.\n",
            "  warnings.warn(msg, UserWarning)\n",
            "/usr/local/lib/python3.9/dist-packages/seaborn/categorical.py:3544: UserWarning: 97.9% of the points cannot be placed; you may want to decrease the size of the markers or use stripplot.\n",
            "  warnings.warn(msg, UserWarning)\n",
            "/usr/local/lib/python3.9/dist-packages/seaborn/categorical.py:3544: UserWarning: 90.8% of the points cannot be placed; you may want to decrease the size of the markers or use stripplot.\n",
            "  warnings.warn(msg, UserWarning)\n",
            "/usr/local/lib/python3.9/dist-packages/seaborn/categorical.py:3544: UserWarning: 97.7% of the points cannot be placed; you may want to decrease the size of the markers or use stripplot.\n",
            "  warnings.warn(msg, UserWarning)\n",
            "/usr/local/lib/python3.9/dist-packages/seaborn/categorical.py:3544: UserWarning: 95.3% of the points cannot be placed; you may want to decrease the size of the markers or use stripplot.\n",
            "  warnings.warn(msg, UserWarning)\n",
            "/usr/local/lib/python3.9/dist-packages/seaborn/categorical.py:3544: UserWarning: 95.7% of the points cannot be placed; you may want to decrease the size of the markers or use stripplot.\n",
            "  warnings.warn(msg, UserWarning)\n",
            "/usr/local/lib/python3.9/dist-packages/seaborn/categorical.py:3544: UserWarning: 94.3% of the points cannot be placed; you may want to decrease the size of the markers or use stripplot.\n",
            "  warnings.warn(msg, UserWarning)\n",
            "/usr/local/lib/python3.9/dist-packages/seaborn/categorical.py:3544: UserWarning: 98.4% of the points cannot be placed; you may want to decrease the size of the markers or use stripplot.\n",
            "  warnings.warn(msg, UserWarning)\n",
            "/usr/local/lib/python3.9/dist-packages/seaborn/categorical.py:3544: UserWarning: 92.8% of the points cannot be placed; you may want to decrease the size of the markers or use stripplot.\n",
            "  warnings.warn(msg, UserWarning)\n",
            "/usr/local/lib/python3.9/dist-packages/seaborn/categorical.py:3544: UserWarning: 98.2% of the points cannot be placed; you may want to decrease the size of the markers or use stripplot.\n",
            "  warnings.warn(msg, UserWarning)\n",
            "/usr/local/lib/python3.9/dist-packages/seaborn/categorical.py:3544: UserWarning: 96.3% of the points cannot be placed; you may want to decrease the size of the markers or use stripplot.\n",
            "  warnings.warn(msg, UserWarning)\n",
            "/usr/local/lib/python3.9/dist-packages/seaborn/categorical.py:3544: UserWarning: 96.4% of the points cannot be placed; you may want to decrease the size of the markers or use stripplot.\n",
            "  warnings.warn(msg, UserWarning)\n",
            "/usr/local/lib/python3.9/dist-packages/seaborn/categorical.py:3544: UserWarning: 96.6% of the points cannot be placed; you may want to decrease the size of the markers or use stripplot.\n",
            "  warnings.warn(msg, UserWarning)\n"
          ]
        },
        {
          "data": {
            "image/png": "[encoded data removed]",
            "text/plain": [
              "<Figure size 640x480 with 1 Axes>"
            ]
          },
          "metadata": {},
          "output_type": "display_data"
        }
      ],
      "source": [
        "sns.swarmplot(data=df,x=\"habitat\",y=\"odor\", hue=\"class\")\n",
        "plt.show()   ###only very few posionous mushrooms live in woods and meadows, and no  poisionous mushroom smells liek almonds or anise(a ,l) and only few have no smell, so the majority of poisonous ones do have an odor"
      ]
    },
    {
      "cell_type": "code",
      "execution_count": null,
      "metadata": {
        "colab": {
          "base_uri": "https://localhost:8080/",
          "height": 1000
        },
        "id": "MqfVnstoHGiG",
        "outputId": "c344dfae-784d-4097-bd27-75bb264f2242"
      },
      "outputs": [
        {
          "data": {
            "image/png": "[encoded data removed]",
            "text/plain": [
              "<Figure size 2000x2000 with 72 Axes>"
            ]
          },
          "metadata": {},
          "output_type": "display_data"
        }
      ],
      "source": [
        "# sns.set()\n",
        "cols = ['class', 'cap-shape', 'odor', 'stalk-shape','veil-type', 'veil-color', 'ring-number','habitat' ]\n",
        "sns.pairplot(data=df, vars=cols)\n",
        "plt.show()"
      ]
    },
    {
      "cell_type": "markdown",
      "metadata": {
        "id": "YRaPXwY5IX1P"
      },
      "source": [
        "there are more d=wood habitats, more o=single ring_number, vel-color=white, all veil-types are partial, stalk-shapes and classes are nearly balanced, etc... <br>\n",
        "poisionous mushrooms don't have orange and brown veilcolors, they have different odors than edible ones, are sometimes conical unlike edible mushrooms, poisonous mushrooms do not appear in waste habitats while edible ones live everywhere.\n",
        "tapering stalk-shapes are only of white color.... "
      ]
    },
    {
      "cell_type": "code",
      "execution_count": 37,
      "metadata": {
        "id": "SpwmKtFsM-QX"
      },
      "outputs": [],
      "source": [
        "classes = {'p': 1, 'e': 0}\n",
        "df[\"class\"]=df[\"class\"].map(classes)\n",
        "\n"
      ]
    },
    {
      "cell_type": "code",
      "execution_count": null,
      "metadata": {
        "colab": {
          "base_uri": "https://localhost:8080/",
          "height": 449
        },
        "id": "2yTRNAkgaICn",
        "outputId": "93706107-23ec-4b60-d014-6a7f822c025f"
      },
      "outputs": [
        {
          "data": {
            "image/png": "[encoded data removed]",
            "text/plain": [
              "<Figure size 640x480 with 1 Axes>"
            ]
          },
          "metadata": {},
          "output_type": "display_data"
        }
      ],
      "source": [
        "sns.barplot(data=df, x=\"class\",y=df.groupby([\"class\"])[\"class\"].count(), color=[0,1,.8])\n",
        "plt.show()  # balanced data, no need for up/downsampling"
      ]
    },
    {
      "cell_type": "code",
      "execution_count": null,
      "metadata": {
        "colab": {
          "base_uri": "https://localhost:8080/",
          "height": 449
        },
        "id": "IfF4c4KGdYWo",
        "outputId": "bc27ced3-0d3a-4db9-8878-825fb3dc60fd"
      },
      "outputs": [
        {
          "data": {
            "image/png": "[encoded data removed]",
            "text/plain": [
              "<Figure size 640x480 with 1 Axes>"
            ]
          },
          "metadata": {},
          "output_type": "display_data"
        }
      ],
      "source": [
        "# import math\n",
        "sns.barplot(data=df, x=\"class\",y=\"ring-type\",errorbar=(\"pi\",50),errcolor=\".5\",linewidth=2,edgecolor=\"0.2\")\n",
        "plt.show()\n",
        "# # mushrooms "
      ]
    },
    {
      "cell_type": "code",
      "execution_count": null,
      "metadata": {
        "colab": {
          "base_uri": "https://localhost:8080/"
        },
        "id": "6AY-9Fgof8GI",
        "outputId": "ec6b8d37-72a2-449c-aa11-de2d45b05500"
      },
      "outputs": [
        {
          "name": "stdout",
          "output_type": "stream",
          "text": [
            "   class ring-type  Count\n",
            "0      0         e   1008\n",
            "1      0         f     48\n",
            "2      0         p   3152\n",
            "3      1         e   1768\n",
            "4      1         l   1296\n",
            "5      1         n     36\n",
            "6      1         p    816\n"
          ]
        }
      ],
      "source": [
        "grouped_data = df.groupby([\"class\", \"ring-type\"])['ring-type'].count().reset_index(name = \"Count\",inplace=False)\n",
        "print(grouped_data)"
      ]
    },
    {
      "cell_type": "code",
      "execution_count": null,
      "metadata": {
        "colab": {
          "base_uri": "https://localhost:8080/",
          "height": 467
        },
        "id": "xvftRaZ-gK4K",
        "outputId": "a55e493f-1e2c-4352-f159-b0e0130d6e0b"
      },
      "outputs": [
        {
          "data": {
            "text/plain": [
              "<Axes: xlabel='class', ylabel='Count'>"
            ]
          },
          "execution_count": 18,
          "metadata": {},
          "output_type": "execute_result"
        },
        {
          "data": {
            "image/png": "[encoded data removed]",
            "text/plain": [
              "<Figure size 640x480 with 1 Axes>"
            ]
          },
          "metadata": {},
          "output_type": "display_data"
        }
      ],
      "source": [
        "sns.barplot(data = grouped_data, x = \"class\", y =\"Count\", hue = \"ring-type\")  #the majority of edibles has pendant ring types, while for poisouns evanescent is dominating"
      ]
    },
    {
      "cell_type": "code",
      "execution_count": 38,
      "metadata": {
        "id": "WG33t5z-j6Q_"
      },
      "outputs": [],
      "source": [
        "X = pd.get_dummies(X,drop_first=True)"
      ]
    },
    {
      "cell_type": "code",
      "execution_count": 39,
      "metadata": {
        "colab": {
          "base_uri": "https://localhost:8080/",
          "height": 780
        },
        "id": "qPp_sx9wi4Kl",
        "outputId": "c2c66b91-e898-422e-edee-5721fec33726"
      },
      "outputs": [
        {
          "name": "stdout",
          "output_type": "stream",
          "text": [
            "Find most important features relative to target\n"
          ]
        },
        {
          "name": "stderr",
          "output_type": "stream",
          "text": [
            "<ipython-input-39-bff8bb24b6a4>:4: DeprecationWarning: `np.bool` is a deprecated alias for the builtin `bool`. To silence this warning, use `bool` by itself. Doing this will not modify any behavior and is safe. If you specifically wanted the numpy scalar type, use `np.bool_` here.\n",
            "Deprecated in NumPy 1.20; for more details and guidance: https://numpy.org/devdocs/release/1.20.0-notes.html#deprecations\n",
            "  upper = cor.where(np.triu(np.ones(cor.shape),k=1).astype(np.bool))\n"
          ]
        },
        {
          "name": "stdout",
          "output_type": "stream",
          "text": [
            "['stalk-color-above-ring_c', 'stalk-color-above-ring_o', 'stalk-color-below-ring_c', 'stalk-color-below-ring_o', 'veil-color_w', 'veil-color_y', 'ring-number_t', 'ring-type_n']\n",
            "[]\n"
          ]
        },
        {
          "name": "stderr",
          "output_type": "stream",
          "text": [
            "<ipython-input-39-bff8bb24b6a4>:14: DeprecationWarning: `np.bool` is a deprecated alias for the builtin `bool`. To silence this warning, use `bool` by itself. Doing this will not modify any behavior and is safe. If you specifically wanted the numpy scalar type, use `np.bool_` here.\n",
            "Deprecated in NumPy 1.20; for more details and guidance: https://numpy.org/devdocs/release/1.20.0-notes.html#deprecations\n",
            "  upper = cor.where(np.triu(np.ones(cor.shape),k=1).astype(np.bool))\n"
          ]
        },
        {
          "data": {
            "image/png": "[encoded data removed]",
            "text/plain": [
              "<Figure size 640x480 with 2 Axes>"
            ]
          },
          "metadata": {},
          "output_type": "display_data"
        }
      ],
      "source": [
        "print(\"Find most important features relative to target\")\n",
        "cor = X.corr().abs()\n",
        "# get upper triangle of correlation matrix\n",
        "upper = cor.where(np.triu(np.ones(cor.shape),k=1).astype(np.bool))\n",
        "# find features with correlation greater than 0.9\n",
        "to_drop = [column for column in upper.columns if any(upper[column] > 0.9)]\n",
        "print(to_drop)\n",
        "# # drop highly correlated features\n",
        "X.drop(to_drop, axis=1, inplace=True)\n",
        "\n",
        "\n",
        "\n",
        "cor = X.corr().abs()\n",
        "upper = cor.where(np.triu(np.ones(cor.shape),k=1).astype(np.bool))\n",
        "to_drop = [column for column in upper.columns if any(upper[column] > 0.9)]\n",
        "print(to_drop)\n",
        "X.drop(to_drop, axis=1, inplace=True)\n",
        "\n",
        "\n",
        "cor = X.corr().abs()\n",
        "sns.heatmap(cor)\n",
        "plt.show()\n",
        "#this you can see at the time of heatmap also."
      ]
    },
    {
      "cell_type": "markdown",
      "metadata": {
        "id": "VDSZHYgCMLGF"
      },
      "source": [
        "\n",
        "\n",
        "# ---\n",
        "\n",
        "\n",
        "\n",
        "> ***MODELS***\n",
        "\n",
        "> LOGISTIC RERESSION\n",
        "\n",
        "\n",
        "\n",
        "\n",
        "\n",
        "\n",
        "\n",
        "---\n",
        "\n"
      ]
    },
    {
      "cell_type": "code",
      "execution_count": 40,
      "metadata": {
        "id": "IzNkmKV7o9d2"
      },
      "outputs": [],
      "source": [
        "y = df['class'] #.map({'p': 1, 'e': 0})\n",
        "\n",
        "# for col_name, col in X.items():\n",
        "#     if (col.dtype == object): X[col_name] = col.astype('category').cat.as_ordered()\n",
        "\n",
        "# X = pd.get_dummies(X,drop_first=True)\n",
        "\n",
        "X_train, X_test, y_train, y_test = train_test_split(X, y, test_size=0.3, random_state=42)\n",
        "\n",
        "scaler = StandardScaler().fit(X_train)\n",
        "train_sc = scaler.transform(X_train)\n",
        "\n",
        "test_sc = scaler.transform(X_test)\n"
      ]
    },
    {
      "cell_type": "code",
      "execution_count": 14,
      "metadata": {
        "colab": {
          "base_uri": "https://localhost:8080/"
        },
        "id": "TV0EIhGy639w",
        "outputId": "f195f6e0-6f03-4265-a0f1-904602eb3153"
      },
      "outputs": [
        {
          "name": "stdout",
          "output_type": "stream",
          "text": [
            "(5686, 87)\n",
            "(2438, 87)\n",
            "(8124, 23)\n"
          ]
        }
      ],
      "source": [
        "print(train_sc.shape)\n",
        "print(test_sc.shape)\n",
        "print(df.shape)"
      ]
    },
    {
      "cell_type": "code",
      "execution_count": 41,
      "metadata": {
        "colab": {
          "base_uri": "https://localhost:8080/",
          "height": 75
        },
        "id": "mmKqexBrlqvK",
        "outputId": "484ac84b-30e4-41d6-cf77-0d0d698236ed"
      },
      "outputs": [
        {
          "data": {
            "text/html": [
              "<style>#sk-container-id-2 {color: black;background-color: white;}#sk-container-id-2 pre{padding: 0;}#sk-container-id-2 div.sk-toggleable {background-color: white;}#sk-container-id-2 label.sk-toggleable__label {cursor: pointer;display: block;width: 100%;margin-bottom: 0;padding: 0.3em;box-sizing: border-box;text-align: center;}#sk-container-id-2 label.sk-toggleable__label-arrow:before {content: \"▸\";float: left;margin-right: 0.25em;color: #696969;}#sk-container-id-2 label.sk-toggleable__label-arrow:hover:before {color: black;}#sk-container-id-2 div.sk-estimator:hover label.sk-toggleable__label-arrow:before {color: black;}#sk-container-id-2 div.sk-toggleable__content {max-height: 0;max-width: 0;overflow: hidden;text-align: left;background-color: #f0f8ff;}#sk-container-id-2 div.sk-toggleable__content pre {margin: 0.2em;color: black;border-radius: 0.25em;background-color: #f0f8ff;}#sk-container-id-2 input.sk-toggleable__control:checked~div.sk-toggleable__content {max-height: 200px;max-width: 100%;overflow: auto;}#sk-container-id-2 input.sk-toggleable__control:checked~label.sk-toggleable__label-arrow:before {content: \"▾\";}#sk-container-id-2 div.sk-estimator input.sk-toggleable__control:checked~label.sk-toggleable__label {background-color: #d4ebff;}#sk-container-id-2 div.sk-label input.sk-toggleable__control:checked~label.sk-toggleable__label {background-color: #d4ebff;}#sk-container-id-2 input.sk-hidden--visually {border: 0;clip: rect(1px 1px 1px 1px);clip: rect(1px, 1px, 1px, 1px);height: 1px;margin: -1px;overflow: hidden;padding: 0;position: absolute;width: 1px;}#sk-container-id-2 div.sk-estimator {font-family: monospace;background-color: #f0f8ff;border: 1px dotted black;border-radius: 0.25em;box-sizing: border-box;margin-bottom: 0.5em;}#sk-container-id-2 div.sk-estimator:hover {background-color: #d4ebff;}#sk-container-id-2 div.sk-parallel-item::after {content: \"\";width: 100%;border-bottom: 1px solid gray;flex-grow: 1;}#sk-container-id-2 div.sk-label:hover label.sk-toggleable__label {background-color: #d4ebff;}#sk-container-id-2 div.sk-serial::before {content: \"\";position: absolute;border-left: 1px solid gray;box-sizing: border-box;top: 0;bottom: 0;left: 50%;z-index: 0;}#sk-container-id-2 div.sk-serial {display: flex;flex-direction: column;align-items: center;background-color: white;padding-right: 0.2em;padding-left: 0.2em;position: relative;}#sk-container-id-2 div.sk-item {position: relative;z-index: 1;}#sk-container-id-2 div.sk-parallel {display: flex;align-items: stretch;justify-content: center;background-color: white;position: relative;}#sk-container-id-2 div.sk-item::before, #sk-container-id-2 div.sk-parallel-item::before {content: \"\";position: absolute;border-left: 1px solid gray;box-sizing: border-box;top: 0;bottom: 0;left: 50%;z-index: -1;}#sk-container-id-2 div.sk-parallel-item {display: flex;flex-direction: column;z-index: 1;position: relative;background-color: white;}#sk-container-id-2 div.sk-parallel-item:first-child::after {align-self: flex-end;width: 50%;}#sk-container-id-2 div.sk-parallel-item:last-child::after {align-self: flex-start;width: 50%;}#sk-container-id-2 div.sk-parallel-item:only-child::after {width: 0;}#sk-container-id-2 div.sk-dashed-wrapped {border: 1px dashed gray;margin: 0 0.4em 0.5em 0.4em;box-sizing: border-box;padding-bottom: 0.4em;background-color: white;}#sk-container-id-2 div.sk-label label {font-family: monospace;font-weight: bold;display: inline-block;line-height: 1.2em;}#sk-container-id-2 div.sk-label-container {text-align: center;}#sk-container-id-2 div.sk-container {/* jupyter's `normalize.less` sets `[hidden] { display: none; }` but bootstrap.min.css set `[hidden] { display: none !important; }` so we also need the `!important` here to be able to override the default hidden behavior on the sphinx rendered scikit-learn.org. See: https://github.com/scikit-learn/scikit-learn/issues/21755 */display: inline-block !important;position: relative;}#sk-container-id-2 div.sk-text-repr-fallback {display: none;}</style><div id=\"sk-container-id-2\" class=\"sk-top-container\"><div class=\"sk-text-repr-fallback\"><pre>LogisticRegression(max_iter=1000)</pre><b>In a Jupyter environment, please rerun this cell to show the HTML representation or trust the notebook. <br />On GitHub, the HTML representation is unable to render, please try loading this page with nbviewer.org.</b></div><div class=\"sk-container\" hidden><div class=\"sk-item\"><div class=\"sk-estimator sk-toggleable\"><input class=\"sk-toggleable__control sk-hidden--visually\" id=\"sk-estimator-id-2\" type=\"checkbox\" checked><label for=\"sk-estimator-id-2\" class=\"sk-toggleable__label sk-toggleable__label-arrow\">LogisticRegression</label><div class=\"sk-toggleable__content\"><pre>LogisticRegression(max_iter=1000)</pre></div></div></div></div></div>"
            ],
            "text/plain": [
              "LogisticRegression(max_iter=1000)"
            ]
          },
          "execution_count": 41,
          "metadata": {},
          "output_type": "execute_result"
        }
      ],
      "source": [
        "lr_model = LogisticRegression(max_iter=1000)\n",
        "lr_model.fit(X_train, y_train)"
      ]
    },
    {
      "cell_type": "code",
      "execution_count": 44,
      "metadata": {
        "colab": {
          "base_uri": "https://localhost:8080/"
        },
        "id": "OsbSfVR8mdf5",
        "outputId": "32045a60-61bd-4270-be36-29def04858ee"
      },
      "outputs": [
        {
          "name": "stdout",
          "output_type": "stream",
          "text": [
            "Accuracy: 0.9992\n",
            "Precision: 1.0000\n",
            "Recall: 0.9983\n",
            "F1 score: 0.9992\n"
          ]
        }
      ],
      "source": [
        "#without using StandardScaler\n",
        "\n",
        "y_pred = lr_model.predict(X_test)  \n",
        "\n",
        "# Calculate evaluation metrics\n",
        "acc = accuracy_score(y_test, y_pred)\n",
        "prec = precision_score(y_test, y_pred)\n",
        "rec = recall_score(y_test, y_pred)\n",
        "f1 = f1_score(y_test, y_pred)\n",
        "\n",
        "# Print evaluation metrics\n",
        "print(f\"Accuracy: {acc:.4f}\")\n",
        "print(f\"Precision: {prec:.4f}\")\n",
        "print(f\"Recall: {rec:.4f}\")\n",
        "print(f\"F1 score: {f1:.4f}\")\n"
      ]
    },
    {
      "cell_type": "code",
      "execution_count": 45,
      "metadata": {
        "colab": {
          "base_uri": "https://localhost:8080/"
        },
        "id": "Mu25RR2ANbHS",
        "outputId": "e4742835-c42b-4227-fc17-55fa8065ac27"
      },
      "outputs": [
        {
          "name": "stdout",
          "output_type": "stream",
          "text": [
            "\n",
            "Confusion Matrix : \n",
            " [[1257    0]\n",
            " [   2 1179]]\n"
          ]
        }
      ],
      "source": [
        "from sklearn.metrics import confusion_matrix\n",
        "\n",
        "cm = confusion_matrix(y_test, y_pred) \n",
        "print (\"\\nConfusion Matrix : \\n\", cm)  #only 2 false positives and no false negatives"
      ]
    },
    {
      "cell_type": "code",
      "execution_count": 46,
      "metadata": {
        "colab": {
          "base_uri": "https://localhost:8080/"
        },
        "id": "o0olybg24kbT",
        "outputId": "cdadf843-be13-47e5-b850-df9e31e0bc53"
      },
      "outputs": [
        {
          "name": "stdout",
          "output_type": "stream",
          "text": [
            "Accuracy: 1.0000\n",
            "Precision: 1.0000\n",
            "Recall: 1.0000\n",
            "F1 score: 1.0000\n"
          ]
        }
      ],
      "source": [
        "# using standard scaler\n",
        "\n",
        "lr_model = LogisticRegression(max_iter=1000)\n",
        "lr_model.fit(train_sc, y_train)\n",
        "\n",
        "y_pred2 = lr_model.predict(test_sc)  \n",
        "\n",
        "# Calculate evaluation metrics\n",
        "acc = accuracy_score(y_test, y_pred2)\n",
        "prec = precision_score(y_test, y_pred2)\n",
        "rec = recall_score(y_test, y_pred2)\n",
        "f1 = f1_score(y_test, y_pred2)\n",
        "\n",
        "# Print evaluation metrics\n",
        "print(f\"Accuracy: {acc:.4f}\")\n",
        "print(f\"Precision: {prec:.4f}\")\n",
        "print(f\"Recall: {rec:.4f}\")\n",
        "print(f\"F1 score: {f1:.4f}\")\n",
        "\n",
        "\n",
        "# all score measures are 1s ??\n"
      ]
    },
    {
      "cell_type": "markdown",
      "metadata": {
        "id": "QiJRKF-z93nY"
      },
      "source": [
        "\n",
        "\n",
        "---\n",
        "\n",
        "\n",
        "\n",
        ">  ***KNN***\n",
        "\n",
        "---\n",
        "\n",
        "\n",
        "\n",
        "\n",
        "\n",
        "\n",
        "\n"
      ]
    },
    {
      "cell_type": "code",
      "execution_count": 47,
      "metadata": {
        "id": "a_WcGtYV_tJS"
      },
      "outputs": [],
      "source": [
        "from sklearn.ensemble import RandomForestClassifier"
      ]
    },
    {
      "cell_type": "code",
      "execution_count": 48,
      "metadata": {
        "colab": {
          "base_uri": "https://localhost:8080/",
          "height": 75
        },
        "id": "LSE5kFQA-DVY",
        "outputId": "6dc65036-0777-4df3-dcb8-18f4f86fdaf0"
      },
      "outputs": [
        {
          "data": {
            "text/html": [
              "<style>#sk-container-id-3 {color: black;background-color: white;}#sk-container-id-3 pre{padding: 0;}#sk-container-id-3 div.sk-toggleable {background-color: white;}#sk-container-id-3 label.sk-toggleable__label {cursor: pointer;display: block;width: 100%;margin-bottom: 0;padding: 0.3em;box-sizing: border-box;text-align: center;}#sk-container-id-3 label.sk-toggleable__label-arrow:before {content: \"▸\";float: left;margin-right: 0.25em;color: #696969;}#sk-container-id-3 label.sk-toggleable__label-arrow:hover:before {color: black;}#sk-container-id-3 div.sk-estimator:hover label.sk-toggleable__label-arrow:before {color: black;}#sk-container-id-3 div.sk-toggleable__content {max-height: 0;max-width: 0;overflow: hidden;text-align: left;background-color: #f0f8ff;}#sk-container-id-3 div.sk-toggleable__content pre {margin: 0.2em;color: black;border-radius: 0.25em;background-color: #f0f8ff;}#sk-container-id-3 input.sk-toggleable__control:checked~div.sk-toggleable__content {max-height: 200px;max-width: 100%;overflow: auto;}#sk-container-id-3 input.sk-toggleable__control:checked~label.sk-toggleable__label-arrow:before {content: \"▾\";}#sk-container-id-3 div.sk-estimator input.sk-toggleable__control:checked~label.sk-toggleable__label {background-color: #d4ebff;}#sk-container-id-3 div.sk-label input.sk-toggleable__control:checked~label.sk-toggleable__label {background-color: #d4ebff;}#sk-container-id-3 input.sk-hidden--visually {border: 0;clip: rect(1px 1px 1px 1px);clip: rect(1px, 1px, 1px, 1px);height: 1px;margin: -1px;overflow: hidden;padding: 0;position: absolute;width: 1px;}#sk-container-id-3 div.sk-estimator {font-family: monospace;background-color: #f0f8ff;border: 1px dotted black;border-radius: 0.25em;box-sizing: border-box;margin-bottom: 0.5em;}#sk-container-id-3 div.sk-estimator:hover {background-color: #d4ebff;}#sk-container-id-3 div.sk-parallel-item::after {content: \"\";width: 100%;border-bottom: 1px solid gray;flex-grow: 1;}#sk-container-id-3 div.sk-label:hover label.sk-toggleable__label {background-color: #d4ebff;}#sk-container-id-3 div.sk-serial::before {content: \"\";position: absolute;border-left: 1px solid gray;box-sizing: border-box;top: 0;bottom: 0;left: 50%;z-index: 0;}#sk-container-id-3 div.sk-serial {display: flex;flex-direction: column;align-items: center;background-color: white;padding-right: 0.2em;padding-left: 0.2em;position: relative;}#sk-container-id-3 div.sk-item {position: relative;z-index: 1;}#sk-container-id-3 div.sk-parallel {display: flex;align-items: stretch;justify-content: center;background-color: white;position: relative;}#sk-container-id-3 div.sk-item::before, #sk-container-id-3 div.sk-parallel-item::before {content: \"\";position: absolute;border-left: 1px solid gray;box-sizing: border-box;top: 0;bottom: 0;left: 50%;z-index: -1;}#sk-container-id-3 div.sk-parallel-item {display: flex;flex-direction: column;z-index: 1;position: relative;background-color: white;}#sk-container-id-3 div.sk-parallel-item:first-child::after {align-self: flex-end;width: 50%;}#sk-container-id-3 div.sk-parallel-item:last-child::after {align-self: flex-start;width: 50%;}#sk-container-id-3 div.sk-parallel-item:only-child::after {width: 0;}#sk-container-id-3 div.sk-dashed-wrapped {border: 1px dashed gray;margin: 0 0.4em 0.5em 0.4em;box-sizing: border-box;padding-bottom: 0.4em;background-color: white;}#sk-container-id-3 div.sk-label label {font-family: monospace;font-weight: bold;display: inline-block;line-height: 1.2em;}#sk-container-id-3 div.sk-label-container {text-align: center;}#sk-container-id-3 div.sk-container {/* jupyter's `normalize.less` sets `[hidden] { display: none; }` but bootstrap.min.css set `[hidden] { display: none !important; }` so we also need the `!important` here to be able to override the default hidden behavior on the sphinx rendered scikit-learn.org. See: https://github.com/scikit-learn/scikit-learn/issues/21755 */display: inline-block !important;position: relative;}#sk-container-id-3 div.sk-text-repr-fallback {display: none;}</style><div id=\"sk-container-id-3\" class=\"sk-top-container\"><div class=\"sk-text-repr-fallback\"><pre>RandomForestClassifier()</pre><b>In a Jupyter environment, please rerun this cell to show the HTML representation or trust the notebook. <br />On GitHub, the HTML representation is unable to render, please try loading this page with nbviewer.org.</b></div><div class=\"sk-container\" hidden><div class=\"sk-item\"><div class=\"sk-estimator sk-toggleable\"><input class=\"sk-toggleable__control sk-hidden--visually\" id=\"sk-estimator-id-3\" type=\"checkbox\" checked><label for=\"sk-estimator-id-3\" class=\"sk-toggleable__label sk-toggleable__label-arrow\">RandomForestClassifier</label><div class=\"sk-toggleable__content\"><pre>RandomForestClassifier()</pre></div></div></div></div></div>"
            ],
            "text/plain": [
              "RandomForestClassifier()"
            ]
          },
          "execution_count": 48,
          "metadata": {},
          "output_type": "execute_result"
        }
      ],
      "source": [
        "rf = RandomForestClassifier()\n",
        "rf.fit(train_sc, y_train)"
      ]
    },
    {
      "cell_type": "code",
      "execution_count": 49,
      "metadata": {
        "id": "Bq1NlvlB-aHZ"
      },
      "outputs": [],
      "source": [
        "y_pred3 = rf.predict(test_sc)"
      ]
    },
    {
      "cell_type": "code",
      "execution_count": 50,
      "metadata": {
        "colab": {
          "base_uri": "https://localhost:8080/"
        },
        "id": "vG9UagbY-fC-",
        "outputId": "7c59deb2-ecb4-42c5-ec41-96f9238a205e"
      },
      "outputs": [
        {
          "name": "stdout",
          "output_type": "stream",
          "text": [
            "Accuracy: 1.0\n"
          ]
        }
      ],
      "source": [
        "accuracy = accuracy_score(y_test, y_pred3)\n",
        "print(\"Accuracy:\", accuracy)  #1"
      ]
    },
    {
      "cell_type": "code",
      "execution_count": 53,
      "metadata": {
        "colab": {
          "base_uri": "https://localhost:8080/"
        },
        "id": "FuDhgLc9-mdn",
        "outputId": "13ff9c81-edcc-40d0-835b-1efe52e74251"
      },
      "outputs": [
        {
          "name": "stdout",
          "output_type": "stream",
          "text": [
            "0       1\n",
            "1       0\n",
            "2       0\n",
            "3       1\n",
            "4       0\n",
            "       ..\n",
            "8119    0\n",
            "8120    0\n",
            "8121    0\n",
            "8122    1\n",
            "8123    0\n",
            "Name: class, Length: 8124, dtype: int64\n",
            "  cap-shape cap-surface cap-color bruises odor gill-attachment gill-spacing  \\\n",
            "0         x           s         n       t    p               f            c   \n",
            "1         x           s         y       t    a               f            c   \n",
            "\n",
            "  gill-size gill-color stalk-shape  ... stalk-surface-below-ring  \\\n",
            "0         n          k           e  ...                        s   \n",
            "1         b          k           e  ...                        s   \n",
            "\n",
            "  stalk-color-above-ring stalk-color-below-ring veil-type veil-color  \\\n",
            "0                      w                      w         p          w   \n",
            "1                      w                      w         p          w   \n",
            "\n",
            "  ring-number ring-type spore-print-color population habitat  \n",
            "0           o         p                 k          s       u  \n",
            "1           o         p                 n          n       g  \n",
            "\n",
            "[2 rows x 22 columns]\n"
          ]
        }
      ],
      "source": [
        "target = df['class']\n",
        "X = df.drop(columns=['class'])\n",
        "\n",
        "X = pd.get_dummies(X)"
      ]
    },
    {
      "cell_type": "code",
      "execution_count": 54,
      "metadata": {
        "colab": {
          "base_uri": "https://localhost:8080/"
        },
        "id": "VprX39R7-qKq",
        "outputId": "e68881af-6b7e-4c40-9249-659e3232ffb1"
      },
      "outputs": [
        {
          "name": "stderr",
          "output_type": "stream",
          "text": [
            "/usr/local/lib/python3.9/dist-packages/sklearn/cluster/_kmeans.py:870: FutureWarning: The default value of `n_init` will change from 10 to 'auto' in 1.4. Set the value of `n_init` explicitly to suppress the warning\n",
            "  warnings.warn(\n",
            "/usr/local/lib/python3.9/dist-packages/sklearn/cluster/_kmeans.py:870: FutureWarning: The default value of `n_init` will change from 10 to 'auto' in 1.4. Set the value of `n_init` explicitly to suppress the warning\n",
            "  warnings.warn(\n",
            "/usr/local/lib/python3.9/dist-packages/sklearn/cluster/_kmeans.py:870: FutureWarning: The default value of `n_init` will change from 10 to 'auto' in 1.4. Set the value of `n_init` explicitly to suppress the warning\n",
            "  warnings.warn(\n",
            "/usr/local/lib/python3.9/dist-packages/sklearn/cluster/_kmeans.py:870: FutureWarning: The default value of `n_init` will change from 10 to 'auto' in 1.4. Set the value of `n_init` explicitly to suppress the warning\n",
            "  warnings.warn(\n",
            "/usr/local/lib/python3.9/dist-packages/sklearn/cluster/_kmeans.py:870: FutureWarning: The default value of `n_init` will change from 10 to 'auto' in 1.4. Set the value of `n_init` explicitly to suppress the warning\n",
            "  warnings.warn(\n",
            "/usr/local/lib/python3.9/dist-packages/sklearn/cluster/_kmeans.py:870: FutureWarning: The default value of `n_init` will change from 10 to 'auto' in 1.4. Set the value of `n_init` explicitly to suppress the warning\n",
            "  warnings.warn(\n",
            "/usr/local/lib/python3.9/dist-packages/sklearn/cluster/_kmeans.py:870: FutureWarning: The default value of `n_init` will change from 10 to 'auto' in 1.4. Set the value of `n_init` explicitly to suppress the warning\n",
            "  warnings.warn(\n",
            "/usr/local/lib/python3.9/dist-packages/sklearn/cluster/_kmeans.py:870: FutureWarning: The default value of `n_init` will change from 10 to 'auto' in 1.4. Set the value of `n_init` explicitly to suppress the warning\n",
            "  warnings.warn(\n",
            "/usr/local/lib/python3.9/dist-packages/sklearn/cluster/_kmeans.py:870: FutureWarning: The default value of `n_init` will change from 10 to 'auto' in 1.4. Set the value of `n_init` explicitly to suppress the warning\n",
            "  warnings.warn(\n",
            "/usr/local/lib/python3.9/dist-packages/sklearn/cluster/_kmeans.py:870: FutureWarning: The default value of `n_init` will change from 10 to 'auto' in 1.4. Set the value of `n_init` explicitly to suppress the warning\n",
            "  warnings.warn(\n"
          ]
        }
      ],
      "source": [
        "wcss = []\n",
        "\n",
        "for cluster in range(1,11):\n",
        "    kmeans = KMeans(n_clusters = cluster, init = 'k-means++', random_state = 42)\n",
        "    kmeans.fit(X)\n",
        "    wcss.append(kmeans.inertia_)"
      ]
    },
    {
      "cell_type": "code",
      "execution_count": 55,
      "metadata": {
        "colab": {
          "base_uri": "https://localhost:8080/",
          "height": 472
        },
        "id": "byYXy2mN-nAf",
        "outputId": "e4b0ed9e-6c01-4407-ab33-89a880520e1b"
      },
      "outputs": [
        {
          "data": {
            "image/png": "[encoded data removed]",
            "text/plain": [
              "<Figure size 640x480 with 1 Axes>"
            ]
          },
          "metadata": {},
          "output_type": "display_data"
        }
      ],
      "source": [
        "plt.plot(range(1,11), wcss, 'o--')\n",
        "plt.title('Elbow Method')\n",
        "plt.xlabel('No of Clusters')\n",
        "plt.ylabel('WCSS')\n",
        "\n",
        "plt.show()\n",
        "\n",
        "# let's choose k=5"
      ]
    },
    {
      "cell_type": "code",
      "execution_count": 56,
      "metadata": {
        "colab": {
          "base_uri": "https://localhost:8080/"
        },
        "id": "rT5__vXY-w_5",
        "outputId": "5c4b00bb-ba1e-48f6-b6eb-11e9c78dce35"
      },
      "outputs": [
        {
          "name": "stderr",
          "output_type": "stream",
          "text": [
            "/usr/local/lib/python3.9/dist-packages/sklearn/cluster/_kmeans.py:870: FutureWarning: The default value of `n_init` will change from 10 to 'auto' in 1.4. Set the value of `n_init` explicitly to suppress the warning\n",
            "  warnings.warn(\n"
          ]
        },
        {
          "data": {
            "text/plain": [
              "array([0, 0, 0, ..., 0, 2, 0], dtype=int32)"
            ]
          },
          "execution_count": 56,
          "metadata": {},
          "output_type": "execute_result"
        }
      ],
      "source": [
        "kmeans = KMeans(n_clusters = 4, init = 'k-means++', random_state = 42)\n",
        "y = kmeans.fit_predict(X)\n",
        "y"
      ]
    },
    {
      "cell_type": "code",
      "execution_count": 57,
      "metadata": {
        "colab": {
          "base_uri": "https://localhost:8080/",
          "height": 317
        },
        "id": "zLTpUyiT-ztg",
        "outputId": "cb9ed572-c371-42c5-d531-ca5e9950ba14"
      },
      "outputs": [
        {
          "data": {
            "text/html": [
              "\n",
              "  <div id=\"df-3864e16b-b359-4754-85be-0778b900825f\">\n",
              "    <div class=\"colab-df-container\">\n",
              "      <div>\n",
              "<style scoped>\n",
              "    .dataframe tbody tr th:only-of-type {\n",
              "        vertical-align: middle;\n",
              "    }\n",
              "\n",
              "    .dataframe tbody tr th {\n",
              "        vertical-align: top;\n",
              "    }\n",
              "\n",
              "    .dataframe thead th {\n",
              "        text-align: right;\n",
              "    }\n",
              "</style>\n",
              "<table border=\"1\" class=\"dataframe\">\n",
              "  <thead>\n",
              "    <tr style=\"text-align: right;\">\n",
              "      <th></th>\n",
              "      <th>cap-shape_b</th>\n",
              "      <th>cap-shape_c</th>\n",
              "      <th>cap-shape_f</th>\n",
              "      <th>cap-shape_k</th>\n",
              "      <th>cap-shape_s</th>\n",
              "      <th>cap-shape_x</th>\n",
              "      <th>cap-surface_f</th>\n",
              "      <th>cap-surface_g</th>\n",
              "      <th>cap-surface_s</th>\n",
              "      <th>cap-surface_y</th>\n",
              "      <th>...</th>\n",
              "      <th>population_v</th>\n",
              "      <th>population_y</th>\n",
              "      <th>habitat_d</th>\n",
              "      <th>habitat_g</th>\n",
              "      <th>habitat_l</th>\n",
              "      <th>habitat_m</th>\n",
              "      <th>habitat_p</th>\n",
              "      <th>habitat_u</th>\n",
              "      <th>habitat_w</th>\n",
              "      <th>Cluster</th>\n",
              "    </tr>\n",
              "  </thead>\n",
              "  <tbody>\n",
              "    <tr>\n",
              "      <th>0</th>\n",
              "      <td>0</td>\n",
              "      <td>0</td>\n",
              "      <td>0</td>\n",
              "      <td>0</td>\n",
              "      <td>0</td>\n",
              "      <td>1</td>\n",
              "      <td>0</td>\n",
              "      <td>0</td>\n",
              "      <td>1</td>\n",
              "      <td>0</td>\n",
              "      <td>...</td>\n",
              "      <td>0</td>\n",
              "      <td>0</td>\n",
              "      <td>0</td>\n",
              "      <td>0</td>\n",
              "      <td>0</td>\n",
              "      <td>0</td>\n",
              "      <td>0</td>\n",
              "      <td>1</td>\n",
              "      <td>0</td>\n",
              "      <td>0</td>\n",
              "    </tr>\n",
              "    <tr>\n",
              "      <th>1</th>\n",
              "      <td>0</td>\n",
              "      <td>0</td>\n",
              "      <td>0</td>\n",
              "      <td>0</td>\n",
              "      <td>0</td>\n",
              "      <td>1</td>\n",
              "      <td>0</td>\n",
              "      <td>0</td>\n",
              "      <td>1</td>\n",
              "      <td>0</td>\n",
              "      <td>...</td>\n",
              "      <td>0</td>\n",
              "      <td>0</td>\n",
              "      <td>0</td>\n",
              "      <td>1</td>\n",
              "      <td>0</td>\n",
              "      <td>0</td>\n",
              "      <td>0</td>\n",
              "      <td>0</td>\n",
              "      <td>0</td>\n",
              "      <td>0</td>\n",
              "    </tr>\n",
              "    <tr>\n",
              "      <th>2</th>\n",
              "      <td>1</td>\n",
              "      <td>0</td>\n",
              "      <td>0</td>\n",
              "      <td>0</td>\n",
              "      <td>0</td>\n",
              "      <td>0</td>\n",
              "      <td>0</td>\n",
              "      <td>0</td>\n",
              "      <td>1</td>\n",
              "      <td>0</td>\n",
              "      <td>...</td>\n",
              "      <td>0</td>\n",
              "      <td>0</td>\n",
              "      <td>0</td>\n",
              "      <td>0</td>\n",
              "      <td>0</td>\n",
              "      <td>1</td>\n",
              "      <td>0</td>\n",
              "      <td>0</td>\n",
              "      <td>0</td>\n",
              "      <td>0</td>\n",
              "    </tr>\n",
              "    <tr>\n",
              "      <th>3</th>\n",
              "      <td>0</td>\n",
              "      <td>0</td>\n",
              "      <td>0</td>\n",
              "      <td>0</td>\n",
              "      <td>0</td>\n",
              "      <td>1</td>\n",
              "      <td>0</td>\n",
              "      <td>0</td>\n",
              "      <td>0</td>\n",
              "      <td>1</td>\n",
              "      <td>...</td>\n",
              "      <td>0</td>\n",
              "      <td>0</td>\n",
              "      <td>0</td>\n",
              "      <td>0</td>\n",
              "      <td>0</td>\n",
              "      <td>0</td>\n",
              "      <td>0</td>\n",
              "      <td>1</td>\n",
              "      <td>0</td>\n",
              "      <td>0</td>\n",
              "    </tr>\n",
              "    <tr>\n",
              "      <th>4</th>\n",
              "      <td>0</td>\n",
              "      <td>0</td>\n",
              "      <td>0</td>\n",
              "      <td>0</td>\n",
              "      <td>0</td>\n",
              "      <td>1</td>\n",
              "      <td>0</td>\n",
              "      <td>0</td>\n",
              "      <td>1</td>\n",
              "      <td>0</td>\n",
              "      <td>...</td>\n",
              "      <td>0</td>\n",
              "      <td>0</td>\n",
              "      <td>0</td>\n",
              "      <td>1</td>\n",
              "      <td>0</td>\n",
              "      <td>0</td>\n",
              "      <td>0</td>\n",
              "      <td>0</td>\n",
              "      <td>0</td>\n",
              "      <td>0</td>\n",
              "    </tr>\n",
              "  </tbody>\n",
              "</table>\n",
              "<p>5 rows × 118 columns</p>\n",
              "</div>\n",
              "      <button class=\"colab-df-convert\" onclick=\"convertToInteractive('df-3864e16b-b359-4754-85be-0778b900825f')\"\n",
              "              title=\"Convert this dataframe to an interactive table.\"\n",
              "              style=\"display:none;\">\n",
              "        \n",
              "  <svg xmlns=\"http://www.w3.org/2000/svg\" height=\"24px\"viewBox=\"0 0 24 24\"\n",
              "       width=\"24px\">\n",
              "    <path d=\"M0 0h24v24H0V0z\" fill=\"none\"/>\n",
              "    <path d=\"M18.56 5.44l.94 2.06.94-2.06 2.06-.94-2.06-.94-.94-2.06-.94 2.06-2.06.94zm-11 1L8.5 8.5l.94-2.06 2.06-.94-2.06-.94L8.5 2.5l-.94 2.06-2.06.94zm10 10l.94 2.06.94-2.06 2.06-.94-2.06-.94-.94-2.06-.94 2.06-2.06.94z\"/><path d=\"M17.41 7.96l-1.37-1.37c-.4-.4-.92-.59-1.43-.59-.52 0-1.04.2-1.43.59L10.3 9.45l-7.72 7.72c-.78.78-.78 2.05 0 2.83L4 21.41c.39.39.9.59 1.41.59.51 0 1.02-.2 1.41-.59l7.78-7.78 2.81-2.81c.8-.78.8-2.07 0-2.86zM5.41 20L4 18.59l7.72-7.72 1.47 1.35L5.41 20z\"/>\n",
              "  </svg>\n",
              "      </button>\n",
              "      \n",
              "  <style>\n",
              "    .colab-df-container {\n",
              "      display:flex;\n",
              "      flex-wrap:wrap;\n",
              "      gap: 12px;\n",
              "    }\n",
              "\n",
              "    .colab-df-convert {\n",
              "      background-color: #E8F0FE;\n",
              "      border: none;\n",
              "      border-radius: 50%;\n",
              "      cursor: pointer;\n",
              "      display: none;\n",
              "      fill: #1967D2;\n",
              "      height: 32px;\n",
              "      padding: 0 0 0 0;\n",
              "      width: 32px;\n",
              "    }\n",
              "\n",
              "    .colab-df-convert:hover {\n",
              "      background-color: #E2EBFA;\n",
              "      box-shadow: 0px 1px 2px rgba(60, 64, 67, 0.3), 0px 1px 3px 1px rgba(60, 64, 67, 0.15);\n",
              "      fill: #174EA6;\n",
              "    }\n",
              "\n",
              "    [theme=dark] .colab-df-convert {\n",
              "      background-color: #3B4455;\n",
              "      fill: #D2E3FC;\n",
              "    }\n",
              "\n",
              "    [theme=dark] .colab-df-convert:hover {\n",
              "      background-color: #434B5C;\n",
              "      box-shadow: 0px 1px 3px 1px rgba(0, 0, 0, 0.15);\n",
              "      filter: drop-shadow(0px 1px 2px rgba(0, 0, 0, 0.3));\n",
              "      fill: #FFFFFF;\n",
              "    }\n",
              "  </style>\n",
              "\n",
              "      <script>\n",
              "        const buttonEl =\n",
              "          document.querySelector('#df-3864e16b-b359-4754-85be-0778b900825f button.colab-df-convert');\n",
              "        buttonEl.style.display =\n",
              "          google.colab.kernel.accessAllowed ? 'block' : 'none';\n",
              "\n",
              "        async function convertToInteractive(key) {\n",
              "          const element = document.querySelector('#df-3864e16b-b359-4754-85be-0778b900825f');\n",
              "          const dataTable =\n",
              "            await google.colab.kernel.invokeFunction('convertToInteractive',\n",
              "                                                     [key], {});\n",
              "          if (!dataTable) return;\n",
              "\n",
              "          const docLinkHtml = 'Like what you see? Visit the ' +\n",
              "            '<a target=\"_blank\" href=https://colab.research.google.com/notebooks/data_table.ipynb>data table notebook</a>'\n",
              "            + ' to learn more about interactive tables.';\n",
              "          element.innerHTML = '';\n",
              "          dataTable['output_type'] = 'display_data';\n",
              "          await google.colab.output.renderOutput(dataTable, element);\n",
              "          const docLink = document.createElement('div');\n",
              "          docLink.innerHTML = docLinkHtml;\n",
              "          element.appendChild(docLink);\n",
              "        }\n",
              "      </script>\n",
              "    </div>\n",
              "  </div>\n",
              "  "
            ],
            "text/plain": [
              "   cap-shape_b  cap-shape_c  cap-shape_f  cap-shape_k  cap-shape_s  \\\n",
              "0            0            0            0            0            0   \n",
              "1            0            0            0            0            0   \n",
              "2            1            0            0            0            0   \n",
              "3            0            0            0            0            0   \n",
              "4            0            0            0            0            0   \n",
              "\n",
              "   cap-shape_x  cap-surface_f  cap-surface_g  cap-surface_s  cap-surface_y  \\\n",
              "0            1              0              0              1              0   \n",
              "1            1              0              0              1              0   \n",
              "2            0              0              0              1              0   \n",
              "3            1              0              0              0              1   \n",
              "4            1              0              0              1              0   \n",
              "\n",
              "   ...  population_v  population_y  habitat_d  habitat_g  habitat_l  \\\n",
              "0  ...             0             0          0          0          0   \n",
              "1  ...             0             0          0          1          0   \n",
              "2  ...             0             0          0          0          0   \n",
              "3  ...             0             0          0          0          0   \n",
              "4  ...             0             0          0          1          0   \n",
              "\n",
              "   habitat_m  habitat_p  habitat_u  habitat_w  Cluster  \n",
              "0          0          0          1          0        0  \n",
              "1          0          0          0          0        0  \n",
              "2          1          0          0          0        0  \n",
              "3          0          0          1          0        0  \n",
              "4          0          0          0          0        0  \n",
              "\n",
              "[5 rows x 118 columns]"
            ]
          },
          "execution_count": 57,
          "metadata": {},
          "output_type": "execute_result"
        }
      ],
      "source": [
        "X['Cluster'] = kmeans.labels_\n",
        "X.head()"
      ]
    },
    {
      "cell_type": "code",
      "execution_count": 58,
      "metadata": {
        "colab": {
          "base_uri": "https://localhost:8080/"
        },
        "id": "Xj86V5RcDYIr",
        "outputId": "22f0dca5-0f64-4911-a000-abf973a763ef"
      },
      "outputs": [
        {
          "data": {
            "text/plain": [
              "0    3316\n",
              "2    1760\n",
              "3    1752\n",
              "1    1296\n",
              "Name: Cluster, dtype: int64"
            ]
          },
          "execution_count": 58,
          "metadata": {},
          "output_type": "execute_result"
        }
      ],
      "source": [
        "X[\"Cluster\"].value_counts()"
      ]
    },
    {
      "cell_type": "code",
      "execution_count": 120,
      "metadata": {
        "colab": {
          "base_uri": "https://localhost:8080/"
        },
        "id": "KoPhX_FG-2iK",
        "outputId": "161a8c03-c605-4bad-bf12-3effdc232f10"
      },
      "outputs": [
        {
          "name": "stdout",
          "output_type": "stream",
          "text": [
            "Number of observations \n",
            " Train set: 6093\n",
            " Test set: 2031\n"
          ]
        }
      ],
      "source": [
        "train_x, test_x, train_y, test_y = train_test_split(\n",
        "    X, target, test_size=0.25, random_state=42)\n",
        "print(\n",
        "    f\"Number of observations \\n Train set: {len(train_x)}\\n Test set: {len(test_x)}\")"
      ]
    },
    {
      "cell_type": "code",
      "execution_count": 121,
      "metadata": {
        "id": "a0KFxZ3D-8Nw"
      },
      "outputs": [],
      "source": [
        "sc= StandardScaler()\n",
        "train_x = sc. fit(train_x).transform(train_x)\n",
        "test_x = sc.transform(test_x)"
      ]
    },
    {
      "cell_type": "code",
      "execution_count": 122,
      "metadata": {
        "colab": {
          "base_uri": "https://localhost:8080/",
          "height": 75
        },
        "id": "Xt2LYnmu_Dc2",
        "outputId": "5c88f102-8ca6-4c7f-a0b7-b74cfd69cd92"
      },
      "outputs": [
        {
          "data": {
            "text/html": [
              "<style>#sk-container-id-5 {color: black;background-color: white;}#sk-container-id-5 pre{padding: 0;}#sk-container-id-5 div.sk-toggleable {background-color: white;}#sk-container-id-5 label.sk-toggleable__label {cursor: pointer;display: block;width: 100%;margin-bottom: 0;padding: 0.3em;box-sizing: border-box;text-align: center;}#sk-container-id-5 label.sk-toggleable__label-arrow:before {content: \"▸\";float: left;margin-right: 0.25em;color: #696969;}#sk-container-id-5 label.sk-toggleable__label-arrow:hover:before {color: black;}#sk-container-id-5 div.sk-estimator:hover label.sk-toggleable__label-arrow:before {color: black;}#sk-container-id-5 div.sk-toggleable__content {max-height: 0;max-width: 0;overflow: hidden;text-align: left;background-color: #f0f8ff;}#sk-container-id-5 div.sk-toggleable__content pre {margin: 0.2em;color: black;border-radius: 0.25em;background-color: #f0f8ff;}#sk-container-id-5 input.sk-toggleable__control:checked~div.sk-toggleable__content {max-height: 200px;max-width: 100%;overflow: auto;}#sk-container-id-5 input.sk-toggleable__control:checked~label.sk-toggleable__label-arrow:before {content: \"▾\";}#sk-container-id-5 div.sk-estimator input.sk-toggleable__control:checked~label.sk-toggleable__label {background-color: #d4ebff;}#sk-container-id-5 div.sk-label input.sk-toggleable__control:checked~label.sk-toggleable__label {background-color: #d4ebff;}#sk-container-id-5 input.sk-hidden--visually {border: 0;clip: rect(1px 1px 1px 1px);clip: rect(1px, 1px, 1px, 1px);height: 1px;margin: -1px;overflow: hidden;padding: 0;position: absolute;width: 1px;}#sk-container-id-5 div.sk-estimator {font-family: monospace;background-color: #f0f8ff;border: 1px dotted black;border-radius: 0.25em;box-sizing: border-box;margin-bottom: 0.5em;}#sk-container-id-5 div.sk-estimator:hover {background-color: #d4ebff;}#sk-container-id-5 div.sk-parallel-item::after {content: \"\";width: 100%;border-bottom: 1px solid gray;flex-grow: 1;}#sk-container-id-5 div.sk-label:hover label.sk-toggleable__label {background-color: #d4ebff;}#sk-container-id-5 div.sk-serial::before {content: \"\";position: absolute;border-left: 1px solid gray;box-sizing: border-box;top: 0;bottom: 0;left: 50%;z-index: 0;}#sk-container-id-5 div.sk-serial {display: flex;flex-direction: column;align-items: center;background-color: white;padding-right: 0.2em;padding-left: 0.2em;position: relative;}#sk-container-id-5 div.sk-item {position: relative;z-index: 1;}#sk-container-id-5 div.sk-parallel {display: flex;align-items: stretch;justify-content: center;background-color: white;position: relative;}#sk-container-id-5 div.sk-item::before, #sk-container-id-5 div.sk-parallel-item::before {content: \"\";position: absolute;border-left: 1px solid gray;box-sizing: border-box;top: 0;bottom: 0;left: 50%;z-index: -1;}#sk-container-id-5 div.sk-parallel-item {display: flex;flex-direction: column;z-index: 1;position: relative;background-color: white;}#sk-container-id-5 div.sk-parallel-item:first-child::after {align-self: flex-end;width: 50%;}#sk-container-id-5 div.sk-parallel-item:last-child::after {align-self: flex-start;width: 50%;}#sk-container-id-5 div.sk-parallel-item:only-child::after {width: 0;}#sk-container-id-5 div.sk-dashed-wrapped {border: 1px dashed gray;margin: 0 0.4em 0.5em 0.4em;box-sizing: border-box;padding-bottom: 0.4em;background-color: white;}#sk-container-id-5 div.sk-label label {font-family: monospace;font-weight: bold;display: inline-block;line-height: 1.2em;}#sk-container-id-5 div.sk-label-container {text-align: center;}#sk-container-id-5 div.sk-container {/* jupyter's `normalize.less` sets `[hidden] { display: none; }` but bootstrap.min.css set `[hidden] { display: none !important; }` so we also need the `!important` here to be able to override the default hidden behavior on the sphinx rendered scikit-learn.org. See: https://github.com/scikit-learn/scikit-learn/issues/21755 */display: inline-block !important;position: relative;}#sk-container-id-5 div.sk-text-repr-fallback {display: none;}</style><div id=\"sk-container-id-5\" class=\"sk-top-container\"><div class=\"sk-text-repr-fallback\"><pre>RandomForestClassifier()</pre><b>In a Jupyter environment, please rerun this cell to show the HTML representation or trust the notebook. <br />On GitHub, the HTML representation is unable to render, please try loading this page with nbviewer.org.</b></div><div class=\"sk-container\" hidden><div class=\"sk-item\"><div class=\"sk-estimator sk-toggleable\"><input class=\"sk-toggleable__control sk-hidden--visually\" id=\"sk-estimator-id-5\" type=\"checkbox\" checked><label for=\"sk-estimator-id-5\" class=\"sk-toggleable__label sk-toggleable__label-arrow\">RandomForestClassifier</label><div class=\"sk-toggleable__content\"><pre>RandomForestClassifier()</pre></div></div></div></div></div>"
            ],
            "text/plain": [
              "RandomForestClassifier()"
            ]
          },
          "execution_count": 122,
          "metadata": {},
          "output_type": "execute_result"
        }
      ],
      "source": [
        "rf2 = RandomForestClassifier()\n",
        "rf2.fit(train_x, train_y)"
      ]
    },
    {
      "cell_type": "code",
      "execution_count": 62,
      "metadata": {
        "id": "HKSaqwub_HJ2"
      },
      "outputs": [],
      "source": [
        "y_pred4 = rf2.predict(test_x)"
      ]
    },
    {
      "cell_type": "code",
      "execution_count": 63,
      "metadata": {
        "colab": {
          "base_uri": "https://localhost:8080/"
        },
        "id": "RD4hWi3O_Jwa",
        "outputId": "c6eefc41-50a4-4056-e1f0-8be3af61021e"
      },
      "outputs": [
        {
          "name": "stdout",
          "output_type": "stream",
          "text": [
            "Accuracy: 1.0\n"
          ]
        }
      ],
      "source": [
        "accuracy = accuracy_score(test_y, y_pred4)\n",
        "print(\"Accuracy:\", accuracy)  # 1 acc score"
      ]
    },
    {
      "cell_type": "code",
      "execution_count": null,
      "metadata": {
        "id": "W-GeKEBdHJzR"
      },
      "outputs": [],
      "source": []
    },
    {
      "cell_type": "code",
      "execution_count": 123,
      "metadata": {
        "id": "soCfiaz7HJ21"
      },
      "outputs": [],
      "source": [
        "import statsmodels.api as sm"
      ]
    },
    {
      "cell_type": "code",
      "execution_count": null,
      "metadata": {
        "id": "0vk9drgIHJ6U"
      },
      "outputs": [],
      "source": [
        "X_test = sm.add_constant(X_test)\n",
        "X_train = sm.add_constant(X_train)\n",
        "\n",
        "log_reg = sm.Logit(y_train, X_train).fit()"
      ]
    },
    {
      "cell_type": "code",
      "execution_count": 74,
      "metadata": {
        "colab": {
          "base_uri": "https://localhost:8080/",
          "height": 1000
        },
        "id": "mnOKFKBPIk0B",
        "outputId": "74f7755b-32e7-4c37-9266-2f55015c32df"
      },
      "outputs": [
        {
          "data": {
            "text/html": [
              "<table class=\"simpletable\">\n",
              "<caption>Logit Regression Results</caption>\n",
              "<tr>\n",
              "  <th>Dep. Variable:</th>         <td>class</td>      <th>  No. Observations:  </th>   <td>  5686</td>   \n",
              "</tr>\n",
              "<tr>\n",
              "  <th>Model:</th>                 <td>Logit</td>      <th>  Df Residuals:      </th>   <td>  5600</td>   \n",
              "</tr>\n",
              "<tr>\n",
              "  <th>Method:</th>                 <td>MLE</td>       <th>  Df Model:          </th>   <td>    85</td>   \n",
              "</tr>\n",
              "<tr>\n",
              "  <th>Date:</th>            <td>Fri, 21 Apr 2023</td> <th>  Pseudo R-squ.:     </th>   <td> 1.000</td>   \n",
              "</tr>\n",
              "<tr>\n",
              "  <th>Time:</th>                <td>18:45:08</td>     <th>  Log-Likelihood:    </th> <td>-0.00015103</td>\n",
              "</tr>\n",
              "<tr>\n",
              "  <th>converged:</th>             <td>False</td>      <th>  LL-Null:           </th>  <td> -3937.1</td>  \n",
              "</tr>\n",
              "<tr>\n",
              "  <th>Covariance Type:</th>     <td>nonrobust</td>    <th>  LLR p-value:       </th>   <td> 0.000</td>   \n",
              "</tr>\n",
              "</table>\n",
              "<table class=\"simpletable\">\n",
              "<tr>\n",
              "               <td></td>                 <th>coef</th>     <th>std err</th>      <th>z</th>      <th>P>|z|</th>  <th>[0.025</th>    <th>0.975]</th>  \n",
              "</tr>\n",
              "<tr>\n",
              "  <th>const</th>                      <td>  -55.9268</td> <td>      nan</td> <td>      nan</td> <td>   nan</td> <td>      nan</td> <td>      nan</td>\n",
              "</tr>\n",
              "<tr>\n",
              "  <th>cap-shape_c</th>                <td>   -6.8741</td> <td> 1.68e+04</td> <td>   -0.000</td> <td> 1.000</td> <td> -3.3e+04</td> <td>  3.3e+04</td>\n",
              "</tr>\n",
              "<tr>\n",
              "  <th>cap-shape_f</th>                <td>    1.0899</td> <td>  644.428</td> <td>    0.002</td> <td> 0.999</td> <td>-1261.966</td> <td> 1264.146</td>\n",
              "</tr>\n",
              "<tr>\n",
              "  <th>cap-shape_k</th>                <td>    0.7015</td> <td>  673.916</td> <td>    0.001</td> <td> 0.999</td> <td>-1320.149</td> <td> 1321.552</td>\n",
              "</tr>\n",
              "<tr>\n",
              "  <th>cap-shape_s</th>                <td>   11.0090</td> <td> 1.18e+04</td> <td>    0.001</td> <td> 0.999</td> <td>-2.31e+04</td> <td> 2.31e+04</td>\n",
              "</tr>\n",
              "<tr>\n",
              "  <th>cap-shape_x</th>                <td>    0.9017</td> <td>  639.344</td> <td>    0.001</td> <td> 0.999</td> <td>-1252.190</td> <td> 1253.993</td>\n",
              "</tr>\n",
              "<tr>\n",
              "  <th>cap-surface_g</th>              <td>    7.8532</td> <td> 2.93e+04</td> <td>    0.000</td> <td> 1.000</td> <td>-5.74e+04</td> <td> 5.74e+04</td>\n",
              "</tr>\n",
              "<tr>\n",
              "  <th>cap-surface_s</th>              <td>    1.1811</td> <td>  637.952</td> <td>    0.002</td> <td> 0.999</td> <td>-1249.181</td> <td> 1251.543</td>\n",
              "</tr>\n",
              "<tr>\n",
              "  <th>cap-surface_y</th>              <td>    0.2730</td> <td>  564.694</td> <td>    0.000</td> <td> 1.000</td> <td>-1106.507</td> <td> 1107.053</td>\n",
              "</tr>\n",
              "<tr>\n",
              "  <th>cap-color_c</th>                <td>   -3.0138</td> <td> 6.83e+05</td> <td>-4.41e-06</td> <td> 1.000</td> <td>-1.34e+06</td> <td> 1.34e+06</td>\n",
              "</tr>\n",
              "<tr>\n",
              "  <th>cap-color_e</th>                <td>    6.7821</td> <td> 3014.490</td> <td>    0.002</td> <td> 0.998</td> <td>-5901.509</td> <td> 5915.073</td>\n",
              "</tr>\n",
              "<tr>\n",
              "  <th>cap-color_g</th>                <td>    2.0688</td> <td> 2953.785</td> <td>    0.001</td> <td> 0.999</td> <td>-5787.244</td> <td> 5791.381</td>\n",
              "</tr>\n",
              "<tr>\n",
              "  <th>cap-color_n</th>                <td>    5.2162</td> <td> 2989.874</td> <td>    0.002</td> <td> 0.999</td> <td>-5854.829</td> <td> 5865.261</td>\n",
              "</tr>\n",
              "<tr>\n",
              "  <th>cap-color_p</th>                <td>    4.2564</td> <td> 4938.073</td> <td>    0.001</td> <td> 0.999</td> <td>-9674.188</td> <td> 9682.701</td>\n",
              "</tr>\n",
              "<tr>\n",
              "  <th>cap-color_r</th>                <td>   -3.8658</td> <td> 4.08e+05</td> <td>-9.47e-06</td> <td> 1.000</td> <td>   -8e+05</td> <td>    8e+05</td>\n",
              "</tr>\n",
              "<tr>\n",
              "  <th>cap-color_u</th>                <td>   -3.6592</td> <td> 3.68e+05</td> <td>-9.96e-06</td> <td> 1.000</td> <td> -7.2e+05</td> <td>  7.2e+05</td>\n",
              "</tr>\n",
              "<tr>\n",
              "  <th>cap-color_w</th>                <td>    8.0611</td> <td> 4058.365</td> <td>    0.002</td> <td> 0.998</td> <td>-7946.188</td> <td> 7962.310</td>\n",
              "</tr>\n",
              "<tr>\n",
              "  <th>cap-color_y</th>                <td>    3.9022</td> <td> 3036.640</td> <td>    0.001</td> <td> 0.999</td> <td>-5947.804</td> <td> 5955.608</td>\n",
              "</tr>\n",
              "<tr>\n",
              "  <th>bruises_t</th>                  <td>   24.5702</td> <td> 2.97e+09</td> <td> 8.28e-09</td> <td> 1.000</td> <td>-5.81e+09</td> <td> 5.81e+09</td>\n",
              "</tr>\n",
              "<tr>\n",
              "  <th>odor_c</th>                     <td>   70.8529</td> <td> 2.97e+09</td> <td> 2.39e-08</td> <td> 1.000</td> <td>-5.81e+09</td> <td> 5.81e+09</td>\n",
              "</tr>\n",
              "<tr>\n",
              "  <th>odor_f</th>                     <td>   23.7086</td> <td>      nan</td> <td>      nan</td> <td>   nan</td> <td>      nan</td> <td>      nan</td>\n",
              "</tr>\n",
              "<tr>\n",
              "  <th>odor_l</th>                     <td>   -8.5671</td> <td> 3.78e+04</td> <td>   -0.000</td> <td> 1.000</td> <td>-7.42e+04</td> <td> 7.42e+04</td>\n",
              "</tr>\n",
              "<tr>\n",
              "  <th>odor_m</th>                     <td>   58.2361</td> <td> 2.97e+09</td> <td> 1.96e-08</td> <td> 1.000</td> <td>-5.81e+09</td> <td> 5.81e+09</td>\n",
              "</tr>\n",
              "<tr>\n",
              "  <th>odor_n</th>                     <td>  -18.5583</td> <td> 2.97e+09</td> <td>-6.26e-09</td> <td> 1.000</td> <td>-5.81e+09</td> <td> 5.81e+09</td>\n",
              "</tr>\n",
              "<tr>\n",
              "  <th>odor_p</th>                     <td>   11.9666</td> <td> 4.38e+08</td> <td> 2.73e-08</td> <td> 1.000</td> <td>-8.58e+08</td> <td> 8.58e+08</td>\n",
              "</tr>\n",
              "<tr>\n",
              "  <th>odor_s</th>                     <td>   12.0768</td> <td>      nan</td> <td>      nan</td> <td>   nan</td> <td>      nan</td> <td>      nan</td>\n",
              "</tr>\n",
              "<tr>\n",
              "  <th>odor_y</th>                     <td>   27.0753</td> <td>      nan</td> <td>      nan</td> <td>   nan</td> <td>      nan</td> <td>      nan</td>\n",
              "</tr>\n",
              "<tr>\n",
              "  <th>gill-attachment_f</th>          <td>   -0.9323</td> <td> 2.59e+04</td> <td> -3.6e-05</td> <td> 1.000</td> <td>-5.08e+04</td> <td> 5.08e+04</td>\n",
              "</tr>\n",
              "<tr>\n",
              "  <th>gill-spacing_w</th>             <td>    6.5008</td> <td> 4.41e+05</td> <td> 1.47e-05</td> <td> 1.000</td> <td>-8.65e+05</td> <td> 8.65e+05</td>\n",
              "</tr>\n",
              "<tr>\n",
              "  <th>gill-size_n</th>                <td>    2.8919</td> <td> 2.97e+09</td> <td> 9.75e-10</td> <td> 1.000</td> <td>-5.81e+09</td> <td> 5.81e+09</td>\n",
              "</tr>\n",
              "<tr>\n",
              "  <th>gill-color_e</th>               <td>   -9.2300</td> <td>      nan</td> <td>      nan</td> <td>   nan</td> <td>      nan</td> <td>      nan</td>\n",
              "</tr>\n",
              "<tr>\n",
              "  <th>gill-color_g</th>               <td>   -8.4860</td> <td>      nan</td> <td>      nan</td> <td>   nan</td> <td>      nan</td> <td>      nan</td>\n",
              "</tr>\n",
              "<tr>\n",
              "  <th>gill-color_h</th>               <td>   -9.8439</td> <td>      nan</td> <td>      nan</td> <td>   nan</td> <td>      nan</td> <td>      nan</td>\n",
              "</tr>\n",
              "<tr>\n",
              "  <th>gill-color_k</th>               <td>   -9.5617</td> <td>      nan</td> <td>      nan</td> <td>   nan</td> <td>      nan</td> <td>      nan</td>\n",
              "</tr>\n",
              "<tr>\n",
              "  <th>gill-color_n</th>               <td>   -8.5358</td> <td>      nan</td> <td>      nan</td> <td>   nan</td> <td>      nan</td> <td>      nan</td>\n",
              "</tr>\n",
              "<tr>\n",
              "  <th>gill-color_o</th>               <td>   -4.3183</td> <td>      nan</td> <td>      nan</td> <td>   nan</td> <td>      nan</td> <td>      nan</td>\n",
              "</tr>\n",
              "<tr>\n",
              "  <th>gill-color_p</th>               <td>   -9.0045</td> <td>      nan</td> <td>      nan</td> <td>   nan</td> <td>      nan</td> <td>      nan</td>\n",
              "</tr>\n",
              "<tr>\n",
              "  <th>gill-color_r</th>               <td>   -3.9320</td> <td>      nan</td> <td>      nan</td> <td>   nan</td> <td>      nan</td> <td>      nan</td>\n",
              "</tr>\n",
              "<tr>\n",
              "  <th>gill-color_u</th>               <td>   -3.4481</td> <td>      nan</td> <td>      nan</td> <td>   nan</td> <td>      nan</td> <td>      nan</td>\n",
              "</tr>\n",
              "<tr>\n",
              "  <th>gill-color_w</th>               <td>   -7.9287</td> <td>      nan</td> <td>      nan</td> <td>   nan</td> <td>      nan</td> <td>      nan</td>\n",
              "</tr>\n",
              "<tr>\n",
              "  <th>gill-color_y</th>               <td>   -2.1244</td> <td>      nan</td> <td>      nan</td> <td>   nan</td> <td>      nan</td> <td>      nan</td>\n",
              "</tr>\n",
              "<tr>\n",
              "  <th>stalk-shape_t</th>              <td>   -7.6620</td> <td> 4.38e+08</td> <td>-1.75e-08</td> <td> 1.000</td> <td>-8.58e+08</td> <td> 8.58e+08</td>\n",
              "</tr>\n",
              "<tr>\n",
              "  <th>stalk-root_b</th>               <td>  -27.8917</td> <td> 2.97e+09</td> <td> -9.4e-09</td> <td> 1.000</td> <td>-5.81e+09</td> <td> 5.81e+09</td>\n",
              "</tr>\n",
              "<tr>\n",
              "  <th>stalk-root_c</th>               <td>  -28.4104</td> <td> 4.38e+08</td> <td>-6.49e-08</td> <td> 1.000</td> <td>-8.58e+08</td> <td> 8.58e+08</td>\n",
              "</tr>\n",
              "<tr>\n",
              "  <th>stalk-root_e</th>               <td>   17.2658</td> <td> 2.97e+09</td> <td> 5.82e-09</td> <td> 1.000</td> <td>-5.81e+09</td> <td> 5.81e+09</td>\n",
              "</tr>\n",
              "<tr>\n",
              "  <th>stalk-root_r</th>               <td>  -38.8433</td> <td> 3.03e+09</td> <td>-1.28e-08</td> <td> 1.000</td> <td>-5.94e+09</td> <td> 5.94e+09</td>\n",
              "</tr>\n",
              "<tr>\n",
              "  <th>stalk-surface-above-ring_k</th> <td>    2.1117</td> <td> 1518.340</td> <td>    0.001</td> <td> 0.999</td> <td>-2973.780</td> <td> 2978.004</td>\n",
              "</tr>\n",
              "<tr>\n",
              "  <th>stalk-surface-above-ring_s</th> <td>    1.4312</td> <td> 1480.658</td> <td>    0.001</td> <td> 0.999</td> <td>-2900.605</td> <td> 2903.468</td>\n",
              "</tr>\n",
              "<tr>\n",
              "  <th>stalk-surface-above-ring_y</th> <td>   15.0373</td> <td> 5.93e+09</td> <td> 2.53e-09</td> <td> 1.000</td> <td>-1.16e+10</td> <td> 1.16e+10</td>\n",
              "</tr>\n",
              "<tr>\n",
              "  <th>stalk-surface-below-ring_k</th> <td>   -7.2366</td> <td> 5.32e+04</td> <td>   -0.000</td> <td> 1.000</td> <td>-1.04e+05</td> <td> 1.04e+05</td>\n",
              "</tr>\n",
              "<tr>\n",
              "  <th>stalk-surface-below-ring_s</th> <td>    4.4655</td> <td> 5781.019</td> <td>    0.001</td> <td> 0.999</td> <td>-1.13e+04</td> <td> 1.13e+04</td>\n",
              "</tr>\n",
              "<tr>\n",
              "  <th>stalk-surface-below-ring_y</th> <td>   20.1413</td> <td> 2.97e+09</td> <td> 6.79e-09</td> <td> 1.000</td> <td>-5.81e+09</td> <td> 5.81e+09</td>\n",
              "</tr>\n",
              "<tr>\n",
              "  <th>stalk-color-above-ring_e</th>   <td>    6.7706</td> <td> 6.43e+05</td> <td> 1.05e-05</td> <td> 1.000</td> <td>-1.26e+06</td> <td> 1.26e+06</td>\n",
              "</tr>\n",
              "<tr>\n",
              "  <th>stalk-color-above-ring_g</th>   <td>   10.4149</td> <td> 4.51e+05</td> <td> 2.31e-05</td> <td> 1.000</td> <td>-8.84e+05</td> <td> 8.84e+05</td>\n",
              "</tr>\n",
              "<tr>\n",
              "  <th>stalk-color-above-ring_n</th>   <td>    4.8897</td> <td> 8585.092</td> <td>    0.001</td> <td> 1.000</td> <td>-1.68e+04</td> <td> 1.68e+04</td>\n",
              "</tr>\n",
              "<tr>\n",
              "  <th>stalk-color-above-ring_p</th>   <td>   -1.3150</td> <td>  924.432</td> <td>   -0.001</td> <td> 0.999</td> <td>-1813.168</td> <td> 1810.538</td>\n",
              "</tr>\n",
              "<tr>\n",
              "  <th>stalk-color-above-ring_w</th>   <td>   -5.9056</td> <td> 1897.691</td> <td>   -0.003</td> <td> 0.998</td> <td>-3725.311</td> <td> 3713.500</td>\n",
              "</tr>\n",
              "<tr>\n",
              "  <th>stalk-color-above-ring_y</th>   <td>    4.9420</td> <td> 5.98e+09</td> <td> 8.26e-10</td> <td> 1.000</td> <td>-1.17e+10</td> <td> 1.17e+10</td>\n",
              "</tr>\n",
              "<tr>\n",
              "  <th>stalk-color-below-ring_e</th>   <td>   -2.2590</td> <td> 3.31e+05</td> <td>-6.82e-06</td> <td> 1.000</td> <td>-6.49e+05</td> <td> 6.49e+05</td>\n",
              "</tr>\n",
              "<tr>\n",
              "  <th>stalk-color-below-ring_g</th>   <td>   18.9866</td> <td> 1.64e+05</td> <td>    0.000</td> <td> 1.000</td> <td>-3.22e+05</td> <td> 3.22e+05</td>\n",
              "</tr>\n",
              "<tr>\n",
              "  <th>stalk-color-below-ring_n</th>   <td>    4.1594</td> <td> 4701.835</td> <td>    0.001</td> <td> 0.999</td> <td>-9211.268</td> <td> 9219.587</td>\n",
              "</tr>\n",
              "<tr>\n",
              "  <th>stalk-color-below-ring_p</th>   <td>   -0.3837</td> <td>  769.109</td> <td>   -0.000</td> <td> 1.000</td> <td>-1507.810</td> <td> 1507.042</td>\n",
              "</tr>\n",
              "<tr>\n",
              "  <th>stalk-color-below-ring_w</th>   <td>    9.0151</td> <td> 2.08e+04</td> <td>    0.000</td> <td> 1.000</td> <td>-4.07e+04</td> <td> 4.08e+04</td>\n",
              "</tr>\n",
              "<tr>\n",
              "  <th>stalk-color-below-ring_y</th>   <td>   18.7776</td> <td> 5.22e+05</td> <td> 3.59e-05</td> <td> 1.000</td> <td>-1.02e+06</td> <td> 1.02e+06</td>\n",
              "</tr>\n",
              "<tr>\n",
              "  <th>veil-color_o</th>               <td>   -1.0657</td> <td> 1692.981</td> <td>   -0.001</td> <td> 0.999</td> <td>-3319.247</td> <td> 3317.116</td>\n",
              "</tr>\n",
              "<tr>\n",
              "  <th>ring-number_o</th>              <td>   42.0455</td> <td> 2.97e+09</td> <td> 1.42e-08</td> <td> 1.000</td> <td>-5.81e+09</td> <td> 5.81e+09</td>\n",
              "</tr>\n",
              "<tr>\n",
              "  <th>ring-type_f</th>                <td>  -16.5402</td> <td> 4.39e+09</td> <td>-3.76e-09</td> <td> 1.000</td> <td>-8.61e+09</td> <td> 8.61e+09</td>\n",
              "</tr>\n",
              "<tr>\n",
              "  <th>ring-type_l</th>                <td>   27.9111</td> <td> 4.38e+08</td> <td> 6.38e-08</td> <td> 1.000</td> <td>-8.58e+08</td> <td> 8.58e+08</td>\n",
              "</tr>\n",
              "<tr>\n",
              "  <th>ring-type_p</th>                <td>    3.4862</td> <td> 2.97e+09</td> <td> 1.18e-09</td> <td> 1.000</td> <td>-5.81e+09</td> <td> 5.81e+09</td>\n",
              "</tr>\n",
              "<tr>\n",
              "  <th>spore-print-color_h</th>        <td>   25.8341</td> <td>      nan</td> <td>      nan</td> <td>   nan</td> <td>      nan</td> <td>      nan</td>\n",
              "</tr>\n",
              "<tr>\n",
              "  <th>spore-print-color_k</th>        <td>  -11.4747</td> <td> 1.88e+05</td> <td>-6.11e-05</td> <td> 1.000</td> <td>-3.68e+05</td> <td> 3.68e+05</td>\n",
              "</tr>\n",
              "<tr>\n",
              "  <th>spore-print-color_n</th>        <td>  -10.9786</td> <td> 1.88e+05</td> <td>-5.85e-05</td> <td> 1.000</td> <td>-3.68e+05</td> <td> 3.68e+05</td>\n",
              "</tr>\n",
              "<tr>\n",
              "  <th>spore-print-color_o</th>        <td>   -0.1134</td> <td> 1719.463</td> <td>-6.59e-05</td> <td> 1.000</td> <td>-3370.199</td> <td> 3369.973</td>\n",
              "</tr>\n",
              "<tr>\n",
              "  <th>spore-print-color_r</th>        <td>   96.8364</td> <td> 3.03e+09</td> <td>  3.2e-08</td> <td> 1.000</td> <td>-5.94e+09</td> <td> 5.94e+09</td>\n",
              "</tr>\n",
              "<tr>\n",
              "  <th>spore-print-color_u</th>        <td>  -14.9594</td> <td> 1.89e+05</td> <td>-7.93e-05</td> <td> 1.000</td> <td> -3.7e+05</td> <td>  3.7e+05</td>\n",
              "</tr>\n",
              "<tr>\n",
              "  <th>spore-print-color_w</th>        <td>   31.2376</td> <td> 2.97e+09</td> <td> 1.05e-08</td> <td> 1.000</td> <td>-5.81e+09</td> <td> 5.81e+09</td>\n",
              "</tr>\n",
              "<tr>\n",
              "  <th>spore-print-color_y</th>        <td>   -9.1256</td> <td> 1.33e+05</td> <td>-6.86e-05</td> <td> 1.000</td> <td>-2.61e+05</td> <td> 2.61e+05</td>\n",
              "</tr>\n",
              "<tr>\n",
              "  <th>population_c</th>               <td>    3.4880</td> <td> 2.94e+04</td> <td>    0.000</td> <td> 1.000</td> <td>-5.77e+04</td> <td> 5.77e+04</td>\n",
              "</tr>\n",
              "<tr>\n",
              "  <th>population_n</th>               <td>   -1.9659</td> <td> 8504.619</td> <td>   -0.000</td> <td> 1.000</td> <td>-1.67e+04</td> <td> 1.67e+04</td>\n",
              "</tr>\n",
              "<tr>\n",
              "  <th>population_s</th>               <td>   -4.6817</td> <td> 8072.673</td> <td>   -0.001</td> <td> 1.000</td> <td>-1.58e+04</td> <td> 1.58e+04</td>\n",
              "</tr>\n",
              "<tr>\n",
              "  <th>population_v</th>               <td>   -4.2614</td> <td> 8178.029</td> <td>   -0.001</td> <td> 1.000</td> <td> -1.6e+04</td> <td>  1.6e+04</td>\n",
              "</tr>\n",
              "<tr>\n",
              "  <th>population_y</th>               <td>   -4.9593</td> <td> 8178.210</td> <td>   -0.001</td> <td> 1.000</td> <td> -1.6e+04</td> <td>  1.6e+04</td>\n",
              "</tr>\n",
              "<tr>\n",
              "  <th>habitat_g</th>                  <td>    2.0232</td> <td> 2109.283</td> <td>    0.001</td> <td> 0.999</td> <td>-4132.096</td> <td> 4136.142</td>\n",
              "</tr>\n",
              "<tr>\n",
              "  <th>habitat_l</th>                  <td>   -0.4606</td> <td>  462.237</td> <td>   -0.001</td> <td> 0.999</td> <td> -906.429</td> <td>  905.507</td>\n",
              "</tr>\n",
              "<tr>\n",
              "  <th>habitat_m</th>                  <td>    0.5338</td> <td> 2677.640</td> <td>    0.000</td> <td> 1.000</td> <td>-5247.543</td> <td> 5248.611</td>\n",
              "</tr>\n",
              "<tr>\n",
              "  <th>habitat_p</th>                  <td>   -1.3865</td> <td>  408.446</td> <td>   -0.003</td> <td> 0.997</td> <td> -801.925</td> <td>  799.152</td>\n",
              "</tr>\n",
              "<tr>\n",
              "  <th>habitat_u</th>                  <td>   -2.7095</td> <td> 9238.924</td> <td>   -0.000</td> <td> 1.000</td> <td>-1.81e+04</td> <td> 1.81e+04</td>\n",
              "</tr>\n",
              "<tr>\n",
              "  <th>habitat_w</th>                  <td>  -22.1266</td> <td> 5.93e+09</td> <td>-3.73e-09</td> <td> 1.000</td> <td>-1.16e+10</td> <td> 1.16e+10</td>\n",
              "</tr>\n",
              "</table><br/><br/>Complete Separation: The results show that there iscomplete separation.<br/>In this case the Maximum Likelihood Estimator does not exist and the parameters<br/>are not identified."
            ],
            "text/plain": [
              "<class 'statsmodels.iolib.summary.Summary'>\n",
              "\"\"\"\n",
              "                           Logit Regression Results                           \n",
              "==============================================================================\n",
              "Dep. Variable:                  class   No. Observations:                 5686\n",
              "Model:                          Logit   Df Residuals:                     5600\n",
              "Method:                           MLE   Df Model:                           85\n",
              "Date:                Fri, 21 Apr 2023   Pseudo R-squ.:                   1.000\n",
              "Time:                        18:45:08   Log-Likelihood:            -0.00015103\n",
              "converged:                      False   LL-Null:                       -3937.1\n",
              "Covariance Type:            nonrobust   LLR p-value:                     0.000\n",
              "==============================================================================================\n",
              "                                 coef    std err          z      P>|z|      [0.025      0.975]\n",
              "----------------------------------------------------------------------------------------------\n",
              "const                        -55.9268        nan        nan        nan         nan         nan\n",
              "cap-shape_c                   -6.8741   1.68e+04     -0.000      1.000    -3.3e+04     3.3e+04\n",
              "cap-shape_f                    1.0899    644.428      0.002      0.999   -1261.966    1264.146\n",
              "cap-shape_k                    0.7015    673.916      0.001      0.999   -1320.149    1321.552\n",
              "cap-shape_s                   11.0090   1.18e+04      0.001      0.999   -2.31e+04    2.31e+04\n",
              "cap-shape_x                    0.9017    639.344      0.001      0.999   -1252.190    1253.993\n",
              "cap-surface_g                  7.8532   2.93e+04      0.000      1.000   -5.74e+04    5.74e+04\n",
              "cap-surface_s                  1.1811    637.952      0.002      0.999   -1249.181    1251.543\n",
              "cap-surface_y                  0.2730    564.694      0.000      1.000   -1106.507    1107.053\n",
              "cap-color_c                   -3.0138   6.83e+05  -4.41e-06      1.000   -1.34e+06    1.34e+06\n",
              "cap-color_e                    6.7821   3014.490      0.002      0.998   -5901.509    5915.073\n",
              "cap-color_g                    2.0688   2953.785      0.001      0.999   -5787.244    5791.381\n",
              "cap-color_n                    5.2162   2989.874      0.002      0.999   -5854.829    5865.261\n",
              "cap-color_p                    4.2564   4938.073      0.001      0.999   -9674.188    9682.701\n",
              "cap-color_r                   -3.8658   4.08e+05  -9.47e-06      1.000      -8e+05       8e+05\n",
              "cap-color_u                   -3.6592   3.68e+05  -9.96e-06      1.000    -7.2e+05     7.2e+05\n",
              "cap-color_w                    8.0611   4058.365      0.002      0.998   -7946.188    7962.310\n",
              "cap-color_y                    3.9022   3036.640      0.001      0.999   -5947.804    5955.608\n",
              "bruises_t                     24.5702   2.97e+09   8.28e-09      1.000   -5.81e+09    5.81e+09\n",
              "odor_c                        70.8529   2.97e+09   2.39e-08      1.000   -5.81e+09    5.81e+09\n",
              "odor_f                        23.7086        nan        nan        nan         nan         nan\n",
              "odor_l                        -8.5671   3.78e+04     -0.000      1.000   -7.42e+04    7.42e+04\n",
              "odor_m                        58.2361   2.97e+09   1.96e-08      1.000   -5.81e+09    5.81e+09\n",
              "odor_n                       -18.5583   2.97e+09  -6.26e-09      1.000   -5.81e+09    5.81e+09\n",
              "odor_p                        11.9666   4.38e+08   2.73e-08      1.000   -8.58e+08    8.58e+08\n",
              "odor_s                        12.0768        nan        nan        nan         nan         nan\n",
              "odor_y                        27.0753        nan        nan        nan         nan         nan\n",
              "gill-attachment_f             -0.9323   2.59e+04   -3.6e-05      1.000   -5.08e+04    5.08e+04\n",
              "gill-spacing_w                 6.5008   4.41e+05   1.47e-05      1.000   -8.65e+05    8.65e+05\n",
              "gill-size_n                    2.8919   2.97e+09   9.75e-10      1.000   -5.81e+09    5.81e+09\n",
              "gill-color_e                  -9.2300        nan        nan        nan         nan         nan\n",
              "gill-color_g                  -8.4860        nan        nan        nan         nan         nan\n",
              "gill-color_h                  -9.8439        nan        nan        nan         nan         nan\n",
              "gill-color_k                  -9.5617        nan        nan        nan         nan         nan\n",
              "gill-color_n                  -8.5358        nan        nan        nan         nan         nan\n",
              "gill-color_o                  -4.3183        nan        nan        nan         nan         nan\n",
              "gill-color_p                  -9.0045        nan        nan        nan         nan         nan\n",
              "gill-color_r                  -3.9320        nan        nan        nan         nan         nan\n",
              "gill-color_u                  -3.4481        nan        nan        nan         nan         nan\n",
              "gill-color_w                  -7.9287        nan        nan        nan         nan         nan\n",
              "gill-color_y                  -2.1244        nan        nan        nan         nan         nan\n",
              "stalk-shape_t                 -7.6620   4.38e+08  -1.75e-08      1.000   -8.58e+08    8.58e+08\n",
              "stalk-root_b                 -27.8917   2.97e+09   -9.4e-09      1.000   -5.81e+09    5.81e+09\n",
              "stalk-root_c                 -28.4104   4.38e+08  -6.49e-08      1.000   -8.58e+08    8.58e+08\n",
              "stalk-root_e                  17.2658   2.97e+09   5.82e-09      1.000   -5.81e+09    5.81e+09\n",
              "stalk-root_r                 -38.8433   3.03e+09  -1.28e-08      1.000   -5.94e+09    5.94e+09\n",
              "stalk-surface-above-ring_k     2.1117   1518.340      0.001      0.999   -2973.780    2978.004\n",
              "stalk-surface-above-ring_s     1.4312   1480.658      0.001      0.999   -2900.605    2903.468\n",
              "stalk-surface-above-ring_y    15.0373   5.93e+09   2.53e-09      1.000   -1.16e+10    1.16e+10\n",
              "stalk-surface-below-ring_k    -7.2366   5.32e+04     -0.000      1.000   -1.04e+05    1.04e+05\n",
              "stalk-surface-below-ring_s     4.4655   5781.019      0.001      0.999   -1.13e+04    1.13e+04\n",
              "stalk-surface-below-ring_y    20.1413   2.97e+09   6.79e-09      1.000   -5.81e+09    5.81e+09\n",
              "stalk-color-above-ring_e       6.7706   6.43e+05   1.05e-05      1.000   -1.26e+06    1.26e+06\n",
              "stalk-color-above-ring_g      10.4149   4.51e+05   2.31e-05      1.000   -8.84e+05    8.84e+05\n",
              "stalk-color-above-ring_n       4.8897   8585.092      0.001      1.000   -1.68e+04    1.68e+04\n",
              "stalk-color-above-ring_p      -1.3150    924.432     -0.001      0.999   -1813.168    1810.538\n",
              "stalk-color-above-ring_w      -5.9056   1897.691     -0.003      0.998   -3725.311    3713.500\n",
              "stalk-color-above-ring_y       4.9420   5.98e+09   8.26e-10      1.000   -1.17e+10    1.17e+10\n",
              "stalk-color-below-ring_e      -2.2590   3.31e+05  -6.82e-06      1.000   -6.49e+05    6.49e+05\n",
              "stalk-color-below-ring_g      18.9866   1.64e+05      0.000      1.000   -3.22e+05    3.22e+05\n",
              "stalk-color-below-ring_n       4.1594   4701.835      0.001      0.999   -9211.268    9219.587\n",
              "stalk-color-below-ring_p      -0.3837    769.109     -0.000      1.000   -1507.810    1507.042\n",
              "stalk-color-below-ring_w       9.0151   2.08e+04      0.000      1.000   -4.07e+04    4.08e+04\n",
              "stalk-color-below-ring_y      18.7776   5.22e+05   3.59e-05      1.000   -1.02e+06    1.02e+06\n",
              "veil-color_o                  -1.0657   1692.981     -0.001      0.999   -3319.247    3317.116\n",
              "ring-number_o                 42.0455   2.97e+09   1.42e-08      1.000   -5.81e+09    5.81e+09\n",
              "ring-type_f                  -16.5402   4.39e+09  -3.76e-09      1.000   -8.61e+09    8.61e+09\n",
              "ring-type_l                   27.9111   4.38e+08   6.38e-08      1.000   -8.58e+08    8.58e+08\n",
              "ring-type_p                    3.4862   2.97e+09   1.18e-09      1.000   -5.81e+09    5.81e+09\n",
              "spore-print-color_h           25.8341        nan        nan        nan         nan         nan\n",
              "spore-print-color_k          -11.4747   1.88e+05  -6.11e-05      1.000   -3.68e+05    3.68e+05\n",
              "spore-print-color_n          -10.9786   1.88e+05  -5.85e-05      1.000   -3.68e+05    3.68e+05\n",
              "spore-print-color_o           -0.1134   1719.463  -6.59e-05      1.000   -3370.199    3369.973\n",
              "spore-print-color_r           96.8364   3.03e+09    3.2e-08      1.000   -5.94e+09    5.94e+09\n",
              "spore-print-color_u          -14.9594   1.89e+05  -7.93e-05      1.000    -3.7e+05     3.7e+05\n",
              "spore-print-color_w           31.2376   2.97e+09   1.05e-08      1.000   -5.81e+09    5.81e+09\n",
              "spore-print-color_y           -9.1256   1.33e+05  -6.86e-05      1.000   -2.61e+05    2.61e+05\n",
              "population_c                   3.4880   2.94e+04      0.000      1.000   -5.77e+04    5.77e+04\n",
              "population_n                  -1.9659   8504.619     -0.000      1.000   -1.67e+04    1.67e+04\n",
              "population_s                  -4.6817   8072.673     -0.001      1.000   -1.58e+04    1.58e+04\n",
              "population_v                  -4.2614   8178.029     -0.001      1.000    -1.6e+04     1.6e+04\n",
              "population_y                  -4.9593   8178.210     -0.001      1.000    -1.6e+04     1.6e+04\n",
              "habitat_g                      2.0232   2109.283      0.001      0.999   -4132.096    4136.142\n",
              "habitat_l                     -0.4606    462.237     -0.001      0.999    -906.429     905.507\n",
              "habitat_m                      0.5338   2677.640      0.000      1.000   -5247.543    5248.611\n",
              "habitat_p                     -1.3865    408.446     -0.003      0.997    -801.925     799.152\n",
              "habitat_u                     -2.7095   9238.924     -0.000      1.000   -1.81e+04    1.81e+04\n",
              "habitat_w                    -22.1266   5.93e+09  -3.73e-09      1.000   -1.16e+10    1.16e+10\n",
              "==============================================================================================\n",
              "\n",
              "Complete Separation: The results show that there iscomplete separation.\n",
              "In this case the Maximum Likelihood Estimator does not exist and the parameters\n",
              "are not identified.\n",
              "\"\"\""
            ]
          },
          "execution_count": 74,
          "metadata": {},
          "output_type": "execute_result"
        }
      ],
      "source": [
        "print(log_reg.summary())"
      ]
    },
    {
      "cell_type": "code",
      "execution_count": 76,
      "metadata": {
        "id": "azA1LYbNIDpE"
      },
      "outputs": [],
      "source": []
    },
    {
      "cell_type": "code",
      "execution_count": 76,
      "metadata": {
        "id": "hR4SW8eFH6LH"
      },
      "outputs": [],
      "source": []
    },
    {
      "cell_type": "code",
      "execution_count": 117,
      "metadata": {
        "id": "7KwTbX2oHJ-T"
      },
      "outputs": [],
      "source": [
        "df = pd.read_csv(\"mushrooms.csv\")\n",
        "classes = {'p': 1, 'e': 0}\n",
        "df[\"class\"]=df[\"class\"].map(classes)\n",
        "\n",
        "target = df['class']\n",
        "X = df.drop(columns=['class'])\n",
        "X = pd.get_dummies(X)"
      ]
    },
    {
      "cell_type": "code",
      "execution_count": 118,
      "metadata": {
        "id": "Tt2gzfeVHKCM"
      },
      "outputs": [],
      "source": [
        "X_train, X_test, y_train, y_test = train_test_split(X,target ,random_state=42, test_size=0.25, shuffle=True)"
      ]
    },
    {
      "cell_type": "code",
      "execution_count": null,
      "metadata": {
        "id": "I0FiUBYlHKFC"
      },
      "outputs": [],
      "source": [
        "X_test = sm.add_constant(X_test)\n",
        "X_train = sm.add_constant(X_train)\n",
        "\n",
        "# sc = StandardScaler().fit(X_train)\n",
        "# X_train = sc.transform(X_train)\n",
        "# X_test = sc.transform(X_test)\n",
        "\n",
        "log_reg = sm.Logit(y_train, X_train).fit()"
      ]
    },
    {
      "cell_type": "code",
      "execution_count": null,
      "metadata": {
        "id": "mHmVgnFuMlpg"
      },
      "outputs": [],
      "source": [
        "pred = model.predict(X_test)\n",
        "pred = list(map(round,pred))\n",
        "cm = confusion_matrix(y_test, pred) \n",
        "print (\"Confusion Matrix : \\n\", cm) "
      ]
    },
    {
      "cell_type": "code",
      "execution_count": 94,
      "metadata": {
        "colab": {
          "base_uri": "https://localhost:8080/"
        },
        "id": "nOyNYA4-LrDE",
        "outputId": "790ecd48-0332-4658-f92a-f69db17ebffa"
      },
      "outputs": [
        {
          "data": {
            "text/plain": [
              "(6093,)"
            ]
          },
          "execution_count": 94,
          "metadata": {},
          "output_type": "execute_result"
        }
      ],
      "source": [
        "y_train.shape"
      ]
    },
    {
      "cell_type": "code",
      "execution_count": null,
      "metadata": {
        "id": "9-NoqBFhI-0j"
      },
      "outputs": [],
      "source": []
    }
  ],
  "metadata": {
    "colab": {
      "provenance": []
    },
    "kernelspec": {
      "display_name": "Python 3",
      "name": "python3"
    },
    "language_info": {
      "codemirror_mode": {
        "name": "ipython",
        "version": 3
      },
      "file_extension": ".py",
      "mimetype": "text/x-python",
      "name": "python",
      "nbconvert_exporter": "python",
      "pygments_lexer": "ipython3",
      "version": "3.10.10"
    }
  },
  "nbformat": 4,
  "nbformat_minor": 0
}
